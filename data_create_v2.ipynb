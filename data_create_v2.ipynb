{
 "cells": [
  {
   "cell_type": "markdown",
   "metadata": {},
   "source": [
    "# 生データから時系列データとして20000行読み込んでセーブ"
   ]
  },
  {
   "cell_type": "code",
   "execution_count": 1,
   "metadata": {},
   "outputs": [],
   "source": [
    "import numpy as np"
   ]
  },
  {
   "cell_type": "code",
   "execution_count": 2,
   "metadata": {},
   "outputs": [
    {
     "name": "stdout",
     "output_type": "stream",
     "text": [
      "(196072, 500)\n",
      "(196072, 500)\n"
     ]
    }
   ],
   "source": [
    "fold = \"../train_raw_npy/\"\n",
    "# npyファイルからのロード\n",
    "x = np.load(f\"{fold}acc_x_data.npy\")\n",
    "label = np.load(f\"{fold}acc_label_data.npy\")\n",
    "\n",
    "print(x.shape)\n",
    "print(label.shape)"
   ]
  },
  {
   "cell_type": "markdown",
   "metadata": {},
   "source": [
    "データを20000個抽出"
   ]
  },
  {
   "cell_type": "code",
   "execution_count": 8,
   "metadata": {},
   "outputs": [
    {
     "name": "stdout",
     "output_type": "stream",
     "text": [
      "(20000, 500)\n",
      "(20000, 500)\n"
     ]
    }
   ],
   "source": [
    "num_samples = 20000\n",
    "start = 0\n",
    "\n",
    "sampled_x = x[start:start+num_samples]\n",
    "sampled_label = label[start:start+num_samples]\n",
    "\n",
    "print(sampled_x.shape)\n",
    "print(sampled_label.shape)"
   ]
  },
  {
   "cell_type": "markdown",
   "metadata": {},
   "source": [
    "ラベルの次元削減"
   ]
  },
  {
   "cell_type": "code",
   "execution_count": 9,
   "metadata": {},
   "outputs": [],
   "source": [
    "from scipy.stats import mode\n",
    "label_reco = mode(sampled_label, axis=1).mode.flatten()"
   ]
  },
  {
   "cell_type": "code",
   "execution_count": 10,
   "metadata": {},
   "outputs": [
    {
     "name": "stdout",
     "output_type": "stream",
     "text": [
      "7.0    5265\n",
      "8.0    4026\n",
      "6.0    2595\n",
      "4.0    2563\n",
      "1.0    2419\n",
      "2.0    2175\n",
      "3.0     957\n",
      "Name: count, dtype: int64\n"
     ]
    }
   ],
   "source": [
    "import pandas as pd\n",
    "print(pd.Series(label_reco).value_counts())"
   ]
  },
  {
   "cell_type": "code",
   "execution_count": 12,
   "metadata": {},
   "outputs": [
    {
     "name": "stdout",
     "output_type": "stream",
     "text": [
      "(20000, 500)\n",
      "(20000,)\n"
     ]
    }
   ],
   "source": [
    "print(sampled_x.shape)\n",
    "print(label_reco.shape)"
   ]
  },
  {
   "cell_type": "markdown",
   "metadata": {},
   "source": [
    "データ保存"
   ]
  },
  {
   "cell_type": "code",
   "execution_count": 16,
   "metadata": {},
   "outputs": [],
   "source": [
    "fold = \"../train_0to20000/\"\n",
    "\n",
    "np.save(f\"{fold}x.npy\", sampled_x)\n",
    "np.save(f\"{fold}label.npy\", label_reco)"
   ]
  },
  {
   "cell_type": "code",
   "execution_count": null,
   "metadata": {},
   "outputs": [],
   "source": []
  }
 ],
 "metadata": {
  "kernelspec": {
   "display_name": "labo_Okita",
   "language": "python",
   "name": "python3"
  },
  "language_info": {
   "codemirror_mode": {
    "name": "ipython",
    "version": 3
   },
   "file_extension": ".py",
   "mimetype": "text/x-python",
   "name": "python",
   "nbconvert_exporter": "python",
   "pygments_lexer": "ipython3",
   "version": "3.10.14"
  }
 },
 "nbformat": 4,
 "nbformat_minor": 2
}
