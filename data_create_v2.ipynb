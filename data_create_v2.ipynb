{
 "cells": [
  {
   "cell_type": "markdown",
   "metadata": {},
   "source": [
    "# 生データから時系列データとして20000行読み込んでセーブ"
   ]
  },
  {
   "cell_type": "code",
   "execution_count": 1,
   "metadata": {},
   "outputs": [],
   "source": [
    "import numpy as np"
   ]
  },
  {
   "cell_type": "code",
   "execution_count": 2,
   "metadata": {},
   "outputs": [],
   "source": [
    "fold = \"../validation_raw/\""
   ]
  },
  {
   "cell_type": "code",
   "execution_count": 5,
   "metadata": {},
   "outputs": [
    {
     "name": "stdout",
     "output_type": "stream",
     "text": [
      "(28789, 500)\n",
      "(28789, 500)\n"
     ]
    }
   ],
   "source": [
    "x = np.loadtxt(f\"{fold}Acc_x.txt\", delimiter=',')\n",
    "label = np.loadtxt(f\"{fold}Label.txt\", delimiter=' ')\n",
    "\n",
    "print(x.shape)\n",
    "print(label.shape)"
   ]
  },
  {
   "cell_type": "code",
   "execution_count": 7,
   "metadata": {},
   "outputs": [],
   "source": [
    "fold = \"../validation_raw_npy/\"\n",
    "np.save(f\"{fold}Acc_x.npy\", x)\n",
    "np.save(f\"{fold}Label.npy\", label)"
   ]
  },
  {
   "cell_type": "code",
   "execution_count": 20,
   "metadata": {},
   "outputs": [
    {
     "name": "stdout",
     "output_type": "stream",
     "text": [
      "(20000, 500)\n",
      "(20000, 500)\n"
     ]
    }
   ],
   "source": [
    "fold = \"../train_random_20000/\"\n",
    "# npyファイルからのロード\n",
    "x = np.load(f\"{fold}x.npy\")\n",
    "label = np.load(f\"{fold}label.npy\")\n",
    "\n",
    "print(x.shape)\n",
    "print(label.shape)"
   ]
  },
  {
   "cell_type": "markdown",
   "metadata": {},
   "source": [
    "データを20000個抽出"
   ]
  },
  {
   "cell_type": "code",
   "execution_count": 9,
   "metadata": {},
   "outputs": [
    {
     "name": "stdout",
     "output_type": "stream",
     "text": [
      "(20000, 500)\n",
      "(20000, 500)\n"
     ]
    }
   ],
   "source": [
    "num_samples = 20000\n",
    "start = 5000\n",
    "\n",
    "sampled_x = x[start:start+num_samples]\n",
    "sampled_label = label[start:start+num_samples]\n",
    "\n",
    "print(sampled_x.shape)\n",
    "print(sampled_label.shape)"
   ]
  },
  {
   "cell_type": "markdown",
   "metadata": {},
   "source": [
    "ラベルの次元削減"
   ]
  },
  {
   "cell_type": "code",
   "execution_count": 21,
   "metadata": {},
   "outputs": [],
   "source": [
    "from scipy.stats import mode\n",
    "label_reco = mode(label, axis=1).mode.flatten()"
   ]
  },
  {
   "cell_type": "code",
   "execution_count": 22,
   "metadata": {},
   "outputs": [
    {
     "name": "stdout",
     "output_type": "stream",
     "text": [
      "7.0    3261\n",
      "5.0    3193\n",
      "6.0    2924\n",
      "1.0    2507\n",
      "2.0    2491\n",
      "4.0    2422\n",
      "8.0    2349\n",
      "3.0     853\n",
      "Name: count, dtype: int64\n"
     ]
    }
   ],
   "source": [
    "import pandas as pd\n",
    "print(pd.Series(label_reco).value_counts())"
   ]
  },
  {
   "cell_type": "code",
   "execution_count": 23,
   "metadata": {},
   "outputs": [
    {
     "name": "stdout",
     "output_type": "stream",
     "text": [
      "(20000, 500)\n",
      "(20000,)\n"
     ]
    }
   ],
   "source": [
    "print(x.shape)\n",
    "print(label_reco.shape)"
   ]
  },
  {
   "cell_type": "markdown",
   "metadata": {},
   "source": [
    "データ保存"
   ]
  },
  {
   "cell_type": "code",
   "execution_count": 24,
   "metadata": {},
   "outputs": [],
   "source": [
    "fold = \"../train_random_20000/\"\n",
    "\n",
    "np.save(f\"{fold}x.npy\", x)\n",
    "np.save(f\"{fold}label.npy\", label_reco)"
   ]
  },
  {
   "cell_type": "code",
   "execution_count": 25,
   "metadata": {},
   "outputs": [
    {
     "name": "stdout",
     "output_type": "stream",
     "text": [
      "(20000, 500)\n",
      "(20000,)\n"
     ]
    }
   ],
   "source": [
    "# npyファイルからのロード\n",
    "x = np.load(f\"{fold}x.npy\")\n",
    "label = np.load(f\"{fold}label.npy\")\n",
    "\n",
    "print(x.shape)\n",
    "print(label.shape)"
   ]
  },
  {
   "cell_type": "code",
   "execution_count": null,
   "metadata": {},
   "outputs": [],
   "source": []
  }
 ],
 "metadata": {
  "kernelspec": {
   "display_name": "labo_Okita",
   "language": "python",
   "name": "python3"
  },
  "language_info": {
   "codemirror_mode": {
    "name": "ipython",
    "version": 3
   },
   "file_extension": ".py",
   "mimetype": "text/x-python",
   "name": "python",
   "nbconvert_exporter": "python",
   "pygments_lexer": "ipython3",
   "version": "3.10.14"
  }
 },
 "nbformat": 4,
 "nbformat_minor": 2
}
