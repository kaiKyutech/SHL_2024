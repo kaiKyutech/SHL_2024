{
 "cells": [
  {
   "cell_type": "markdown",
   "metadata": {},
   "source": [
    "データロード"
   ]
  },
  {
   "cell_type": "code",
   "execution_count": 3,
   "metadata": {},
   "outputs": [
    {
     "name": "stdout",
     "output_type": "stream",
     "text": [
      "(196072, 3, 500)\n"
     ]
    }
   ],
   "source": [
    "import numpy as np\n",
    "fold = \"../train_raw/\"\n",
    "gyr_x = np.loadtxt(f\"{fold}Gyr_x.txt\")#, delimiter=\",\")\n",
    "gyr_y = np.loadtxt(f\"{fold}Gyr_y.txt\")#, delimiter=\",\")\n",
    "gyr_z = np.loadtxt(f\"{fold}Gyr_z.txt\")#, delimiter=\",\")\n",
    "gyr = np.stack([gyr_x, gyr_y, gyr_z], axis=1)\n",
    "print(gyr.shape)"
   ]
  },
  {
   "cell_type": "code",
   "execution_count": 4,
   "metadata": {},
   "outputs": [
    {
     "name": "stdout",
     "output_type": "stream",
     "text": [
      "(196072, 3, 500)\n"
     ]
    }
   ],
   "source": [
    "Mag_x = np.loadtxt(f\"{fold}Mag_x.txt\")#, delimiter=\",\")\n",
    "Mag_y = np.loadtxt(f\"{fold}Mag_y.txt\")#, delimiter=\",\")\n",
    "Mag_z = np.loadtxt(f\"{fold}Mag_z.txt\")#, delimiter=\",\")\n",
    "mag = np.stack([Mag_x, Mag_y, Mag_z], axis=1)\n",
    "print(mag.shape)"
   ]
  },
  {
   "cell_type": "code",
   "execution_count": 4,
   "metadata": {},
   "outputs": [
    {
     "name": "stdout",
     "output_type": "stream",
     "text": [
      "(28789, 500)\n"
     ]
    }
   ],
   "source": [
    "label = np.loadtxt(f\"{fold}Label.txt\")\n",
    "print(label.shape)"
   ]
  },
  {
   "cell_type": "markdown",
   "metadata": {},
   "source": [
    "numpyセーブ"
   ]
  },
  {
   "cell_type": "code",
   "execution_count": 5,
   "metadata": {},
   "outputs": [],
   "source": [
    "np.save(\"../train_raw_npy/gyr_xyz.npy\", gyr)"
   ]
  },
  {
   "cell_type": "code",
   "execution_count": 6,
   "metadata": {},
   "outputs": [],
   "source": [
    "np.save(\"../train_raw_npy/mag_xyz.npy\", mag)"
   ]
  },
  {
   "cell_type": "code",
   "execution_count": 8,
   "metadata": {},
   "outputs": [
    {
     "data": {
      "text/plain": [
       "(28789, 500)"
      ]
     },
     "execution_count": 8,
     "metadata": {},
     "output_type": "execute_result"
    }
   ],
   "source": [
    "label.shape"
   ]
  },
  {
   "cell_type": "code",
   "execution_count": 9,
   "metadata": {},
   "outputs": [
    {
     "data": {
      "text/plain": [
       "(28789,)"
      ]
     },
     "execution_count": 9,
     "metadata": {},
     "output_type": "execute_result"
    }
   ],
   "source": [
    "from scipy import stats\n",
    "sampled_label = stats.mode(label, axis=1).mode\n",
    "sampled_label = sampled_label.flatten()\n",
    "sampled_label.shape"
   ]
  },
  {
   "cell_type": "code",
   "execution_count": 10,
   "metadata": {},
   "outputs": [],
   "source": [
    "np.save(\"../validation_raw_npy/sampled_label.npy\", sampled_label)"
   ]
  },
  {
   "cell_type": "code",
   "execution_count": null,
   "metadata": {},
   "outputs": [],
   "source": []
  }
 ],
 "metadata": {
  "kernelspec": {
   "display_name": "labo_Okita",
   "language": "python",
   "name": "python3"
  },
  "language_info": {
   "codemirror_mode": {
    "name": "ipython",
    "version": 3
   },
   "file_extension": ".py",
   "mimetype": "text/x-python",
   "name": "python",
   "nbconvert_exporter": "python",
   "pygments_lexer": "ipython3",
   "version": "3.10.14"
  }
 },
 "nbformat": 4,
 "nbformat_minor": 2
}
