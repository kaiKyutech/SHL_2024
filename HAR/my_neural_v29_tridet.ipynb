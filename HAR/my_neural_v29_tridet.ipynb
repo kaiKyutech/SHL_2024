{
 "cells": [
  {
   "cell_type": "code",
   "execution_count": 2,
   "metadata": {},
   "outputs": [
    {
     "name": "stdout",
     "output_type": "stream",
     "text": [
      "Using cuda device: 0\n"
     ]
    }
   ],
   "source": [
    "import os\n",
    "import numpy as np\n",
    "import pandas as pd\n",
    "import matplotlib.pyplot as plt\n",
    "import torch\n",
    "import torch.nn as nn\n",
    "import torch.nn.functional as F\n",
    "import torch.optim as optim\n",
    "import torch.backends.cudnn as cudnn\n",
    "from sklearn import metrics\n",
    "from sklearn.preprocessing import LabelEncoder\n",
    "from tqdm.auto import tqdm\n",
    "from torch.utils.data import DataLoader, TensorDataset\n",
    "\n",
    "# For reproducibility\n",
    "np.random.seed(42)\n",
    "torch.manual_seed(42) # 乱数生成シード\n",
    "cudnn.benchmark = True\n",
    "\n",
    "# Grab a GPU if there is one\n",
    "if torch.cuda.is_available():\n",
    "    device = torch.device(\"cuda\")\n",
    "    print(\"Using {} device: {}\".format(device, torch.cuda.current_device()))\n",
    "else:\n",
    "    device = torch.device(\"cpu\")\n",
    "    print(\"Using {}\".format(device))"
   ]
  },
  {
   "cell_type": "code",
   "execution_count": 26,
   "metadata": {},
   "outputs": [
    {
     "name": "stdout",
     "output_type": "stream",
     "text": [
      "(196072, 3, 500)\n",
      "(196072, 1, 500)\n",
      "(196072, 4, 500)\n",
      "[[[  3.859912   3.864048   3.897538 ...  -5.213781  -4.404522  -4.079691]\n",
      "  [  1.117648   0.986799   0.96659  ...  -2.146069  -2.34677   -2.528258]\n",
      "  [  8.659125   8.763011   8.724693 ...  -8.829224 -10.52848  -11.961449]\n",
      "  [  4.         4.         4.       ...   4.         4.         4.      ]]\n",
      "\n",
      " [[ -3.881881  -3.832097  -4.384022 ...  -3.763638  -3.744682  -3.810714]\n",
      "  [ -2.396385  -1.951583  -1.114181 ...  -1.695331  -1.790109  -1.838136]\n",
      "  [-12.083903 -11.001618 -10.145183 ...  -9.403623  -9.081378  -9.258451]\n",
      "  [  4.         4.         4.       ...   4.         4.         4.      ]]\n",
      "\n",
      " [[ -4.041412  -4.346396  -4.792192 ...   4.79784    4.74148    4.872849]\n",
      "  [ -1.742979  -1.447526  -0.83161  ...  -0.029058  -0.160565  -0.257327]\n",
      "  [ -9.749189 -10.292441 -10.408511 ... -10.046281 -10.13082  -10.538704]\n",
      "  [  4.         4.         4.       ...   4.         4.         4.      ]]\n",
      "\n",
      " ...\n",
      "\n",
      " [[ -1.7261    -1.482551  -1.129425 ...  -1.695095  -1.834916  -2.028651]\n",
      "  [ -0.352516  -0.286686  -0.274039 ...  -1.688807  -1.72834   -1.347495]\n",
      "  [-10.021889  -9.782553  -9.508422 ...  -8.7036    -8.603667  -8.729152]\n",
      "  [  5.         5.         5.       ...   5.         5.         5.      ]]\n",
      "\n",
      " [[ -1.956792  -1.81375   -1.831314 ...  -2.151044  -2.245139  -2.184772]\n",
      "  [ -0.72      -0.278381  -0.217122 ...  -0.991319  -0.884813  -0.873506]\n",
      "  [ -9.133945  -9.671267 -10.418997 ...  -9.322436  -9.327391  -9.23179 ]\n",
      "  [  5.         5.         5.       ...   5.         5.         5.      ]]\n",
      "\n",
      " [[ -1.744091  -1.16833   -0.890818 ...  -1.425721  -2.068341  -2.127603]\n",
      "  [ -0.88867   -0.782788  -0.704317 ...   0.095833  -0.211378  -0.282535]\n",
      "  [ -9.315005  -9.703006  -9.860414 ...  -9.613124  -8.910123  -9.222465]\n",
      "  [  5.         5.         5.       ...   5.         5.         5.      ]]]\n"
     ]
    }
   ],
   "source": [
    "fold = \"../../train_raw_npy/\"\n",
    "acc_xyz = np.load(f\"{fold}acc_xyz.npy\")\n",
    "label = np.load(f\"{fold}label.npy\")\n",
    "label = label.reshape(-1,1,500)\n",
    "print(acc_xyz.shape)\n",
    "print(label.shape)\n",
    "xyz_label = np.concatenate([acc_xyz, label], axis=1)\n",
    "print(xyz_label.shape)\n",
    "print(xyz_label)"
   ]
  },
  {
   "cell_type": "code",
   "execution_count": 27,
   "metadata": {},
   "outputs": [
    {
     "name": "stdout",
     "output_type": "stream",
     "text": [
      "(10000000, 4)\n",
      "[[ 4.078755  6.114164 -8.679988  4.      ]\n",
      " [ 4.484264  3.687497 -7.649245  4.      ]\n",
      " [ 4.940645  3.558285 -7.373154  4.      ]\n",
      " ...\n",
      " [-9.378911 -0.699875 -3.37502   6.      ]\n",
      " [-9.504357 -0.83574  -3.453182  6.      ]\n",
      " [-9.749665 -0.80149  -3.371619  6.      ]]\n"
     ]
    }
   ],
   "source": [
    "xyz_label_20000 = xyz_label[-30000:-10000,:,:]\n",
    "xyz_label_20000 = xyz_label_20000.transpose(0,2,1).reshape(-1,4)\n",
    "print(xyz_label_20000.shape)\n",
    "print(xyz_label_20000)"
   ]
  },
  {
   "cell_type": "code",
   "execution_count": 28,
   "metadata": {},
   "outputs": [],
   "source": [
    "df = pd.DataFrame(xyz_label_20000, columns=[\"acc_x\", \"acc_y\", \"acc_z\", \"label\"])\n",
    "\n",
    "df[\"label\"] = df[\"label\"].astype(int).astype(str)\n",
    "\n",
    "df.to_csv(f\"{fold}first.csv\", index=False)"
   ]
  },
  {
   "cell_type": "code",
   "execution_count": 29,
   "metadata": {},
   "outputs": [
    {
     "name": "stdout",
     "output_type": "stream",
     "text": [
      "データがsbj_0.csvに保存されました。\n",
      "データがsbj_1.csvに保存されました。\n",
      "データがsbj_2.csvに保存されました。\n",
      "データがsbj_3.csvに保存されました。\n",
      "データがsbj_4.csvに保存されました。\n",
      "データがsbj_5.csvに保存されました。\n",
      "データがsbj_6.csvに保存されました。\n",
      "データがsbj_7.csvに保存されました。\n",
      "データがsbj_8.csvに保存されました。\n",
      "データがsbj_9.csvに保存されました。\n"
     ]
    }
   ],
   "source": [
    "# データを10個のCSVファイルに分割して保存\n",
    "num_files = 10\n",
    "rows_per_file = 1000000\n",
    "\n",
    "for i in range(num_files):\n",
    "    start_row = i * rows_per_file\n",
    "    end_row = start_row + rows_per_file\n",
    "    subset = xyz_label_20000[start_row:end_row]\n",
    "    \n",
    "    df = pd.DataFrame(subset, columns=[\"acc_x\", \"acc_y\", \"acc_z\", \"label\"])\n",
    "    \n",
    "    # sbj_id列を追加\n",
    "    df[\"sbj_id\"] = i\n",
    "    \n",
    "    # label列を文字列に変換\n",
    "    df[\"label\"] = df[\"label\"].astype(int).astype(str)\n",
    "    \n",
    "    # 列の順序を変更\n",
    "    df = df[[\"sbj_id\", \"acc_x\", \"acc_y\", \"acc_z\", \"label\"]]\n",
    "    \n",
    "    # CSVファイルに保存\n",
    "    csv_file_path = f\"sbj_{i}.csv\"\n",
    "    df.to_csv(csv_file_path, index=False)\n",
    "\n",
    "    print(f\"データが{csv_file_path}に保存されました。\")"
   ]
  }
 ],
 "metadata": {
  "kernelspec": {
   "display_name": "labo_Okita02",
   "language": "python",
   "name": "python3"
  },
  "language_info": {
   "codemirror_mode": {
    "name": "ipython",
    "version": 3
   },
   "file_extension": ".py",
   "mimetype": "text/x-python",
   "name": "python",
   "nbconvert_exporter": "python",
   "pygments_lexer": "ipython3",
   "version": "3.9.19"
  }
 },
 "nbformat": 4,
 "nbformat_minor": 2
}
