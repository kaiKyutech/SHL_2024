{
 "cells": [
  {
   "cell_type": "markdown",
   "metadata": {},
   "source": [
    "TST(time series transformer)の定義と学習  \n",
    "time series transformerについて  \n",
    "https://huggingface.co/blog/time-series-transformers  \n"
   ]
  },
  {
   "cell_type": "code",
   "execution_count": 2,
   "metadata": {},
   "outputs": [
    {
     "name": "stdout",
     "output_type": "stream",
     "text": [
      "TimeSeriesTransformerModel(\n",
      "  (scaler): TimeSeriesMeanScaler()\n",
      "  (encoder): TimeSeriesTransformerEncoder(\n",
      "    (value_embedding): TimeSeriesValueEmbedding(\n",
      "      (value_projection): Linear(in_features=9, out_features=64, bias=False)\n",
      "    )\n",
      "    (embed_positions): TimeSeriesSinusoidalPositionalEmbedding(24, 64)\n",
      "    (layers): ModuleList(\n",
      "      (0-1): 2 x TimeSeriesTransformerEncoderLayer(\n",
      "        (self_attn): TimeSeriesTransformerAttention(\n",
      "          (k_proj): Linear(in_features=64, out_features=64, bias=True)\n",
      "          (v_proj): Linear(in_features=64, out_features=64, bias=True)\n",
      "          (q_proj): Linear(in_features=64, out_features=64, bias=True)\n",
      "          (out_proj): Linear(in_features=64, out_features=64, bias=True)\n",
      "        )\n",
      "        (self_attn_layer_norm): LayerNorm((64,), eps=1e-05, elementwise_affine=True)\n",
      "        (activation_fn): GELUActivation()\n",
      "        (fc1): Linear(in_features=64, out_features=32, bias=True)\n",
      "        (fc2): Linear(in_features=32, out_features=64, bias=True)\n",
      "        (final_layer_norm): LayerNorm((64,), eps=1e-05, elementwise_affine=True)\n",
      "      )\n",
      "    )\n",
      "    (layernorm_embedding): LayerNorm((64,), eps=1e-05, elementwise_affine=True)\n",
      "  )\n",
      "  (decoder): TimeSeriesTransformerDecoder(\n",
      "    (value_embedding): TimeSeriesValueEmbedding(\n",
      "      (value_projection): Linear(in_features=9, out_features=64, bias=False)\n",
      "    )\n",
      "    (embed_positions): TimeSeriesSinusoidalPositionalEmbedding(24, 64)\n",
      "    (layers): ModuleList(\n",
      "      (0-1): 2 x TimeSeriesTransformerDecoderLayer(\n",
      "        (self_attn): TimeSeriesTransformerAttention(\n",
      "          (k_proj): Linear(in_features=64, out_features=64, bias=True)\n",
      "          (v_proj): Linear(in_features=64, out_features=64, bias=True)\n",
      "          (q_proj): Linear(in_features=64, out_features=64, bias=True)\n",
      "          (out_proj): Linear(in_features=64, out_features=64, bias=True)\n",
      "        )\n",
      "        (activation_fn): GELUActivation()\n",
      "        (self_attn_layer_norm): LayerNorm((64,), eps=1e-05, elementwise_affine=True)\n",
      "        (encoder_attn): TimeSeriesTransformerAttention(\n",
      "          (k_proj): Linear(in_features=64, out_features=64, bias=True)\n",
      "          (v_proj): Linear(in_features=64, out_features=64, bias=True)\n",
      "          (q_proj): Linear(in_features=64, out_features=64, bias=True)\n",
      "          (out_proj): Linear(in_features=64, out_features=64, bias=True)\n",
      "        )\n",
      "        (encoder_attn_layer_norm): LayerNorm((64,), eps=1e-05, elementwise_affine=True)\n",
      "        (fc1): Linear(in_features=64, out_features=32, bias=True)\n",
      "        (fc2): Linear(in_features=32, out_features=64, bias=True)\n",
      "        (final_layer_norm): LayerNorm((64,), eps=1e-05, elementwise_affine=True)\n",
      "      )\n",
      "    )\n",
      "    (layernorm_embedding): LayerNorm((64,), eps=1e-05, elementwise_affine=True)\n",
      "  )\n",
      ")\n"
     ]
    }
   ],
   "source": [
    "# デコーダついてるけど使える？\n",
    "from transformers import TimeSeriesTransformerConfig, TimeSeriesTransformerModel\n",
    "\n",
    "# Initializing a Time Series Transformer configuration with 12 time steps for prediction\n",
    "configuration = TimeSeriesTransformerConfig(prediction_length=12)\n",
    "\n",
    "# Randomly initializing a model (with random weights) from the configuration\n",
    "model = TimeSeriesTransformerModel(configuration)\n",
    "\n",
    "# Accessing the model configuration\n",
    "configuration = model.config\n",
    "\n",
    "print(model)"
   ]
  },
  {
   "cell_type": "code",
   "execution_count": null,
   "metadata": {},
   "outputs": [],
   "source": []
  }
 ],
 "metadata": {
  "kernelspec": {
   "display_name": "labo_Okita",
   "language": "python",
   "name": "python3"
  },
  "language_info": {
   "codemirror_mode": {
    "name": "ipython",
    "version": 3
   },
   "file_extension": ".py",
   "mimetype": "text/x-python",
   "name": "python",
   "nbconvert_exporter": "python",
   "pygments_lexer": "ipython3",
   "version": "3.10.14"
  }
 },
 "nbformat": 4,
 "nbformat_minor": 2
}
