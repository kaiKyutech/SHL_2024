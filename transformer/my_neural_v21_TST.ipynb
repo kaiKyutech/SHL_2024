{
 "cells": [
  {
   "cell_type": "markdown",
   "metadata": {},
   "source": [
    "TST(time series transformer)の定義と学習  \n",
    "time series transformerについて  \n",
    "https://huggingface.co/blog/time-series-transformers  \n"
   ]
  },
  {
   "cell_type": "code",
   "execution_count": 11,
   "metadata": {},
   "outputs": [
    {
     "name": "stdout",
     "output_type": "stream",
     "text": [
      "TimeSeriesTransformerModel(\n",
      "  (scaler): TimeSeriesMeanScaler()\n",
      "  (encoder): TimeSeriesTransformerEncoder(\n",
      "    (value_embedding): TimeSeriesValueEmbedding(\n",
      "      (value_projection): Linear(in_features=9, out_features=64, bias=False)\n",
      "    )\n",
      "    (embed_positions): TimeSeriesSinusoidalPositionalEmbedding(24, 64)\n",
      "    (layers): ModuleList(\n",
      "      (0-1): 2 x TimeSeriesTransformerEncoderLayer(\n",
      "        (self_attn): TimeSeriesTransformerAttention(\n",
      "          (k_proj): Linear(in_features=64, out_features=64, bias=True)\n",
      "          (v_proj): Linear(in_features=64, out_features=64, bias=True)\n",
      "          (q_proj): Linear(in_features=64, out_features=64, bias=True)\n",
      "          (out_proj): Linear(in_features=64, out_features=64, bias=True)\n",
      "        )\n",
      "        (self_attn_layer_norm): LayerNorm((64,), eps=1e-05, elementwise_affine=True)\n",
      "        (activation_fn): GELUActivation()\n",
      "        (fc1): Linear(in_features=64, out_features=32, bias=True)\n",
      "        (fc2): Linear(in_features=32, out_features=64, bias=True)\n",
      "        (final_layer_norm): LayerNorm((64,), eps=1e-05, elementwise_affine=True)\n",
      "      )\n",
      "    )\n",
      "    (layernorm_embedding): LayerNorm((64,), eps=1e-05, elementwise_affine=True)\n",
      "  )\n",
      "  (decoder): TimeSeriesTransformerDecoder(\n",
      "    (value_embedding): TimeSeriesValueEmbedding(\n",
      "      (value_projection): Linear(in_features=9, out_features=64, bias=False)\n",
      "    )\n",
      "    (embed_positions): TimeSeriesSinusoidalPositionalEmbedding(24, 64)\n",
      "    (layers): ModuleList(\n",
      "      (0-1): 2 x TimeSeriesTransformerDecoderLayer(\n",
      "        (self_attn): TimeSeriesTransformerAttention(\n",
      "          (k_proj): Linear(in_features=64, out_features=64, bias=True)\n",
      "          (v_proj): Linear(in_features=64, out_features=64, bias=True)\n",
      "          (q_proj): Linear(in_features=64, out_features=64, bias=True)\n",
      "          (out_proj): Linear(in_features=64, out_features=64, bias=True)\n",
      "        )\n",
      "        (activation_fn): GELUActivation()\n",
      "        (self_attn_layer_norm): LayerNorm((64,), eps=1e-05, elementwise_affine=True)\n",
      "        (encoder_attn): TimeSeriesTransformerAttention(\n",
      "          (k_proj): Linear(in_features=64, out_features=64, bias=True)\n",
      "          (v_proj): Linear(in_features=64, out_features=64, bias=True)\n",
      "          (q_proj): Linear(in_features=64, out_features=64, bias=True)\n",
      "          (out_proj): Linear(in_features=64, out_features=64, bias=True)\n",
      "        )\n",
      "        (encoder_attn_layer_norm): LayerNorm((64,), eps=1e-05, elementwise_affine=True)\n",
      "        (fc1): Linear(in_features=64, out_features=32, bias=True)\n",
      "        (fc2): Linear(in_features=32, out_features=64, bias=True)\n",
      "        (final_layer_norm): LayerNorm((64,), eps=1e-05, elementwise_affine=True)\n",
      "      )\n",
      "    )\n",
      "    (layernorm_embedding): LayerNorm((64,), eps=1e-05, elementwise_affine=True)\n",
      "  )\n",
      ")\n"
     ]
    }
   ],
   "source": [
    "# デコーダついてるけど使える？\n",
    "from transformers import TimeSeriesTransformerConfig, TimeSeriesTransformerModel\n",
    "\n",
    "# Initializing a Time Series Transformer configuration with 12 time steps for prediction\n",
    "configuration = TimeSeriesTransformerConfig(prediction_length=12)\n",
    "\n",
    "# Randomly initializing a model (with random weights) from the configuration\n",
    "model = TimeSeriesTransformerModel(configuration)\n",
    "\n",
    "# Accessing the model configuration\n",
    "configuration = model.config\n",
    "\n",
    "print(model)"
   ]
  },
  {
   "cell_type": "code",
   "execution_count": 21,
   "metadata": {},
   "outputs": [],
   "source": [
    "import torch\n",
    "import torch.nn as nn\n",
    "from transformers import TimeSeriesTransformerConfig, TimeSeriesTransformerModel\n",
    "\n",
    "class TimeSeriesTransformerForClassification(nn.Module):\n",
    "    def __init__(self, config):\n",
    "        super().__init__()\n",
    "        self.time_series_transformer = TimeSeriesTransformerModel(config)\n",
    "        self.classifier = nn.Linear(config.d_model, 8)\n",
    "    \n",
    "    def forward(self, past_values, past_time_features, past_observed_mask):\n",
    "        transformer_output = self.time_series_transformer(\n",
    "            past_values=past_values,\n",
    "            past_time_features=past_time_features,\n",
    "            past_observed_mask=past_observed_mask\n",
    "        )\n",
    "        hidden_states = transformer_output.last_hidden_state\n",
    "        pooled_output = hidden_states.mean(dim=1)\n",
    "        logits = self.classifier(pooled_output)\n",
    "        return logits\n"
   ]
  },
  {
   "cell_type": "code",
   "execution_count": 17,
   "metadata": {},
   "outputs": [
    {
     "name": "stdout",
     "output_type": "stream",
     "text": [
      "TimeSeriesTransformerForClassification(\n",
      "  (time_series_transformer): TimeSeriesTransformerModel(\n",
      "    (scaler): TimeSeriesMeanScaler()\n",
      "    (encoder): TimeSeriesTransformerEncoder(\n",
      "      (value_embedding): TimeSeriesValueEmbedding(\n",
      "        (value_projection): Linear(in_features=9, out_features=64, bias=False)\n",
      "      )\n",
      "      (embed_positions): TimeSeriesSinusoidalPositionalEmbedding(24, 64)\n",
      "      (layers): ModuleList(\n",
      "        (0-1): 2 x TimeSeriesTransformerEncoderLayer(\n",
      "          (self_attn): TimeSeriesTransformerAttention(\n",
      "            (k_proj): Linear(in_features=64, out_features=64, bias=True)\n",
      "            (v_proj): Linear(in_features=64, out_features=64, bias=True)\n",
      "            (q_proj): Linear(in_features=64, out_features=64, bias=True)\n",
      "            (out_proj): Linear(in_features=64, out_features=64, bias=True)\n",
      "          )\n",
      "          (self_attn_layer_norm): LayerNorm((64,), eps=1e-05, elementwise_affine=True)\n",
      "          (activation_fn): GELUActivation()\n",
      "          (fc1): Linear(in_features=64, out_features=32, bias=True)\n",
      "          (fc2): Linear(in_features=32, out_features=64, bias=True)\n",
      "          (final_layer_norm): LayerNorm((64,), eps=1e-05, elementwise_affine=True)\n",
      "        )\n",
      "      )\n",
      "      (layernorm_embedding): LayerNorm((64,), eps=1e-05, elementwise_affine=True)\n",
      "    )\n",
      "    (decoder): TimeSeriesTransformerDecoder(\n",
      "      (value_embedding): TimeSeriesValueEmbedding(\n",
      "        (value_projection): Linear(in_features=9, out_features=64, bias=False)\n",
      "      )\n",
      "      (embed_positions): TimeSeriesSinusoidalPositionalEmbedding(24, 64)\n",
      "      (layers): ModuleList(\n",
      "        (0-1): 2 x TimeSeriesTransformerDecoderLayer(\n",
      "          (self_attn): TimeSeriesTransformerAttention(\n",
      "            (k_proj): Linear(in_features=64, out_features=64, bias=True)\n",
      "            (v_proj): Linear(in_features=64, out_features=64, bias=True)\n",
      "            (q_proj): Linear(in_features=64, out_features=64, bias=True)\n",
      "            (out_proj): Linear(in_features=64, out_features=64, bias=True)\n",
      "          )\n",
      "          (activation_fn): GELUActivation()\n",
      "          (self_attn_layer_norm): LayerNorm((64,), eps=1e-05, elementwise_affine=True)\n",
      "          (encoder_attn): TimeSeriesTransformerAttention(\n",
      "            (k_proj): Linear(in_features=64, out_features=64, bias=True)\n",
      "            (v_proj): Linear(in_features=64, out_features=64, bias=True)\n",
      "            (q_proj): Linear(in_features=64, out_features=64, bias=True)\n",
      "            (out_proj): Linear(in_features=64, out_features=64, bias=True)\n",
      "          )\n",
      "          (encoder_attn_layer_norm): LayerNorm((64,), eps=1e-05, elementwise_affine=True)\n",
      "          (fc1): Linear(in_features=64, out_features=32, bias=True)\n",
      "          (fc2): Linear(in_features=32, out_features=64, bias=True)\n",
      "          (final_layer_norm): LayerNorm((64,), eps=1e-05, elementwise_affine=True)\n",
      "        )\n",
      "      )\n",
      "      (layernorm_embedding): LayerNorm((64,), eps=1e-05, elementwise_affine=True)\n",
      "    )\n",
      "  )\n",
      "  (classifier): Linear(in_features=64, out_features=8, bias=True)\n",
      ")\n"
     ]
    }
   ],
   "source": [
    "# コンフィグの設定\n",
    "config = TimeSeriesTransformerConfig(prediction_length=12)\n",
    "model = TimeSeriesTransformerForClassification(config)\n",
    "print(model)"
   ]
  },
  {
   "cell_type": "code",
   "execution_count": 39,
   "metadata": {},
   "outputs": [],
   "source": [
    "config = TimeSeriesTransformerConfig(\n",
    "    prediction_length=12,\n",
    "    #context_length=500,\n",
    "    num_time_features=9,\n",
    ")\n",
    "model = TimeSeriesTransformerForClassification(config)"
   ]
  },
  {
   "cell_type": "code",
   "execution_count": 40,
   "metadata": {},
   "outputs": [
    {
     "name": "stdout",
     "output_type": "stream",
     "text": [
      "Using cuda device: 0\n"
     ]
    }
   ],
   "source": [
    "import torch\n",
    "import torch.nn as nn\n",
    "import torch.nn.functional as F\n",
    "import torch.optim as optim\n",
    "import torch.backends.cudnn as cudnn\n",
    "from torch.utils.data import DataLoader, TensorDataset, Dataset\n",
    "\n",
    "from transformers import DistilBertModel, DistilBertTokenizer, TrainingArguments, Trainer, DistilBertConfig\n",
    "from transformers.modeling_outputs import SequenceClassifierOutput\n",
    "\n",
    "import os\n",
    "import numpy as np\n",
    "import pandas as pd\n",
    "import matplotlib.pyplot as plt\n",
    "import seaborn as sns\n",
    "\n",
    "from sklearn import metrics\n",
    "from sklearn.preprocessing import LabelEncoder\n",
    "from sklearn.model_selection import train_test_split\n",
    "\n",
    "from tqdm.auto import tqdm\n",
    "\n",
    "\n",
    "#import utils\n",
    "\n",
    "# For reproducibility\n",
    "np.random.seed(42)\n",
    "torch.manual_seed(42) # 乱数生成シード\n",
    "cudnn.benchmark = True\n",
    "\n",
    "# Grab a GPU if there is one\n",
    "if torch.cuda.is_available():\n",
    "    device = torch.device(\"cuda\")\n",
    "    print(\"Using {} device: {}\".format(device, torch.cuda.current_device()))\n",
    "else:\n",
    "    device = torch.device(\"cpu\")\n",
    "    print(\"Using {}\".format(device))"
   ]
  },
  {
   "cell_type": "code",
   "execution_count": 41,
   "metadata": {},
   "outputs": [
    {
     "name": "stdout",
     "output_type": "stream",
     "text": [
      "(79999, 9, 500)\n",
      "(79999,)\n"
     ]
    }
   ],
   "source": [
    "fold = \"../../train_raw_npy/\"\n",
    "acc_xyz = np.load(f\"{fold}acc_xyz_back80000.npy\")\n",
    "gyr_xyz = np.load(f\"{fold}gyr_xyz_back80000.npy\")\n",
    "mag_xyz = np.load(f\"{fold}mag_xyz_back80000.npy\")\n",
    "label = np.load(f\"{fold}sampled_label_back80000.npy\")\n",
    "xyz = np.concatenate([acc_xyz, gyr_xyz, mag_xyz], axis=1)\n",
    "del acc_xyz\n",
    "del gyr_xyz\n",
    "del mag_xyz\n",
    "print(xyz.shape)\n",
    "print(label.shape)"
   ]
  },
  {
   "cell_type": "code",
   "execution_count": 42,
   "metadata": {},
   "outputs": [
    {
     "name": "stdout",
     "output_type": "stream",
     "text": [
      "(79999, 500, 9)\n"
     ]
    }
   ],
   "source": [
    "from sklearn.preprocessing import StandardScaler\n",
    "\n",
    "# データを2Dに変換して標準化\n",
    "scaler = StandardScaler()\n",
    "xyz_reshaped = xyz.transpose(0, 2, 1).reshape(-1, xyz.shape[1])  # (196072*500, 9)\n",
    "scaled_xy = scaler.fit_transform(xyz_reshaped)  # 標準化\n",
    "scaled_xy = scaled_xy.reshape(xyz.shape[0], xyz.shape[2], xyz.shape[1])  # 元の形に戻すが、(196072, 500, 9) の形状に\n",
    "print(scaled_xy.shape)  # (196072, 500, 9)"
   ]
  },
  {
   "cell_type": "code",
   "execution_count": 43,
   "metadata": {},
   "outputs": [
    {
     "name": "stdout",
     "output_type": "stream",
     "text": [
      "(30000, 500, 9)\n",
      "(30000,)\n"
     ]
    }
   ],
   "source": [
    "#おしり3万データを使う  \n",
    "scaled_xyz = scaled_xy[-40000:-10000,:,:]\n",
    "label_sm = label[-40000:-10000]\n",
    "print(scaled_xyz.shape)\n",
    "print(label_sm.shape)"
   ]
  },
  {
   "cell_type": "code",
   "execution_count": 44,
   "metadata": {},
   "outputs": [
    {
     "name": "stdout",
     "output_type": "stream",
     "text": [
      "Train data shape: (24000, 500, 9)\n",
      "Test data shape: (6000, 500, 9)\n",
      "Train label shape: (24000,)\n",
      "Test label shape: (6000,)\n",
      "1.0    4233\n",
      "4.0    3919\n",
      "7.0    3893\n",
      "6.0    3585\n",
      "2.0    3009\n",
      "5.0    2965\n",
      "8.0    1445\n",
      "3.0     951\n",
      "Name: count, dtype: int64\n",
      "1.0    1043\n",
      "7.0     964\n",
      "4.0     958\n",
      "6.0     922\n",
      "5.0     773\n",
      "2.0     721\n",
      "8.0     373\n",
      "3.0     246\n",
      "Name: count, dtype: int64\n"
     ]
    }
   ],
   "source": [
    "import numpy as np\n",
    "from sklearn.model_selection import train_test_split\n",
    "\n",
    "# ランダムサンプリング\n",
    "train_xyz, test_xyz, train_label, test_label = train_test_split(scaled_xyz, label_sm, test_size=0.2,random_state=40)\n",
    "\n",
    "# 結果の確認\n",
    "print(f\"Train data shape: {train_xyz.shape}\")\n",
    "print(f\"Test data shape: {test_xyz.shape}\")\n",
    "print(f\"Train label shape: {train_label.shape}\")\n",
    "print(f\"Test label shape: {test_label.shape}\")\n",
    "print(pd.Series(train_label).value_counts())\n",
    "print(pd.Series(test_label).value_counts())"
   ]
  },
  {
   "cell_type": "code",
   "execution_count": 45,
   "metadata": {},
   "outputs": [
    {
     "name": "stdout",
     "output_type": "stream",
     "text": [
      "[4. 6. 4. ... 5. 5. 5.]\n",
      "[3. 5. 3. ... 4. 4. 4.]\n",
      "[7. 4. 3. ... 6. 6. 7.]\n",
      "[6. 3. 2. ... 5. 5. 6.]\n"
     ]
    }
   ],
   "source": [
    "# ラベルを0~7クラス分類とする\n",
    "print(train_label)\n",
    "train_label -=1\n",
    "print(train_label)\n",
    "print(test_label)\n",
    "test_label -=1\n",
    "print(test_label)"
   ]
  },
  {
   "cell_type": "code",
   "execution_count": 46,
   "metadata": {},
   "outputs": [],
   "source": [
    "train_xyz = torch.from_numpy(train_xyz)\n",
    "train_label = torch.from_numpy(train_label)\n",
    "test_xyz = torch.from_numpy(test_xyz)\n",
    "test_label = torch.from_numpy(test_label)"
   ]
  },
  {
   "cell_type": "code",
   "execution_count": 47,
   "metadata": {},
   "outputs": [],
   "source": [
    "# データセットの準備\n",
    "\n",
    "class SensorDataset(Dataset):\n",
    "    def __init__(self, data, labels):\n",
    "        self.data = data\n",
    "        self.labels = labels\n",
    "\n",
    "    def __len__(self):\n",
    "        return len(self.data)\n",
    "\n",
    "    def __getitem__(self, idx):\n",
    "        sensor_data = torch.tensor(self.data[idx], dtype=torch.float)\n",
    "        labels = torch.tensor(self.labels[idx], dtype=torch.long)\n",
    "\n",
    "        attention_mask = torch.ones(sensor_data.shape[0], dtype=torch.long)  # (500,) の形状になるように\n",
    "\n",
    "        return {\n",
    "            \"input_ids\": sensor_data,\n",
    "            \"attention_mask\": attention_mask,\n",
    "            \"labels\": labels\n",
    "        }\n",
    "\n",
    "# データセットとデータローダの作成\n",
    "train_dataset = SensorDataset(train_xyz, train_label)\n",
    "eval_dataset = SensorDataset(test_xyz, test_label)"
   ]
  },
  {
   "cell_type": "code",
   "execution_count": 48,
   "metadata": {},
   "outputs": [
    {
     "name": "stdout",
     "output_type": "stream",
     "text": [
      "TimeSeriesTransformerForClassification(\n",
      "  (time_series_transformer): TimeSeriesTransformerModel(\n",
      "    (scaler): TimeSeriesMeanScaler()\n",
      "    (encoder): TimeSeriesTransformerEncoder(\n",
      "      (value_embedding): TimeSeriesValueEmbedding(\n",
      "        (value_projection): Linear(in_features=9, out_features=64, bias=False)\n",
      "      )\n",
      "      (embed_positions): TimeSeriesSinusoidalPositionalEmbedding(24, 64)\n",
      "      (layers): ModuleList(\n",
      "        (0-1): 2 x TimeSeriesTransformerEncoderLayer(\n",
      "          (self_attn): TimeSeriesTransformerAttention(\n",
      "            (k_proj): Linear(in_features=64, out_features=64, bias=True)\n",
      "            (v_proj): Linear(in_features=64, out_features=64, bias=True)\n",
      "            (q_proj): Linear(in_features=64, out_features=64, bias=True)\n",
      "            (out_proj): Linear(in_features=64, out_features=64, bias=True)\n",
      "          )\n",
      "          (self_attn_layer_norm): LayerNorm((64,), eps=1e-05, elementwise_affine=True)\n",
      "          (activation_fn): GELUActivation()\n",
      "          (fc1): Linear(in_features=64, out_features=32, bias=True)\n",
      "          (fc2): Linear(in_features=32, out_features=64, bias=True)\n",
      "          (final_layer_norm): LayerNorm((64,), eps=1e-05, elementwise_affine=True)\n",
      "        )\n",
      "      )\n",
      "      (layernorm_embedding): LayerNorm((64,), eps=1e-05, elementwise_affine=True)\n",
      "    )\n",
      "    (decoder): TimeSeriesTransformerDecoder(\n",
      "      (value_embedding): TimeSeriesValueEmbedding(\n",
      "        (value_projection): Linear(in_features=9, out_features=64, bias=False)\n",
      "      )\n",
      "      (embed_positions): TimeSeriesSinusoidalPositionalEmbedding(24, 64)\n",
      "      (layers): ModuleList(\n",
      "        (0-1): 2 x TimeSeriesTransformerDecoderLayer(\n",
      "          (self_attn): TimeSeriesTransformerAttention(\n",
      "            (k_proj): Linear(in_features=64, out_features=64, bias=True)\n",
      "            (v_proj): Linear(in_features=64, out_features=64, bias=True)\n",
      "            (q_proj): Linear(in_features=64, out_features=64, bias=True)\n",
      "            (out_proj): Linear(in_features=64, out_features=64, bias=True)\n",
      "          )\n",
      "          (activation_fn): GELUActivation()\n",
      "          (self_attn_layer_norm): LayerNorm((64,), eps=1e-05, elementwise_affine=True)\n",
      "          (encoder_attn): TimeSeriesTransformerAttention(\n",
      "            (k_proj): Linear(in_features=64, out_features=64, bias=True)\n",
      "            (v_proj): Linear(in_features=64, out_features=64, bias=True)\n",
      "            (q_proj): Linear(in_features=64, out_features=64, bias=True)\n",
      "            (out_proj): Linear(in_features=64, out_features=64, bias=True)\n",
      "          )\n",
      "          (encoder_attn_layer_norm): LayerNorm((64,), eps=1e-05, elementwise_affine=True)\n",
      "          (fc1): Linear(in_features=64, out_features=32, bias=True)\n",
      "          (fc2): Linear(in_features=32, out_features=64, bias=True)\n",
      "          (final_layer_norm): LayerNorm((64,), eps=1e-05, elementwise_affine=True)\n",
      "        )\n",
      "      )\n",
      "      (layernorm_embedding): LayerNorm((64,), eps=1e-05, elementwise_affine=True)\n",
      "    )\n",
      "  )\n",
      "  (classifier): Linear(in_features=64, out_features=8, bias=True)\n",
      ")\n"
     ]
    }
   ],
   "source": [
    "# コンフィグの設定\n",
    "config = TimeSeriesTransformerConfig(prediction_length=12)\n",
    "model = TimeSeriesTransformerForClassification(config)\n",
    "print(model)"
   ]
  },
  {
   "cell_type": "code",
   "execution_count": 61,
   "metadata": {},
   "outputs": [
    {
     "data": {
      "application/vnd.jupyter.widget-view+json": {
       "model_id": "f0e0ec1b6fb249c6a3e3f69f8a6f21d9",
       "version_major": 2,
       "version_minor": 0
      },
      "text/plain": [
       "  0%|          | 0/15000 [00:00<?, ?it/s]"
      ]
     },
     "metadata": {},
     "output_type": "display_data"
    },
    {
     "name": "stderr",
     "output_type": "stream",
     "text": [
      "C:\\Users\\kaiha\\AppData\\Local\\Temp\\ipykernel_40656\\1253163707.py:12: UserWarning: To copy construct from a tensor, it is recommended to use sourceTensor.clone().detach() or sourceTensor.clone().detach().requires_grad_(True), rather than torch.tensor(sourceTensor).\n",
      "  sensor_data = torch.tensor(self.data[idx], dtype=torch.float)\n",
      "C:\\Users\\kaiha\\AppData\\Local\\Temp\\ipykernel_40656\\1253163707.py:13: UserWarning: To copy construct from a tensor, it is recommended to use sourceTensor.clone().detach() or sourceTensor.clone().detach().requires_grad_(True), rather than torch.tensor(sourceTensor).\n",
      "  labels = torch.tensor(self.labels[idx], dtype=torch.long)\n"
     ]
    },
    {
     "ename": "ValueError",
     "evalue": "The batch received was empty, your model won't be able to train on it. Double-check that your training dataset contains keys expected by the model: past_values,past_time_features,past_observed_mask,label,label_ids.",
     "output_type": "error",
     "traceback": [
      "\u001b[1;31m---------------------------------------------------------------------------\u001b[0m",
      "\u001b[1;31mValueError\u001b[0m                                Traceback (most recent call last)",
      "Cell \u001b[1;32mIn[61], line 27\u001b[0m\n\u001b[0;32m     19\u001b[0m trainer \u001b[38;5;241m=\u001b[39m Trainer(\n\u001b[0;32m     20\u001b[0m     model\u001b[38;5;241m=\u001b[39mmodel,\n\u001b[0;32m     21\u001b[0m     args\u001b[38;5;241m=\u001b[39mtraining_args,\n\u001b[0;32m     22\u001b[0m     train_dataset\u001b[38;5;241m=\u001b[39mtrain_dataset,\n\u001b[0;32m     23\u001b[0m     eval_dataset\u001b[38;5;241m=\u001b[39meval_dataset,\n\u001b[0;32m     24\u001b[0m )\n\u001b[0;32m     26\u001b[0m \u001b[38;5;66;03m# トレーニングの実行\u001b[39;00m\n\u001b[1;32m---> 27\u001b[0m \u001b[43mtrainer\u001b[49m\u001b[38;5;241;43m.\u001b[39;49m\u001b[43mtrain\u001b[49m\u001b[43m(\u001b[49m\u001b[43m)\u001b[49m\n",
      "File \u001b[1;32mc:\\Users\\kaiha\\anaconda3\\envs\\labo_Okita\\lib\\site-packages\\transformers\\trainer.py:1885\u001b[0m, in \u001b[0;36mTrainer.train\u001b[1;34m(self, resume_from_checkpoint, trial, ignore_keys_for_eval, **kwargs)\u001b[0m\n\u001b[0;32m   1883\u001b[0m         hf_hub_utils\u001b[38;5;241m.\u001b[39menable_progress_bars()\n\u001b[0;32m   1884\u001b[0m \u001b[38;5;28;01melse\u001b[39;00m:\n\u001b[1;32m-> 1885\u001b[0m     \u001b[38;5;28;01mreturn\u001b[39;00m \u001b[43minner_training_loop\u001b[49m\u001b[43m(\u001b[49m\n\u001b[0;32m   1886\u001b[0m \u001b[43m        \u001b[49m\u001b[43margs\u001b[49m\u001b[38;5;241;43m=\u001b[39;49m\u001b[43margs\u001b[49m\u001b[43m,\u001b[49m\n\u001b[0;32m   1887\u001b[0m \u001b[43m        \u001b[49m\u001b[43mresume_from_checkpoint\u001b[49m\u001b[38;5;241;43m=\u001b[39;49m\u001b[43mresume_from_checkpoint\u001b[49m\u001b[43m,\u001b[49m\n\u001b[0;32m   1888\u001b[0m \u001b[43m        \u001b[49m\u001b[43mtrial\u001b[49m\u001b[38;5;241;43m=\u001b[39;49m\u001b[43mtrial\u001b[49m\u001b[43m,\u001b[49m\n\u001b[0;32m   1889\u001b[0m \u001b[43m        \u001b[49m\u001b[43mignore_keys_for_eval\u001b[49m\u001b[38;5;241;43m=\u001b[39;49m\u001b[43mignore_keys_for_eval\u001b[49m\u001b[43m,\u001b[49m\n\u001b[0;32m   1890\u001b[0m \u001b[43m    \u001b[49m\u001b[43m)\u001b[49m\n",
      "File \u001b[1;32mc:\\Users\\kaiha\\anaconda3\\envs\\labo_Okita\\lib\\site-packages\\transformers\\trainer.py:2216\u001b[0m, in \u001b[0;36mTrainer._inner_training_loop\u001b[1;34m(self, batch_size, args, resume_from_checkpoint, trial, ignore_keys_for_eval)\u001b[0m\n\u001b[0;32m   2213\u001b[0m     \u001b[38;5;28mself\u001b[39m\u001b[38;5;241m.\u001b[39mcontrol \u001b[38;5;241m=\u001b[39m \u001b[38;5;28mself\u001b[39m\u001b[38;5;241m.\u001b[39mcallback_handler\u001b[38;5;241m.\u001b[39mon_step_begin(args, \u001b[38;5;28mself\u001b[39m\u001b[38;5;241m.\u001b[39mstate, \u001b[38;5;28mself\u001b[39m\u001b[38;5;241m.\u001b[39mcontrol)\n\u001b[0;32m   2215\u001b[0m \u001b[38;5;28;01mwith\u001b[39;00m \u001b[38;5;28mself\u001b[39m\u001b[38;5;241m.\u001b[39maccelerator\u001b[38;5;241m.\u001b[39maccumulate(model):\n\u001b[1;32m-> 2216\u001b[0m     tr_loss_step \u001b[38;5;241m=\u001b[39m \u001b[38;5;28;43mself\u001b[39;49m\u001b[38;5;241;43m.\u001b[39;49m\u001b[43mtraining_step\u001b[49m\u001b[43m(\u001b[49m\u001b[43mmodel\u001b[49m\u001b[43m,\u001b[49m\u001b[43m \u001b[49m\u001b[43minputs\u001b[49m\u001b[43m)\u001b[49m\n\u001b[0;32m   2218\u001b[0m \u001b[38;5;28;01mif\u001b[39;00m (\n\u001b[0;32m   2219\u001b[0m     args\u001b[38;5;241m.\u001b[39mlogging_nan_inf_filter\n\u001b[0;32m   2220\u001b[0m     \u001b[38;5;129;01mand\u001b[39;00m \u001b[38;5;129;01mnot\u001b[39;00m is_torch_xla_available()\n\u001b[0;32m   2221\u001b[0m     \u001b[38;5;129;01mand\u001b[39;00m (torch\u001b[38;5;241m.\u001b[39misnan(tr_loss_step) \u001b[38;5;129;01mor\u001b[39;00m torch\u001b[38;5;241m.\u001b[39misinf(tr_loss_step))\n\u001b[0;32m   2222\u001b[0m ):\n\u001b[0;32m   2223\u001b[0m     \u001b[38;5;66;03m# if loss is nan or inf simply add the average of previous logged losses\u001b[39;00m\n\u001b[0;32m   2224\u001b[0m     tr_loss \u001b[38;5;241m+\u001b[39m\u001b[38;5;241m=\u001b[39m tr_loss \u001b[38;5;241m/\u001b[39m (\u001b[38;5;241m1\u001b[39m \u001b[38;5;241m+\u001b[39m \u001b[38;5;28mself\u001b[39m\u001b[38;5;241m.\u001b[39mstate\u001b[38;5;241m.\u001b[39mglobal_step \u001b[38;5;241m-\u001b[39m \u001b[38;5;28mself\u001b[39m\u001b[38;5;241m.\u001b[39m_globalstep_last_logged)\n",
      "File \u001b[1;32mc:\\Users\\kaiha\\anaconda3\\envs\\labo_Okita\\lib\\site-packages\\transformers\\trainer.py:3231\u001b[0m, in \u001b[0;36mTrainer.training_step\u001b[1;34m(self, model, inputs)\u001b[0m\n\u001b[0;32m   3213\u001b[0m \u001b[38;5;250m\u001b[39m\u001b[38;5;124;03m\"\"\"\u001b[39;00m\n\u001b[0;32m   3214\u001b[0m \u001b[38;5;124;03mPerform a training step on a batch of inputs.\u001b[39;00m\n\u001b[0;32m   3215\u001b[0m \n\u001b[1;32m   (...)\u001b[0m\n\u001b[0;32m   3228\u001b[0m \u001b[38;5;124;03m    `torch.Tensor`: The tensor with training loss on this batch.\u001b[39;00m\n\u001b[0;32m   3229\u001b[0m \u001b[38;5;124;03m\"\"\"\u001b[39;00m\n\u001b[0;32m   3230\u001b[0m model\u001b[38;5;241m.\u001b[39mtrain()\n\u001b[1;32m-> 3231\u001b[0m inputs \u001b[38;5;241m=\u001b[39m \u001b[38;5;28;43mself\u001b[39;49m\u001b[38;5;241;43m.\u001b[39;49m\u001b[43m_prepare_inputs\u001b[49m\u001b[43m(\u001b[49m\u001b[43minputs\u001b[49m\u001b[43m)\u001b[49m\n\u001b[0;32m   3233\u001b[0m \u001b[38;5;28;01mif\u001b[39;00m is_sagemaker_mp_enabled():\n\u001b[0;32m   3234\u001b[0m     loss_mb \u001b[38;5;241m=\u001b[39m smp_forward_backward(model, inputs, \u001b[38;5;28mself\u001b[39m\u001b[38;5;241m.\u001b[39margs\u001b[38;5;241m.\u001b[39mgradient_accumulation_steps)\n",
      "File \u001b[1;32mc:\\Users\\kaiha\\anaconda3\\envs\\labo_Okita\\lib\\site-packages\\transformers\\trainer.py:3185\u001b[0m, in \u001b[0;36mTrainer._prepare_inputs\u001b[1;34m(self, inputs)\u001b[0m\n\u001b[0;32m   3183\u001b[0m inputs \u001b[38;5;241m=\u001b[39m \u001b[38;5;28mself\u001b[39m\u001b[38;5;241m.\u001b[39m_prepare_input(inputs)\n\u001b[0;32m   3184\u001b[0m \u001b[38;5;28;01mif\u001b[39;00m \u001b[38;5;28mlen\u001b[39m(inputs) \u001b[38;5;241m==\u001b[39m \u001b[38;5;241m0\u001b[39m:\n\u001b[1;32m-> 3185\u001b[0m     \u001b[38;5;28;01mraise\u001b[39;00m \u001b[38;5;167;01mValueError\u001b[39;00m(\n\u001b[0;32m   3186\u001b[0m         \u001b[38;5;124m\"\u001b[39m\u001b[38;5;124mThe batch received was empty, your model won\u001b[39m\u001b[38;5;124m'\u001b[39m\u001b[38;5;124mt be able to train on it. Double-check that your \u001b[39m\u001b[38;5;124m\"\u001b[39m\n\u001b[0;32m   3187\u001b[0m         \u001b[38;5;124mf\u001b[39m\u001b[38;5;124m\"\u001b[39m\u001b[38;5;124mtraining dataset contains keys expected by the model: \u001b[39m\u001b[38;5;132;01m{\u001b[39;00m\u001b[38;5;124m'\u001b[39m\u001b[38;5;124m,\u001b[39m\u001b[38;5;124m'\u001b[39m\u001b[38;5;241m.\u001b[39mjoin(\u001b[38;5;28mself\u001b[39m\u001b[38;5;241m.\u001b[39m_signature_columns)\u001b[38;5;132;01m}\u001b[39;00m\u001b[38;5;124m.\u001b[39m\u001b[38;5;124m\"\u001b[39m\n\u001b[0;32m   3188\u001b[0m     )\n\u001b[0;32m   3189\u001b[0m \u001b[38;5;28;01mif\u001b[39;00m \u001b[38;5;28mself\u001b[39m\u001b[38;5;241m.\u001b[39margs\u001b[38;5;241m.\u001b[39mpast_index \u001b[38;5;241m>\u001b[39m\u001b[38;5;241m=\u001b[39m \u001b[38;5;241m0\u001b[39m \u001b[38;5;129;01mand\u001b[39;00m \u001b[38;5;28mself\u001b[39m\u001b[38;5;241m.\u001b[39m_past \u001b[38;5;129;01mis\u001b[39;00m \u001b[38;5;129;01mnot\u001b[39;00m \u001b[38;5;28;01mNone\u001b[39;00m:\n\u001b[0;32m   3190\u001b[0m     inputs[\u001b[38;5;124m\"\u001b[39m\u001b[38;5;124mmems\u001b[39m\u001b[38;5;124m\"\u001b[39m] \u001b[38;5;241m=\u001b[39m \u001b[38;5;28mself\u001b[39m\u001b[38;5;241m.\u001b[39m_past\n",
      "\u001b[1;31mValueError\u001b[0m: The batch received was empty, your model won't be able to train on it. Double-check that your training dataset contains keys expected by the model: past_values,past_time_features,past_observed_mask,label,label_ids."
     ]
    }
   ],
   "source": [
    "# トレーニング設定\n",
    "training_args = TrainingArguments(\n",
    "    output_dir=\"./results_distilBERT\",\n",
    "    overwrite_output_dir=True,\n",
    "    num_train_epochs=10,\n",
    "    per_device_train_batch_size=16,\n",
    "    save_steps=0,\n",
    "    save_total_limit=None,\n",
    "    #logging_dir = \"./logs_distilBERT\",\n",
    "    evaluation_strategy=\"steps\",\n",
    "    eval_steps=1_000,\n",
    "    logging_steps=100,\n",
    "    max_grad_norm=1.0, # 勾配クリッピング\n",
    "    fp16=True, # fp16計算\n",
    "    #weight_decay=0.01\n",
    ")\n",
    "\n",
    "# トレーナーの定義\n",
    "trainer = Trainer(\n",
    "    model=model,\n",
    "    args=training_args,\n",
    "    train_dataset=train_dataset,\n",
    "    eval_dataset=eval_dataset,\n",
    ")\n",
    "\n",
    "# トレーニングの実行\n",
    "trainer.train()"
   ]
  },
  {
   "cell_type": "code",
   "execution_count": 59,
   "metadata": {},
   "outputs": [
    {
     "name": "stdout",
     "output_type": "stream",
     "text": [
      "8\n"
     ]
    }
   ],
   "source": [
    "from huggingface_hub import hf_hub_download\n",
    "import torch\n",
    "from transformers import TimeSeriesTransformerModel\n",
    "\n",
    "file = hf_hub_download(\n",
    "    repo_id=\"hf-internal-testing/tourism-monthly-batch\", filename=\"train-batch.pt\", repo_type=\"dataset\"\n",
    ")\n",
    "batch = torch.load(file)\n",
    "\n",
    "print(len(batch.keys()))"
   ]
  },
  {
   "cell_type": "markdown",
   "metadata": {},
   "source": [
    "もしかすると８個のデータがないといけないのか？そんなことある？"
   ]
  },
  {
   "cell_type": "code",
   "execution_count": null,
   "metadata": {},
   "outputs": [],
   "source": []
  }
 ],
 "metadata": {
  "kernelspec": {
   "display_name": "labo_Okita",
   "language": "python",
   "name": "python3"
  },
  "language_info": {
   "codemirror_mode": {
    "name": "ipython",
    "version": 3
   },
   "file_extension": ".py",
   "mimetype": "text/x-python",
   "name": "python",
   "nbconvert_exporter": "python",
   "pygments_lexer": "ipython3",
   "version": "3.10.14"
  }
 },
 "nbformat": 4,
 "nbformat_minor": 2
}
