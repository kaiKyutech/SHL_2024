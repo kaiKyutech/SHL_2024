{
 "cells": [
  {
   "cell_type": "markdown",
   "metadata": {},
   "source": [
    "v20_distilBERT_1の後継"
   ]
  },
  {
   "cell_type": "markdown",
   "metadata": {},
   "source": [
    "ここでは９次元のセンサデータをなんとかdistilBERTで処理できるようにするノートブック  \n",
    "distilBERTのワードエンベディングを全結合層にする。  \n",
    "こうすることで一応は９次元センサデータを扱うことができると思う。  \n",
    "ただそうするとセンサデータをトークン化する必要が必ずしもなくなってしまう。自然言語処理で扱われるdistilBERTでそんな処理をしていいのかは分からない。その実験も今回は兼ねる。"
   ]
  },
  {
   "cell_type": "code",
   "execution_count": 1,
   "metadata": {},
   "outputs": [],
   "source": [
    "import torch\n",
    "import torch.nn as nn\n",
    "from transformers import DistilBertModel, DistilBertTokenizer, TrainingArguments, Trainer\n",
    "from transformers.modeling_outputs import SequenceClassifierOutput"
   ]
  },
  {
   "cell_type": "code",
   "execution_count": 2,
   "metadata": {},
   "outputs": [],
   "source": [
    "class SensorDistilBERT(nn.Module):\n",
    "    def __init__(self, num_sensor_dims=9, num_labels=8):\n",
    "        super(SensorDistilBERT, self).__init__()\n",
    "        self.config = DistilBertModel.from_pretrained(\"distilbert-base-uncased\").config\n",
    "\n",
    "        self.bert = DistilBertModel(self.config)\n",
    "\n",
    "        # センサデータ用のエンベディング層\n",
    "        self.sensor_embedding = nn.Linear(num_sensor_dims, self.config.hidden_size)\n",
    "        # ポジションエンベディング\n",
    "        self.position_embeddings = nn.Embedding(self.config.max_position_embeddings, self.config.hidden_size)\n",
    "        # 出力の分類層\n",
    "        self.classifier = nn.Linear(self.config.hidden_size, num_labels)\n",
    "        \n",
    "        # Dropout層\n",
    "        self.dropout = nn.Dropout(self.config.seq_classif_dropout)\n",
    "\n",
    "    def forward(self, sensor_data, attention_mask=None, labels=None):\n",
    "        # センサデータをエンベディング層に通す\n",
    "        batch_size, seq_length, _ = sensor_data.size()\n",
    "        sensor_embeds = self.sensor_embedding(sensor_data.view(batch_size * seq_length, -1))\n",
    "        sensor_embeds = sensor_embeds.view(batch_size, seq_length, -1)\n",
    "\n",
    "        # ポジションエンベディング層\n",
    "        position_ids = torch.arange(seq_length, dtype=torch.long, device=sensor_embeds.device)\n",
    "        position_ids = position_ids.unsqueeze(0).expand(sensor_embeds.size(0), seq_length)\n",
    "        position_embeds = self.position_embeddings(position_ids)\n",
    "\n",
    "        # エンベディングを加算\n",
    "        embeddings = sensor_embeds + position_embeds\n",
    "\n",
    "        # distilBERTのトランスフォーマ層に入力 embeddingsは用意したものを利用する形で\n",
    "        outputs = self.bert(inputs_embeds=embeddings, attention_mask=attention_mask)\n",
    "\n",
    "        # [CLS]トークンの出力を取得\n",
    "        pooled_output = outputs.last_hidden_state[:, 0, :]  # すべてのバッチ、シーケンスの先頭という意味ね\n",
    "        pooled_output = self.dropout(pooled_output)\n",
    "\n",
    "        # 分類層に通す\n",
    "        logits = self.classifier(pooled_output)\n",
    "\n",
    "        loss = None\n",
    "        if labels is not None:\n",
    "            loss_fct = nn.CrossEntropyLoss()\n",
    "            loss = loss_fct(logits, labels)  # 形状が一致するように修正\n",
    "\n",
    "        return SequenceClassifierOutput(\n",
    "            loss=loss,\n",
    "            logits=logits,\n",
    "        )"
   ]
  },
  {
   "cell_type": "code",
   "execution_count": 24,
   "metadata": {},
   "outputs": [],
   "source": [
    "model = SensorDistilBERT(num_labels=8, num_sensor_dims=9)"
   ]
  },
  {
   "cell_type": "code",
   "execution_count": 4,
   "metadata": {},
   "outputs": [
    {
     "name": "stdout",
     "output_type": "stream",
     "text": [
      "SensorDistilBERT(\n",
      "  (bert): DistilBertModel(\n",
      "    (embeddings): Embeddings(\n",
      "      (word_embeddings): Embedding(30522, 768, padding_idx=0)\n",
      "      (position_embeddings): Embedding(512, 768)\n",
      "      (LayerNorm): LayerNorm((768,), eps=1e-12, elementwise_affine=True)\n",
      "      (dropout): Dropout(p=0.1, inplace=False)\n",
      "    )\n",
      "    (transformer): Transformer(\n",
      "      (layer): ModuleList(\n",
      "        (0-5): 6 x TransformerBlock(\n",
      "          (attention): MultiHeadSelfAttention(\n",
      "            (dropout): Dropout(p=0.1, inplace=False)\n",
      "            (q_lin): Linear(in_features=768, out_features=768, bias=True)\n",
      "            (k_lin): Linear(in_features=768, out_features=768, bias=True)\n",
      "            (v_lin): Linear(in_features=768, out_features=768, bias=True)\n",
      "            (out_lin): Linear(in_features=768, out_features=768, bias=True)\n",
      "          )\n",
      "          (sa_layer_norm): LayerNorm((768,), eps=1e-12, elementwise_affine=True)\n",
      "          (ffn): FFN(\n",
      "            (dropout): Dropout(p=0.1, inplace=False)\n",
      "            (lin1): Linear(in_features=768, out_features=3072, bias=True)\n",
      "            (lin2): Linear(in_features=3072, out_features=768, bias=True)\n",
      "            (activation): GELUActivation()\n",
      "          )\n",
      "          (output_layer_norm): LayerNorm((768,), eps=1e-12, elementwise_affine=True)\n",
      "        )\n",
      "      )\n",
      "    )\n",
      "  )\n",
      "  (sensor_embedding): Linear(in_features=9, out_features=768, bias=True)\n",
      "  (position_embeddings): Embedding(512, 768)\n",
      "  (classifier): Linear(in_features=768, out_features=8, bias=True)\n",
      "  (dropout): Dropout(p=0.2, inplace=False)\n",
      ")\n"
     ]
    }
   ],
   "source": [
    "print(model)"
   ]
  },
  {
   "cell_type": "code",
   "execution_count": 3,
   "metadata": {},
   "outputs": [
    {
     "name": "stdout",
     "output_type": "stream",
     "text": [
      "Using cuda device: 0\n"
     ]
    }
   ],
   "source": [
    "import os\n",
    "import numpy as np\n",
    "import pandas as pd\n",
    "import matplotlib.pyplot as plt\n",
    "import torch\n",
    "import torch.nn as nn\n",
    "import torch.nn.functional as F\n",
    "import torch.optim as optim\n",
    "import torch.backends.cudnn as cudnn\n",
    "from sklearn import metrics\n",
    "from sklearn.preprocessing import LabelEncoder\n",
    "from tqdm.auto import tqdm\n",
    "from torch.utils.data import DataLoader, TensorDataset\n",
    "from transformers import BertModel, BertConfig\n",
    "import seaborn as sns\n",
    "from transformers import TrainingArguments, Trainer\n",
    "from sklearn.model_selection import train_test_split\n",
    "\n",
    "#import utils\n",
    "\n",
    "# For reproducibility\n",
    "np.random.seed(42)\n",
    "torch.manual_seed(42) # 乱数生成シード\n",
    "cudnn.benchmark = True\n",
    "\n",
    "# Grab a GPU if there is one\n",
    "if torch.cuda.is_available():\n",
    "    device = torch.device(\"cuda\")\n",
    "    print(\"Using {} device: {}\".format(device, torch.cuda.current_device()))\n",
    "else:\n",
    "    device = torch.device(\"cpu\")\n",
    "    print(\"Using {}\".format(device))"
   ]
  },
  {
   "cell_type": "code",
   "execution_count": 4,
   "metadata": {},
   "outputs": [
    {
     "name": "stdout",
     "output_type": "stream",
     "text": [
      "(196072, 9, 500)\n",
      "(196072,)\n"
     ]
    }
   ],
   "source": [
    "fold = \"../../train_raw_npy/\"\n",
    "acc_xyz = np.load(f\"{fold}acc_xyz.npy\")\n",
    "gyr_xyz = np.load(f\"{fold}gyr_xyz.npy\")\n",
    "mag_xyz = np.load(f\"{fold}mag_xyz.npy\")\n",
    "label = np.load(f\"{fold}sampled_label.npy\")\n",
    "xyz = np.concatenate([acc_xyz, gyr_xyz, mag_xyz], axis=1)\n",
    "del acc_xyz\n",
    "del gyr_xyz\n",
    "del mag_xyz\n",
    "print(xyz.shape)\n",
    "print(label.shape)\n"
   ]
  },
  {
   "cell_type": "code",
   "execution_count": 5,
   "metadata": {},
   "outputs": [
    {
     "name": "stdout",
     "output_type": "stream",
     "text": [
      "(196072, 500, 9)\n"
     ]
    }
   ],
   "source": [
    "from sklearn.preprocessing import StandardScaler\n",
    "\n",
    "# データを2Dに変換して標準化\n",
    "scaler = StandardScaler()\n",
    "xyz_reshaped = xyz.transpose(0, 2, 1).reshape(-1, xyz.shape[1])  # (196072*500, 9)\n",
    "scaled_xy = scaler.fit_transform(xyz_reshaped)  # 標準化\n",
    "scaled_xy = scaled_xy.reshape(xyz.shape[0], xyz.shape[2], xyz.shape[1])  # 元の形に戻すが、(196072, 500, 9) の形状に\n",
    "print(scaled_xy.shape)  # (196072, 500, 9)"
   ]
  },
  {
   "cell_type": "code",
   "execution_count": 6,
   "metadata": {},
   "outputs": [
    {
     "name": "stdout",
     "output_type": "stream",
     "text": [
      "(30000, 500, 9)\n",
      "(30000,)\n"
     ]
    }
   ],
   "source": [
    "#おしり3万データを使う  \n",
    "scaled_xyz = scaled_xy[-40000:-10000,:,:]\n",
    "label_sm = label[-40000:-10000]\n",
    "print(scaled_xyz.shape)\n",
    "print(label_sm.shape)"
   ]
  },
  {
   "cell_type": "code",
   "execution_count": 7,
   "metadata": {},
   "outputs": [
    {
     "name": "stdout",
     "output_type": "stream",
     "text": [
      "int32\n",
      "int32\n"
     ]
    }
   ],
   "source": [
    "label_sm =label_sm.astype(np.int32)\n",
    "print(label_sm.dtype)\n",
    "print(label_sm.dtype)"
   ]
  },
  {
   "cell_type": "code",
   "execution_count": 8,
   "metadata": {},
   "outputs": [
    {
     "name": "stdout",
     "output_type": "stream",
     "text": [
      "Train data shape: (24000, 500, 9)\n",
      "Test data shape: (6000, 500, 9)\n",
      "Train label shape: (24000,)\n",
      "Test label shape: (6000,)\n",
      "1    4235\n",
      "4    3917\n",
      "7    3893\n",
      "6    3582\n",
      "2    3010\n",
      "5    2964\n",
      "8    1445\n",
      "3     954\n",
      "Name: count, dtype: int64\n",
      "1    1041\n",
      "7     964\n",
      "4     960\n",
      "6     926\n",
      "5     774\n",
      "2     719\n",
      "8     373\n",
      "3     243\n",
      "Name: count, dtype: int64\n"
     ]
    }
   ],
   "source": [
    "import numpy as np\n",
    "from sklearn.model_selection import train_test_split\n",
    "\n",
    "# ランダムサンプリング\n",
    "train_xyz, test_xyz, train_label, test_label = train_test_split(scaled_xyz, label_sm, test_size=0.2,random_state=40)\n",
    "\n",
    "# 結果の確認\n",
    "print(f\"Train data shape: {train_xyz.shape}\")\n",
    "print(f\"Test data shape: {test_xyz.shape}\")\n",
    "print(f\"Train label shape: {train_label.shape}\")\n",
    "print(f\"Test label shape: {test_label.shape}\")\n",
    "print(pd.Series(train_label).value_counts())\n",
    "print(pd.Series(test_label).value_counts())"
   ]
  },
  {
   "cell_type": "code",
   "execution_count": 9,
   "metadata": {},
   "outputs": [],
   "source": [
    "import torch\n",
    "from torch.utils.data import Dataset, DataLoader\n",
    "\n",
    "class SensorDataset(Dataset):\n",
    "    def __init__(self, data, labels):\n",
    "        self.data = data\n",
    "        self.labels = labels\n",
    "\n",
    "    def __len__(self):\n",
    "        return len(self.data)\n",
    "\n",
    "    def __getitem__(self, idx):\n",
    "        sensor_data = torch.tensor(self.data[idx], dtype=torch.float)\n",
    "        labels = torch.tensor(self.labels[idx], dtype=torch.long)\n",
    "\n",
    "        attention_mask = torch.ones(sensor_data.shape[0], dtype=torch.long)  # (500,) の形状になるように\n",
    "\n",
    "        return {\n",
    "            \"sensor_data\": sensor_data,\n",
    "            \"attention_mask\": attention_mask,\n",
    "            \"labels\": labels\n",
    "        }\n"
   ]
  },
  {
   "cell_type": "code",
   "execution_count": 10,
   "metadata": {},
   "outputs": [
    {
     "name": "stdout",
     "output_type": "stream",
     "text": [
      "[4 6 4 ... 5 5 5]\n",
      "[3 5 3 ... 4 4 4]\n",
      "[7 4 3 ... 6 6 7]\n",
      "[6 3 2 ... 5 5 6]\n"
     ]
    }
   ],
   "source": [
    "# ラベルを0~7クラス分類とする\n",
    "print(train_label)\n",
    "train_label -=1\n",
    "print(train_label)\n",
    "print(test_label)\n",
    "test_label -=1\n",
    "print(test_label)"
   ]
  },
  {
   "cell_type": "code",
   "execution_count": 11,
   "metadata": {},
   "outputs": [],
   "source": [
    "train_xyz = torch.from_numpy(train_xyz)\n",
    "train_label = torch.from_numpy(train_label)\n",
    "test_xyz = torch.from_numpy(test_xyz)\n",
    "test_label = torch.from_numpy(test_label)"
   ]
  },
  {
   "cell_type": "code",
   "execution_count": 32,
   "metadata": {},
   "outputs": [],
   "source": [
    "# データセットとデータローダの作成\n",
    "train_dataset = SensorDataset(train_xyz, train_label)\n",
    "#train_dataloader = DataLoader(train_dataset, batch_size=32, shuffle=True)\n",
    "eval_dataset = SensorDataset(test_xyz, test_label)\n",
    "#eval_dataloader = DataLoader(eval_dataset)"
   ]
  },
  {
   "cell_type": "code",
   "execution_count": 33,
   "metadata": {},
   "outputs": [
    {
     "name": "stdout",
     "output_type": "stream",
     "text": [
      "SensorDistilBERT(\n",
      "  (bert): DistilBertModel(\n",
      "    (embeddings): Embeddings(\n",
      "      (word_embeddings): Embedding(30522, 768, padding_idx=0)\n",
      "      (position_embeddings): Embedding(512, 768)\n",
      "      (LayerNorm): LayerNorm((768,), eps=1e-12, elementwise_affine=True)\n",
      "      (dropout): Dropout(p=0.1, inplace=False)\n",
      "    )\n",
      "    (transformer): Transformer(\n",
      "      (layer): ModuleList(\n",
      "        (0-5): 6 x TransformerBlock(\n",
      "          (attention): MultiHeadSelfAttention(\n",
      "            (dropout): Dropout(p=0.1, inplace=False)\n",
      "            (q_lin): Linear(in_features=768, out_features=768, bias=True)\n",
      "            (k_lin): Linear(in_features=768, out_features=768, bias=True)\n",
      "            (v_lin): Linear(in_features=768, out_features=768, bias=True)\n",
      "            (out_lin): Linear(in_features=768, out_features=768, bias=True)\n",
      "          )\n",
      "          (sa_layer_norm): LayerNorm((768,), eps=1e-12, elementwise_affine=True)\n",
      "          (ffn): FFN(\n",
      "            (dropout): Dropout(p=0.1, inplace=False)\n",
      "            (lin1): Linear(in_features=768, out_features=3072, bias=True)\n",
      "            (lin2): Linear(in_features=3072, out_features=768, bias=True)\n",
      "            (activation): GELUActivation()\n",
      "          )\n",
      "          (output_layer_norm): LayerNorm((768,), eps=1e-12, elementwise_affine=True)\n",
      "        )\n",
      "      )\n",
      "    )\n",
      "  )\n",
      "  (sensor_embedding): Linear(in_features=9, out_features=768, bias=True)\n",
      "  (position_embeddings): Embedding(512, 768)\n",
      "  (classifier): Linear(in_features=768, out_features=8, bias=True)\n",
      "  (dropout): Dropout(p=0.2, inplace=False)\n",
      ")\n"
     ]
    }
   ],
   "source": [
    "model = SensorDistilBERT(num_labels=8, num_sensor_dims=9)\n",
    "print(model)"
   ]
  },
  {
   "cell_type": "code",
   "execution_count": 25,
   "metadata": {},
   "outputs": [
    {
     "name": "stdout",
     "output_type": "stream",
     "text": [
      "torch.Size([24000, 500, 9])\n",
      "torch.Size([24000])\n"
     ]
    }
   ],
   "source": [
    "print(train_xyz.shape)\n",
    "print(train_label.shape)"
   ]
  },
  {
   "cell_type": "code",
   "execution_count": 34,
   "metadata": {},
   "outputs": [
    {
     "data": {
      "application/vnd.jupyter.widget-view+json": {
       "model_id": "8019ddd5fe0b49348f68403692cd24dd",
       "version_major": 2,
       "version_minor": 0
      },
      "text/plain": [
       "  0%|          | 0/15000 [00:00<?, ?it/s]"
      ]
     },
     "metadata": {},
     "output_type": "display_data"
    },
    {
     "name": "stderr",
     "output_type": "stream",
     "text": [
      "C:\\Users\\kaiha\\AppData\\Local\\Temp\\ipykernel_39780\\1363848515.py:13: UserWarning: To copy construct from a tensor, it is recommended to use sourceTensor.clone().detach() or sourceTensor.clone().detach().requires_grad_(True), rather than torch.tensor(sourceTensor).\n",
      "  sensor_data = torch.tensor(self.data[idx], dtype=torch.float)\n",
      "C:\\Users\\kaiha\\AppData\\Local\\Temp\\ipykernel_39780\\1363848515.py:14: UserWarning: To copy construct from a tensor, it is recommended to use sourceTensor.clone().detach() or sourceTensor.clone().detach().requires_grad_(True), rather than torch.tensor(sourceTensor).\n",
      "  labels = torch.tensor(self.labels[idx], dtype=torch.long)\n"
     ]
    },
    {
     "name": "stdout",
     "output_type": "stream",
     "text": [
      "{'loss': 1.7532, 'grad_norm': 8.542439460754395, 'learning_rate': 4.967e-05, 'epoch': 0.07}\n",
      "{'loss': 1.3429, 'grad_norm': 5.760010242462158, 'learning_rate': 4.933666666666667e-05, 'epoch': 0.13}\n",
      "{'loss': 1.1648, 'grad_norm': 7.666038513183594, 'learning_rate': 4.900333333333333e-05, 'epoch': 0.2}\n",
      "{'loss': 1.0674, 'grad_norm': 5.930697441101074, 'learning_rate': 4.867000000000001e-05, 'epoch': 0.27}\n",
      "{'loss': 0.9949, 'grad_norm': 8.306723594665527, 'learning_rate': 4.833666666666667e-05, 'epoch': 0.33}\n",
      "{'loss': 0.9713, 'grad_norm': 5.998052597045898, 'learning_rate': 4.8003333333333335e-05, 'epoch': 0.4}\n",
      "{'loss': 1.0209, 'grad_norm': 6.215449810028076, 'learning_rate': 4.767e-05, 'epoch': 0.47}\n",
      "{'loss': 0.9178, 'grad_norm': 5.494387626647949, 'learning_rate': 4.733666666666667e-05, 'epoch': 0.53}\n",
      "{'loss': 0.8998, 'grad_norm': 7.367167949676514, 'learning_rate': 4.700333333333334e-05, 'epoch': 0.6}\n",
      "{'loss': 0.8245, 'grad_norm': 6.886847972869873, 'learning_rate': 4.6670000000000005e-05, 'epoch': 0.67}\n"
     ]
    },
    {
     "data": {
      "application/vnd.jupyter.widget-view+json": {
       "model_id": "343167bba4ab4bb98e5decce1288e566",
       "version_major": 2,
       "version_minor": 0
      },
      "text/plain": [
       "  0%|          | 0/750 [00:00<?, ?it/s]"
      ]
     },
     "metadata": {},
     "output_type": "display_data"
    },
    {
     "name": "stdout",
     "output_type": "stream",
     "text": [
      "{'eval_loss': 0.8022453784942627, 'eval_runtime': 14.5023, 'eval_samples_per_second': 413.728, 'eval_steps_per_second': 51.716, 'epoch': 0.67}\n",
      "{'loss': 0.8887, 'grad_norm': 5.231263160705566, 'learning_rate': 4.6336666666666666e-05, 'epoch': 0.73}\n",
      "{'loss': 0.8328, 'grad_norm': 7.713507175445557, 'learning_rate': 4.6003333333333334e-05, 'epoch': 0.8}\n",
      "{'loss': 0.8246, 'grad_norm': 6.932085990905762, 'learning_rate': 4.567e-05, 'epoch': 0.87}\n",
      "{'loss': 0.8075, 'grad_norm': 4.703273773193359, 'learning_rate': 4.533666666666667e-05, 'epoch': 0.93}\n",
      "{'loss': 0.8131, 'grad_norm': 5.312142372131348, 'learning_rate': 4.500333333333334e-05, 'epoch': 1.0}\n",
      "{'loss': 0.7524, 'grad_norm': 6.427762031555176, 'learning_rate': 4.467e-05, 'epoch': 1.07}\n",
      "{'loss': 0.7649, 'grad_norm': 4.9148736000061035, 'learning_rate': 4.433666666666667e-05, 'epoch': 1.13}\n",
      "{'loss': 0.7235, 'grad_norm': 4.896566390991211, 'learning_rate': 4.400333333333333e-05, 'epoch': 1.2}\n",
      "{'loss': 0.6949, 'grad_norm': 4.4762468338012695, 'learning_rate': 4.367e-05, 'epoch': 1.27}\n",
      "{'loss': 0.7234, 'grad_norm': 8.1023588180542, 'learning_rate': 4.333666666666667e-05, 'epoch': 1.33}\n"
     ]
    },
    {
     "data": {
      "application/vnd.jupyter.widget-view+json": {
       "model_id": "32e794a7b5de4b6a9a23b523ec444751",
       "version_major": 2,
       "version_minor": 0
      },
      "text/plain": [
       "  0%|          | 0/750 [00:00<?, ?it/s]"
      ]
     },
     "metadata": {},
     "output_type": "display_data"
    },
    {
     "name": "stdout",
     "output_type": "stream",
     "text": [
      "{'eval_loss': 0.711900532245636, 'eval_runtime': 14.4712, 'eval_samples_per_second': 414.617, 'eval_steps_per_second': 51.827, 'epoch': 1.33}\n",
      "{'loss': 0.6871, 'grad_norm': 3.5111212730407715, 'learning_rate': 4.3003333333333336e-05, 'epoch': 1.4}\n",
      "{'loss': 0.7253, 'grad_norm': 7.031973838806152, 'learning_rate': 4.267333333333334e-05, 'epoch': 1.47}\n",
      "{'loss': 0.6761, 'grad_norm': 5.5332722663879395, 'learning_rate': 4.2340000000000005e-05, 'epoch': 1.53}\n",
      "{'loss': 0.6689, 'grad_norm': 7.7213311195373535, 'learning_rate': 4.2006666666666665e-05, 'epoch': 1.6}\n",
      "{'loss': 0.6417, 'grad_norm': 4.745169162750244, 'learning_rate': 4.167333333333334e-05, 'epoch': 1.67}\n",
      "{'loss': 0.6471, 'grad_norm': 6.8830389976501465, 'learning_rate': 4.134e-05, 'epoch': 1.73}\n",
      "{'loss': 0.6056, 'grad_norm': 4.873073101043701, 'learning_rate': 4.100666666666667e-05, 'epoch': 1.8}\n",
      "{'loss': 0.6406, 'grad_norm': 6.730112075805664, 'learning_rate': 4.0673333333333336e-05, 'epoch': 1.87}\n",
      "{'loss': 0.6384, 'grad_norm': 8.779921531677246, 'learning_rate': 4.034e-05, 'epoch': 1.93}\n",
      "{'loss': 0.6329, 'grad_norm': 6.516882419586182, 'learning_rate': 4.000666666666667e-05, 'epoch': 2.0}\n"
     ]
    },
    {
     "data": {
      "application/vnd.jupyter.widget-view+json": {
       "model_id": "587c427f2efc428ea455062988a123a5",
       "version_major": 2,
       "version_minor": 0
      },
      "text/plain": [
       "  0%|          | 0/750 [00:00<?, ?it/s]"
      ]
     },
     "metadata": {},
     "output_type": "display_data"
    },
    {
     "name": "stdout",
     "output_type": "stream",
     "text": [
      "{'eval_loss': 0.6402190923690796, 'eval_runtime': 14.3735, 'eval_samples_per_second': 417.434, 'eval_steps_per_second': 52.179, 'epoch': 2.0}\n",
      "{'loss': 0.5726, 'grad_norm': 6.981240749359131, 'learning_rate': 3.967333333333333e-05, 'epoch': 2.07}\n",
      "{'loss': 0.5694, 'grad_norm': 5.850503921508789, 'learning_rate': 3.9340000000000006e-05, 'epoch': 2.13}\n",
      "{'loss': 0.5465, 'grad_norm': 4.154842376708984, 'learning_rate': 3.900666666666667e-05, 'epoch': 2.2}\n",
      "{'loss': 0.6136, 'grad_norm': 5.494388103485107, 'learning_rate': 3.8673333333333335e-05, 'epoch': 2.27}\n",
      "{'loss': 0.5256, 'grad_norm': 6.022877216339111, 'learning_rate': 3.834e-05, 'epoch': 2.33}\n",
      "{'loss': 0.5448, 'grad_norm': 6.417742729187012, 'learning_rate': 3.800666666666667e-05, 'epoch': 2.4}\n",
      "{'loss': 0.5951, 'grad_norm': 8.206258773803711, 'learning_rate': 3.767333333333333e-05, 'epoch': 2.47}\n",
      "{'loss': 0.5481, 'grad_norm': 6.085649013519287, 'learning_rate': 3.7340000000000005e-05, 'epoch': 2.53}\n",
      "{'loss': 0.4933, 'grad_norm': 7.587376117706299, 'learning_rate': 3.7006666666666666e-05, 'epoch': 2.6}\n",
      "{'loss': 0.5576, 'grad_norm': 8.130436897277832, 'learning_rate': 3.667333333333334e-05, 'epoch': 2.67}\n"
     ]
    },
    {
     "data": {
      "application/vnd.jupyter.widget-view+json": {
       "model_id": "042b27a3129041368c0a0384473a0924",
       "version_major": 2,
       "version_minor": 0
      },
      "text/plain": [
       "  0%|          | 0/750 [00:00<?, ?it/s]"
      ]
     },
     "metadata": {},
     "output_type": "display_data"
    },
    {
     "name": "stdout",
     "output_type": "stream",
     "text": [
      "{'eval_loss': 0.6153427958488464, 'eval_runtime': 14.4672, 'eval_samples_per_second': 414.73, 'eval_steps_per_second': 51.841, 'epoch': 2.67}\n",
      "{'loss': 0.5274, 'grad_norm': 5.579047203063965, 'learning_rate': 3.634e-05, 'epoch': 2.73}\n",
      "{'loss': 0.5095, 'grad_norm': 4.678616046905518, 'learning_rate': 3.600666666666667e-05, 'epoch': 2.8}\n",
      "{'loss': 0.5416, 'grad_norm': 6.828825950622559, 'learning_rate': 3.567666666666667e-05, 'epoch': 2.87}\n",
      "{'loss': 0.5627, 'grad_norm': 4.626081943511963, 'learning_rate': 3.534333333333333e-05, 'epoch': 2.93}\n",
      "{'loss': 0.5352, 'grad_norm': 6.923862934112549, 'learning_rate': 3.5010000000000005e-05, 'epoch': 3.0}\n",
      "{'loss': 0.4621, 'grad_norm': 6.5249786376953125, 'learning_rate': 3.4676666666666666e-05, 'epoch': 3.07}\n",
      "{'loss': 0.4698, 'grad_norm': 4.104395389556885, 'learning_rate': 3.4343333333333334e-05, 'epoch': 3.13}\n",
      "{'loss': 0.4882, 'grad_norm': 6.204339504241943, 'learning_rate': 3.401e-05, 'epoch': 3.2}\n",
      "{'loss': 0.4476, 'grad_norm': 3.516587734222412, 'learning_rate': 3.367666666666667e-05, 'epoch': 3.27}\n",
      "{'loss': 0.479, 'grad_norm': 7.368094444274902, 'learning_rate': 3.3343333333333337e-05, 'epoch': 3.33}\n"
     ]
    },
    {
     "data": {
      "application/vnd.jupyter.widget-view+json": {
       "model_id": "c777407d18c5465680851f200e3f9632",
       "version_major": 2,
       "version_minor": 0
      },
      "text/plain": [
       "  0%|          | 0/750 [00:00<?, ?it/s]"
      ]
     },
     "metadata": {},
     "output_type": "display_data"
    },
    {
     "name": "stdout",
     "output_type": "stream",
     "text": [
      "{'eval_loss': 0.5291739106178284, 'eval_runtime': 14.4909, 'eval_samples_per_second': 414.052, 'eval_steps_per_second': 51.756, 'epoch': 3.33}\n",
      "{'loss': 0.4554, 'grad_norm': 3.040597677230835, 'learning_rate': 3.3010000000000004e-05, 'epoch': 3.4}\n",
      "{'loss': 0.4929, 'grad_norm': 5.886623382568359, 'learning_rate': 3.2676666666666665e-05, 'epoch': 3.47}\n",
      "{'loss': 0.4606, 'grad_norm': 4.65187406539917, 'learning_rate': 3.234333333333334e-05, 'epoch': 3.53}\n",
      "{'loss': 0.4015, 'grad_norm': 1.2683396339416504, 'learning_rate': 3.201e-05, 'epoch': 3.6}\n",
      "{'loss': 0.4313, 'grad_norm': 4.723440170288086, 'learning_rate': 3.167666666666667e-05, 'epoch': 3.67}\n",
      "{'loss': 0.4716, 'grad_norm': 3.668869972229004, 'learning_rate': 3.1343333333333335e-05, 'epoch': 3.73}\n",
      "{'loss': 0.4096, 'grad_norm': 7.4265971183776855, 'learning_rate': 3.101e-05, 'epoch': 3.8}\n",
      "{'loss': 0.4164, 'grad_norm': 4.517968654632568, 'learning_rate': 3.067666666666667e-05, 'epoch': 3.87}\n",
      "{'loss': 0.4076, 'grad_norm': 7.170330047607422, 'learning_rate': 3.0343333333333335e-05, 'epoch': 3.93}\n",
      "{'loss': 0.4026, 'grad_norm': 6.837274074554443, 'learning_rate': 3.001e-05, 'epoch': 4.0}\n"
     ]
    },
    {
     "data": {
      "application/vnd.jupyter.widget-view+json": {
       "model_id": "cda057a3f62142848816c6da6455b610",
       "version_major": 2,
       "version_minor": 0
      },
      "text/plain": [
       "  0%|          | 0/750 [00:00<?, ?it/s]"
      ]
     },
     "metadata": {},
     "output_type": "display_data"
    },
    {
     "name": "stdout",
     "output_type": "stream",
     "text": [
      "{'eval_loss': 0.4776792824268341, 'eval_runtime': 14.4589, 'eval_samples_per_second': 414.969, 'eval_steps_per_second': 51.871, 'epoch': 4.0}\n",
      "{'loss': 0.3865, 'grad_norm': 4.550349712371826, 'learning_rate': 2.967666666666667e-05, 'epoch': 4.07}\n",
      "{'loss': 0.3701, 'grad_norm': 4.798825740814209, 'learning_rate': 2.9343333333333334e-05, 'epoch': 4.13}\n",
      "{'loss': 0.3815, 'grad_norm': 6.441429138183594, 'learning_rate': 2.9013333333333336e-05, 'epoch': 4.2}\n",
      "{'loss': 0.3952, 'grad_norm': 1.892427682876587, 'learning_rate': 2.868e-05, 'epoch': 4.27}\n",
      "{'loss': 0.3539, 'grad_norm': 3.506348133087158, 'learning_rate': 2.8346666666666667e-05, 'epoch': 4.33}\n",
      "{'loss': 0.3716, 'grad_norm': 5.477709770202637, 'learning_rate': 2.8013333333333335e-05, 'epoch': 4.4}\n",
      "{'loss': 0.3554, 'grad_norm': 3.003939628601074, 'learning_rate': 2.768e-05, 'epoch': 4.47}\n",
      "{'loss': 0.3899, 'grad_norm': 6.836611747741699, 'learning_rate': 2.734666666666667e-05, 'epoch': 4.53}\n",
      "{'loss': 0.3789, 'grad_norm': 7.637547969818115, 'learning_rate': 2.7013333333333334e-05, 'epoch': 4.6}\n",
      "{'loss': 0.3409, 'grad_norm': 4.70121955871582, 'learning_rate': 2.668e-05, 'epoch': 4.67}\n"
     ]
    },
    {
     "data": {
      "application/vnd.jupyter.widget-view+json": {
       "model_id": "17eb485e51744e17bc6a1998719d12e4",
       "version_major": 2,
       "version_minor": 0
      },
      "text/plain": [
       "  0%|          | 0/750 [00:00<?, ?it/s]"
      ]
     },
     "metadata": {},
     "output_type": "display_data"
    },
    {
     "name": "stdout",
     "output_type": "stream",
     "text": [
      "{'eval_loss': 0.553077220916748, 'eval_runtime': 14.4529, 'eval_samples_per_second': 415.141, 'eval_steps_per_second': 51.893, 'epoch': 4.67}\n",
      "{'loss': 0.3565, 'grad_norm': 9.030773162841797, 'learning_rate': 2.634666666666667e-05, 'epoch': 4.73}\n",
      "{'loss': 0.3552, 'grad_norm': 5.301426887512207, 'learning_rate': 2.6013333333333334e-05, 'epoch': 4.8}\n",
      "{'loss': 0.3362, 'grad_norm': 7.814146995544434, 'learning_rate': 2.5679999999999998e-05, 'epoch': 4.87}\n",
      "{'loss': 0.3779, 'grad_norm': 7.300939083099365, 'learning_rate': 2.534666666666667e-05, 'epoch': 4.93}\n",
      "{'loss': 0.3868, 'grad_norm': 1.5429848432540894, 'learning_rate': 2.5013333333333333e-05, 'epoch': 5.0}\n",
      "{'loss': 0.3196, 'grad_norm': 1.245543360710144, 'learning_rate': 2.468e-05, 'epoch': 5.07}\n",
      "{'loss': 0.3123, 'grad_norm': 1.046228289604187, 'learning_rate': 2.434666666666667e-05, 'epoch': 5.13}\n",
      "{'loss': 0.2843, 'grad_norm': 4.16069221496582, 'learning_rate': 2.4013333333333336e-05, 'epoch': 5.2}\n",
      "{'loss': 0.2896, 'grad_norm': 7.628713130950928, 'learning_rate': 2.3680000000000004e-05, 'epoch': 5.27}\n",
      "{'loss': 0.3164, 'grad_norm': 6.134883403778076, 'learning_rate': 2.3346666666666668e-05, 'epoch': 5.33}\n"
     ]
    },
    {
     "data": {
      "application/vnd.jupyter.widget-view+json": {
       "model_id": "57a4063bdbc242d8af9fef28020b10bc",
       "version_major": 2,
       "version_minor": 0
      },
      "text/plain": [
       "  0%|          | 0/750 [00:00<?, ?it/s]"
      ]
     },
     "metadata": {},
     "output_type": "display_data"
    },
    {
     "name": "stdout",
     "output_type": "stream",
     "text": [
      "{'eval_loss': 0.501112699508667, 'eval_runtime': 14.4075, 'eval_samples_per_second': 416.45, 'eval_steps_per_second': 52.056, 'epoch': 5.33}\n",
      "{'loss': 0.29, 'grad_norm': 2.882490634918213, 'learning_rate': 2.3013333333333335e-05, 'epoch': 5.4}\n",
      "{'loss': 0.3118, 'grad_norm': 1.2392605543136597, 'learning_rate': 2.268e-05, 'epoch': 5.47}\n",
      "{'loss': 0.2964, 'grad_norm': 2.823105573654175, 'learning_rate': 2.2346666666666667e-05, 'epoch': 5.53}\n",
      "{'loss': 0.2848, 'grad_norm': 4.301681995391846, 'learning_rate': 2.201333333333333e-05, 'epoch': 5.6}\n",
      "{'loss': 0.3387, 'grad_norm': 5.938754081726074, 'learning_rate': 2.1683333333333333e-05, 'epoch': 5.67}\n",
      "{'loss': 0.3056, 'grad_norm': 9.520491600036621, 'learning_rate': 2.135e-05, 'epoch': 5.73}\n",
      "{'loss': 0.2786, 'grad_norm': 6.493705749511719, 'learning_rate': 2.1016666666666668e-05, 'epoch': 5.8}\n",
      "{'loss': 0.3106, 'grad_norm': 7.788626194000244, 'learning_rate': 2.0683333333333336e-05, 'epoch': 5.87}\n",
      "{'loss': 0.2994, 'grad_norm': 5.84752893447876, 'learning_rate': 2.035e-05, 'epoch': 5.93}\n",
      "{'loss': 0.2525, 'grad_norm': 2.4452385902404785, 'learning_rate': 2.0016666666666668e-05, 'epoch': 6.0}\n"
     ]
    },
    {
     "data": {
      "application/vnd.jupyter.widget-view+json": {
       "model_id": "a504aa2d828a46019505ef4d6d6b2db6",
       "version_major": 2,
       "version_minor": 0
      },
      "text/plain": [
       "  0%|          | 0/750 [00:00<?, ?it/s]"
      ]
     },
     "metadata": {},
     "output_type": "display_data"
    },
    {
     "name": "stdout",
     "output_type": "stream",
     "text": [
      "{'eval_loss': 0.4644606113433838, 'eval_runtime': 14.4487, 'eval_samples_per_second': 415.263, 'eval_steps_per_second': 51.908, 'epoch': 6.0}\n",
      "{'loss': 0.2316, 'grad_norm': 4.143164157867432, 'learning_rate': 1.9683333333333335e-05, 'epoch': 6.07}\n",
      "{'loss': 0.2606, 'grad_norm': 8.399003982543945, 'learning_rate': 1.9350000000000003e-05, 'epoch': 6.13}\n",
      "{'loss': 0.2329, 'grad_norm': 5.9107255935668945, 'learning_rate': 1.901666666666667e-05, 'epoch': 6.2}\n",
      "{'loss': 0.2315, 'grad_norm': 4.470897674560547, 'learning_rate': 1.8683333333333335e-05, 'epoch': 6.27}\n",
      "{'loss': 0.2853, 'grad_norm': 3.852116584777832, 'learning_rate': 1.8350000000000002e-05, 'epoch': 6.33}\n",
      "{'loss': 0.2591, 'grad_norm': 1.587384819984436, 'learning_rate': 1.8016666666666666e-05, 'epoch': 6.4}\n",
      "{'loss': 0.2287, 'grad_norm': 7.247225761413574, 'learning_rate': 1.7683333333333334e-05, 'epoch': 6.47}\n",
      "{'loss': 0.2558, 'grad_norm': 4.7795867919921875, 'learning_rate': 1.7349999999999998e-05, 'epoch': 6.53}\n",
      "{'loss': 0.2393, 'grad_norm': 4.577395439147949, 'learning_rate': 1.7016666666666666e-05, 'epoch': 6.6}\n",
      "{'loss': 0.2581, 'grad_norm': 12.060639381408691, 'learning_rate': 1.6683333333333333e-05, 'epoch': 6.67}\n"
     ]
    },
    {
     "data": {
      "application/vnd.jupyter.widget-view+json": {
       "model_id": "6b300f4e28ea4fe1b7581a00f9bdee52",
       "version_major": 2,
       "version_minor": 0
      },
      "text/plain": [
       "  0%|          | 0/750 [00:00<?, ?it/s]"
      ]
     },
     "metadata": {},
     "output_type": "display_data"
    },
    {
     "name": "stdout",
     "output_type": "stream",
     "text": [
      "{'eval_loss': 0.46714022755622864, 'eval_runtime': 14.4889, 'eval_samples_per_second': 414.11, 'eval_steps_per_second': 51.764, 'epoch': 6.67}\n",
      "{'loss': 0.2506, 'grad_norm': 5.561798572540283, 'learning_rate': 1.635e-05, 'epoch': 6.73}\n",
      "{'loss': 0.2048, 'grad_norm': 0.7824525833129883, 'learning_rate': 1.601666666666667e-05, 'epoch': 6.8}\n",
      "{'loss': 0.2475, 'grad_norm': 7.908230781555176, 'learning_rate': 1.5683333333333333e-05, 'epoch': 6.87}\n",
      "{'loss': 0.2421, 'grad_norm': 7.729038715362549, 'learning_rate': 1.535e-05, 'epoch': 6.93}\n",
      "{'loss': 0.2273, 'grad_norm': 6.538878917694092, 'learning_rate': 1.5016666666666668e-05, 'epoch': 7.0}\n",
      "{'loss': 0.1995, 'grad_norm': 4.749534606933594, 'learning_rate': 1.4683333333333336e-05, 'epoch': 7.07}\n",
      "{'loss': 0.1751, 'grad_norm': 7.3897385597229, 'learning_rate': 1.435e-05, 'epoch': 7.13}\n",
      "{'loss': 0.1961, 'grad_norm': 4.381817817687988, 'learning_rate': 1.4016666666666667e-05, 'epoch': 7.2}\n",
      "{'loss': 0.1768, 'grad_norm': 3.614487648010254, 'learning_rate': 1.3683333333333333e-05, 'epoch': 7.27}\n",
      "{'loss': 0.1812, 'grad_norm': 8.697957038879395, 'learning_rate': 1.3350000000000001e-05, 'epoch': 7.33}\n"
     ]
    },
    {
     "data": {
      "application/vnd.jupyter.widget-view+json": {
       "model_id": "924d81dbde4b41cf88b03de46f43bef4",
       "version_major": 2,
       "version_minor": 0
      },
      "text/plain": [
       "  0%|          | 0/750 [00:00<?, ?it/s]"
      ]
     },
     "metadata": {},
     "output_type": "display_data"
    },
    {
     "name": "stdout",
     "output_type": "stream",
     "text": [
      "{'eval_loss': 0.4843103885650635, 'eval_runtime': 14.5317, 'eval_samples_per_second': 412.889, 'eval_steps_per_second': 51.611, 'epoch': 7.33}\n",
      "{'loss': 0.2224, 'grad_norm': 9.813237190246582, 'learning_rate': 1.3016666666666669e-05, 'epoch': 7.4}\n",
      "{'loss': 0.1955, 'grad_norm': 2.988807439804077, 'learning_rate': 1.2683333333333333e-05, 'epoch': 7.47}\n",
      "{'loss': 0.1734, 'grad_norm': 5.132268905639648, 'learning_rate': 1.235e-05, 'epoch': 7.53}\n",
      "{'loss': 0.2063, 'grad_norm': 4.041539192199707, 'learning_rate': 1.2016666666666668e-05, 'epoch': 7.6}\n",
      "{'loss': 0.1877, 'grad_norm': 6.927298545837402, 'learning_rate': 1.1683333333333334e-05, 'epoch': 7.67}\n",
      "{'loss': 0.1603, 'grad_norm': 2.005741596221924, 'learning_rate': 1.1350000000000001e-05, 'epoch': 7.73}\n",
      "{'loss': 0.1807, 'grad_norm': 2.7932369709014893, 'learning_rate': 1.1016666666666667e-05, 'epoch': 7.8}\n",
      "{'loss': 0.1996, 'grad_norm': 5.973917007446289, 'learning_rate': 1.0683333333333333e-05, 'epoch': 7.87}\n",
      "{'loss': 0.1859, 'grad_norm': 8.48551082611084, 'learning_rate': 1.035e-05, 'epoch': 7.93}\n",
      "{'loss': 0.1827, 'grad_norm': 0.6939388513565063, 'learning_rate': 1.0016666666666667e-05, 'epoch': 8.0}\n"
     ]
    },
    {
     "data": {
      "application/vnd.jupyter.widget-view+json": {
       "model_id": "20d67fd87cad466aaa297086934083db",
       "version_major": 2,
       "version_minor": 0
      },
      "text/plain": [
       "  0%|          | 0/750 [00:00<?, ?it/s]"
      ]
     },
     "metadata": {},
     "output_type": "display_data"
    },
    {
     "name": "stdout",
     "output_type": "stream",
     "text": [
      "{'eval_loss': 0.44075772166252136, 'eval_runtime': 14.5185, 'eval_samples_per_second': 413.266, 'eval_steps_per_second': 51.658, 'epoch': 8.0}\n",
      "{'loss': 0.1628, 'grad_norm': 8.280160903930664, 'learning_rate': 9.683333333333333e-06, 'epoch': 8.07}\n",
      "{'loss': 0.1332, 'grad_norm': 0.6114434599876404, 'learning_rate': 9.35e-06, 'epoch': 8.13}\n",
      "{'loss': 0.1432, 'grad_norm': 5.634101390838623, 'learning_rate': 9.016666666666668e-06, 'epoch': 8.2}\n",
      "{'loss': 0.1628, 'grad_norm': 1.9808844327926636, 'learning_rate': 8.683333333333334e-06, 'epoch': 8.27}\n",
      "{'loss': 0.1479, 'grad_norm': 2.66702938079834, 'learning_rate': 8.350000000000001e-06, 'epoch': 8.33}\n",
      "{'loss': 0.1591, 'grad_norm': 5.836008071899414, 'learning_rate': 8.02e-06, 'epoch': 8.4}\n",
      "{'loss': 0.1463, 'grad_norm': 10.55387020111084, 'learning_rate': 7.686666666666667e-06, 'epoch': 8.47}\n",
      "{'loss': 0.1412, 'grad_norm': 7.301278114318848, 'learning_rate': 7.353333333333335e-06, 'epoch': 8.53}\n",
      "{'loss': 0.1398, 'grad_norm': 3.2404417991638184, 'learning_rate': 7.0200000000000006e-06, 'epoch': 8.6}\n",
      "{'loss': 0.1214, 'grad_norm': 0.3718765377998352, 'learning_rate': 6.686666666666667e-06, 'epoch': 8.67}\n"
     ]
    },
    {
     "data": {
      "application/vnd.jupyter.widget-view+json": {
       "model_id": "3a240ee650db45a19e8015b182668dcc",
       "version_major": 2,
       "version_minor": 0
      },
      "text/plain": [
       "  0%|          | 0/750 [00:00<?, ?it/s]"
      ]
     },
     "metadata": {},
     "output_type": "display_data"
    },
    {
     "name": "stdout",
     "output_type": "stream",
     "text": [
      "{'eval_loss': 0.44607722759246826, 'eval_runtime': 16.294, 'eval_samples_per_second': 368.234, 'eval_steps_per_second': 46.029, 'epoch': 8.67}\n",
      "{'loss': 0.1263, 'grad_norm': 3.27824330329895, 'learning_rate': 6.353333333333333e-06, 'epoch': 8.73}\n",
      "{'loss': 0.1465, 'grad_norm': 4.618011474609375, 'learning_rate': 6.02e-06, 'epoch': 8.8}\n",
      "{'loss': 0.12, 'grad_norm': 8.46911334991455, 'learning_rate': 5.6866666666666676e-06, 'epoch': 8.87}\n",
      "{'loss': 0.1685, 'grad_norm': 9.18997859954834, 'learning_rate': 5.3533333333333335e-06, 'epoch': 8.93}\n",
      "{'loss': 0.1326, 'grad_norm': 3.6864817142486572, 'learning_rate': 5.02e-06, 'epoch': 9.0}\n",
      "{'loss': 0.1173, 'grad_norm': 3.8017139434814453, 'learning_rate': 4.686666666666667e-06, 'epoch': 9.07}\n",
      "{'loss': 0.1196, 'grad_norm': 12.455859184265137, 'learning_rate': 4.353333333333334e-06, 'epoch': 9.13}\n",
      "{'loss': 0.1285, 'grad_norm': 5.00469446182251, 'learning_rate': 4.0200000000000005e-06, 'epoch': 9.2}\n",
      "{'loss': 0.1264, 'grad_norm': 1.2153366804122925, 'learning_rate': 3.686666666666667e-06, 'epoch': 9.27}\n",
      "{'loss': 0.0987, 'grad_norm': 0.8596070408821106, 'learning_rate': 3.353333333333333e-06, 'epoch': 9.33}\n"
     ]
    },
    {
     "data": {
      "application/vnd.jupyter.widget-view+json": {
       "model_id": "af73c0930adc4765a75f14e19032b7aa",
       "version_major": 2,
       "version_minor": 0
      },
      "text/plain": [
       "  0%|          | 0/750 [00:00<?, ?it/s]"
      ]
     },
     "metadata": {},
     "output_type": "display_data"
    },
    {
     "name": "stdout",
     "output_type": "stream",
     "text": [
      "{'eval_loss': 0.4706176221370697, 'eval_runtime': 16.4643, 'eval_samples_per_second': 364.426, 'eval_steps_per_second': 45.553, 'epoch': 9.33}\n",
      "{'loss': 0.0939, 'grad_norm': 0.48154813051223755, 'learning_rate': 3.0200000000000003e-06, 'epoch': 9.4}\n",
      "{'loss': 0.1103, 'grad_norm': 7.194043159484863, 'learning_rate': 2.6866666666666666e-06, 'epoch': 9.47}\n",
      "{'loss': 0.1094, 'grad_norm': 0.549859881401062, 'learning_rate': 2.3533333333333334e-06, 'epoch': 9.53}\n",
      "{'loss': 0.1058, 'grad_norm': 9.218972206115723, 'learning_rate': 2.02e-06, 'epoch': 9.6}\n",
      "{'loss': 0.107, 'grad_norm': 1.857896327972412, 'learning_rate': 1.6866666666666667e-06, 'epoch': 9.67}\n",
      "{'loss': 0.1118, 'grad_norm': 1.1699100732803345, 'learning_rate': 1.3533333333333334e-06, 'epoch': 9.73}\n",
      "{'loss': 0.0997, 'grad_norm': 0.5994866490364075, 'learning_rate': 1.0200000000000002e-06, 'epoch': 9.8}\n",
      "{'loss': 0.1099, 'grad_norm': 1.8029959201812744, 'learning_rate': 6.866666666666667e-07, 'epoch': 9.87}\n",
      "{'loss': 0.108, 'grad_norm': 8.764760971069336, 'learning_rate': 3.533333333333333e-07, 'epoch': 9.93}\n",
      "{'loss': 0.1262, 'grad_norm': 2.907198429107666, 'learning_rate': 2e-08, 'epoch': 10.0}\n"
     ]
    },
    {
     "data": {
      "application/vnd.jupyter.widget-view+json": {
       "model_id": "c696213f25d84850bb5ac6515a043423",
       "version_major": 2,
       "version_minor": 0
      },
      "text/plain": [
       "  0%|          | 0/750 [00:00<?, ?it/s]"
      ]
     },
     "metadata": {},
     "output_type": "display_data"
    },
    {
     "name": "stdout",
     "output_type": "stream",
     "text": [
      "{'eval_loss': 0.4573783278465271, 'eval_runtime': 16.4162, 'eval_samples_per_second': 365.494, 'eval_steps_per_second': 45.687, 'epoch': 10.0}\n",
      "{'train_runtime': 2256.7036, 'train_samples_per_second': 106.35, 'train_steps_per_second': 6.647, 'train_loss': 0.4041065700531006, 'epoch': 10.0}\n"
     ]
    },
    {
     "data": {
      "text/plain": [
       "TrainOutput(global_step=15000, training_loss=0.4041065700531006, metrics={'train_runtime': 2256.7036, 'train_samples_per_second': 106.35, 'train_steps_per_second': 6.647, 'total_flos': 0.0, 'train_loss': 0.4041065700531006, 'epoch': 10.0})"
      ]
     },
     "execution_count": 34,
     "metadata": {},
     "output_type": "execute_result"
    }
   ],
   "source": [
    "# トレーニング設定\n",
    "training_args = TrainingArguments(\n",
    "    output_dir=\"./results_distilBERT\",\n",
    "    overwrite_output_dir=True,\n",
    "    num_train_epochs=10,\n",
    "    per_device_train_batch_size=16,\n",
    "    save_steps=0,\n",
    "    save_total_limit=None,\n",
    "    #logging_dir = \"./logs_distilBERT\",\n",
    "    evaluation_strategy=\"steps\",\n",
    "    eval_steps=1_000,\n",
    "    logging_steps=100,\n",
    "    max_grad_norm=1.0, # 勾配クリッピング\n",
    "    fp16=True, # fp16計算\n",
    "    #weight_decay=0.01\n",
    ")\n",
    "\n",
    "# トレーナーの定義\n",
    "trainer = Trainer(\n",
    "    model=model,\n",
    "    args=training_args,\n",
    "    train_dataset=train_dataset,\n",
    "    eval_dataset=eval_dataset,\n",
    ")\n",
    "\n",
    "# トレーニングの実行\n",
    "trainer.train()"
   ]
  },
  {
   "cell_type": "code",
   "execution_count": 31,
   "metadata": {},
   "outputs": [],
   "source": [
    "del model\n",
    "del train_dataset\n",
    "del trainer\n",
    "del eval_dataset\n",
    "\n",
    "import gc\n",
    "gc.collect()\n",
    "torch.cuda.empty_cache()"
   ]
  },
  {
   "cell_type": "markdown",
   "metadata": {},
   "source": [
    "# 評価"
   ]
  },
  {
   "cell_type": "markdown",
   "metadata": {},
   "source": [
    "### バッチ16 "
   ]
  },
  {
   "cell_type": "code",
   "execution_count": 36,
   "metadata": {},
   "outputs": [
    {
     "data": {
      "image/png": "[encoded data removed]",
      "text/plain": [
       "<Figure size 1000x500 with 1 Axes>"
      ]
     },
     "metadata": {},
     "output_type": "display_data"
    },
    {
     "name": "stderr",
     "output_type": "stream",
     "text": [
      "C:\\Users\\kaiha\\AppData\\Local\\Temp\\ipykernel_39780\\1363848515.py:13: UserWarning: To copy construct from a tensor, it is recommended to use sourceTensor.clone().detach() or sourceTensor.clone().detach().requires_grad_(True), rather than torch.tensor(sourceTensor).\n",
      "  sensor_data = torch.tensor(self.data[idx], dtype=torch.float)\n",
      "C:\\Users\\kaiha\\AppData\\Local\\Temp\\ipykernel_39780\\1363848515.py:14: UserWarning: To copy construct from a tensor, it is recommended to use sourceTensor.clone().detach() or sourceTensor.clone().detach().requires_grad_(True), rather than torch.tensor(sourceTensor).\n",
      "  labels = torch.tensor(self.labels[idx], dtype=torch.long)\n"
     ]
    },
    {
     "data": {
      "application/vnd.jupyter.widget-view+json": {
       "model_id": "25a2a37a412943b59b014c0ef639469a",
       "version_major": 2,
       "version_minor": 0
      },
      "text/plain": [
       "  0%|          | 0/750 [00:00<?, ?it/s]"
      ]
     },
     "metadata": {},
     "output_type": "display_data"
    },
    {
     "name": "stdout",
     "output_type": "stream",
     "text": [
      "              precision    recall  f1-score   support\n",
      "\n",
      "           1       0.78      0.93      0.85      1041\n",
      "           2       0.93      0.91      0.92       719\n",
      "           3       0.99      0.99      0.99       243\n",
      "           4       0.97      0.96      0.97       960\n",
      "           5       0.94      0.91      0.92       774\n",
      "           6       0.89      0.82      0.86       926\n",
      "           7       0.85      0.80      0.83       964\n",
      "           8       0.81      0.75      0.78       373\n",
      "\n",
      "    accuracy                           0.88      6000\n",
      "   macro avg       0.89      0.88      0.89      6000\n",
      "weighted avg       0.89      0.88      0.88      6000\n",
      "\n"
     ]
    },
    {
     "data": {
      "image/png": "[encoded data removed]",
      "text/plain": [
       "<Figure size 640x480 with 2 Axes>"
      ]
     },
     "metadata": {},
     "output_type": "display_data"
    }
   ],
   "source": [
    "from sklearn.metrics import confusion_matrix, classification_report\n",
    "\n",
    "#final_evaluation = trainer.evaluate()\n",
    "\n",
    "# ロスの履歴を取得\n",
    "train_loss = []\n",
    "train_steps = []\n",
    "eval_loss = []\n",
    "eval_steps = []\n",
    "for log in trainer.state.log_history:\n",
    "    if \"loss\" in log.keys():\n",
    "        train_loss.append(log[\"loss\"])\n",
    "        train_steps.append(log[\"step\"])\n",
    "    if \"eval_loss\" in log.keys():\n",
    "        eval_loss.append(log[\"eval_loss\"])\n",
    "        eval_steps.append(log[\"step\"])\n",
    "\n",
    "# 最後の評価結果を追加\n",
    "#eval_loss.append(final_evaluation[\"eval_loss\"])\n",
    "#eval_steps.append(trainer.state.global_step)\n",
    "\n",
    "# ロスのプロット\n",
    "plt.figure(figsize=(10, 5))\n",
    "plt.plot(train_steps, train_loss, label='Train Loss', color='C0')\n",
    "plt.plot(eval_steps, eval_loss, label='Eval Loss', color='C1')\n",
    "plt.xlabel('Steps')\n",
    "plt.ylabel('Loss')\n",
    "plt.legend()\n",
    "plt.title('Training and Evaluation Loss')\n",
    "plt.grid(True)\n",
    "plt.show()\n",
    "\n",
    "predictions = trainer.predict(eval_dataset)\n",
    "preds = np.argmax(predictions.predictions, axis=1)\n",
    "#true_labels = eval_dataset[\"labels\"]\n",
    "# 分類レポートの生成\n",
    "report = classification_report(test_label, preds, target_names=[str(i) for i in range(1, 9)])\n",
    "print(report)\n",
    "\n",
    "# 混同行列の計算\n",
    "cm = confusion_matrix(test_label, preds)\n",
    "sns.heatmap(cm, annot=True, fmt='d', cmap='Blues', xticklabels=[str(i) for i in range(1,9)], yticklabels=[str(i) for i in range(1,9)])\n",
    "plt.xlabel('Predicted')\n",
    "plt.ylabel('True')\n",
    "plt.title('Confusion Matrix')\n",
    "plt.show()\n"
   ]
  },
  {
   "cell_type": "code",
   "execution_count": 44,
   "metadata": {},
   "outputs": [
    {
     "data": {
      "application/vnd.jupyter.widget-view+json": {
       "model_id": "4dc7691efac749a5b9676854ca3e49cd",
       "version_major": 2,
       "version_minor": 0
      },
      "text/plain": [
       "  0%|          | 0/96 [00:00<?, ?it/s]"
      ]
     },
     "metadata": {},
     "output_type": "display_data"
    },
    {
     "name": "stderr",
     "output_type": "stream",
     "text": [
      "C:\\Users\\kaiha\\AppData\\Local\\Temp\\ipykernel_25956\\946019792.py:70: UserWarning: To copy construct from a tensor, it is recommended to use sourceTensor.clone().detach() or sourceTensor.clone().detach().requires_grad_(True), rather than torch.tensor(sourceTensor).\n",
      "  sensor_data = torch.tensor(self.data[idx], dtype=torch.float)\n",
      "C:\\Users\\kaiha\\AppData\\Local\\Temp\\ipykernel_25956\\946019792.py:71: UserWarning: To copy construct from a tensor, it is recommended to use sourceTensor.clone().detach() or sourceTensor.clone().detach().requires_grad_(True), rather than torch.tensor(sourceTensor).\n",
      "  labels = torch.tensor(self.labels[idx], dtype=torch.long)\n"
     ]
    },
    {
     "ename": "OutOfMemoryError",
     "evalue": "CUDA out of memory. Tried to allocate 368.00 MiB. GPU 0 has a total capacity of 11.99 GiB of which 0 bytes is free. Of the allocated memory 10.62 GiB is allocated by PyTorch, and 490.68 MiB is reserved by PyTorch but unallocated. If reserved but unallocated memory is large try setting PYTORCH_CUDA_ALLOC_CONF=expandable_segments:True to avoid fragmentation.  See documentation for Memory Management  (https://pytorch.org/docs/stable/notes/cuda.html#environment-variables)",
     "output_type": "error",
     "traceback": [
      "\u001b[1;31m---------------------------------------------------------------------------\u001b[0m",
      "\u001b[1;31mOutOfMemoryError\u001b[0m                          Traceback (most recent call last)",
      "Cell \u001b[1;32mIn[44], line 107\u001b[0m\n\u001b[0;32m    100\u001b[0m trainer \u001b[38;5;241m=\u001b[39m Trainer(\n\u001b[0;32m    101\u001b[0m     model\u001b[38;5;241m=\u001b[39mmodel,\n\u001b[0;32m    102\u001b[0m     args\u001b[38;5;241m=\u001b[39mtraining_args,\n\u001b[0;32m    103\u001b[0m     train_dataset\u001b[38;5;241m=\u001b[39mtrain_dataset,\n\u001b[0;32m    104\u001b[0m )\n\u001b[0;32m    106\u001b[0m \u001b[38;5;66;03m# トレーニングの実行\u001b[39;00m\n\u001b[1;32m--> 107\u001b[0m \u001b[43mtrainer\u001b[49m\u001b[38;5;241;43m.\u001b[39;49m\u001b[43mtrain\u001b[49m\u001b[43m(\u001b[49m\u001b[43m)\u001b[49m\n",
      "File \u001b[1;32mc:\\Users\\kaiha\\anaconda3\\envs\\labo_Okita\\lib\\site-packages\\transformers\\trainer.py:1885\u001b[0m, in \u001b[0;36mTrainer.train\u001b[1;34m(self, resume_from_checkpoint, trial, ignore_keys_for_eval, **kwargs)\u001b[0m\n\u001b[0;32m   1883\u001b[0m         hf_hub_utils\u001b[38;5;241m.\u001b[39menable_progress_bars()\n\u001b[0;32m   1884\u001b[0m \u001b[38;5;28;01melse\u001b[39;00m:\n\u001b[1;32m-> 1885\u001b[0m     \u001b[38;5;28;01mreturn\u001b[39;00m \u001b[43minner_training_loop\u001b[49m\u001b[43m(\u001b[49m\n\u001b[0;32m   1886\u001b[0m \u001b[43m        \u001b[49m\u001b[43margs\u001b[49m\u001b[38;5;241;43m=\u001b[39;49m\u001b[43margs\u001b[49m\u001b[43m,\u001b[49m\n\u001b[0;32m   1887\u001b[0m \u001b[43m        \u001b[49m\u001b[43mresume_from_checkpoint\u001b[49m\u001b[38;5;241;43m=\u001b[39;49m\u001b[43mresume_from_checkpoint\u001b[49m\u001b[43m,\u001b[49m\n\u001b[0;32m   1888\u001b[0m \u001b[43m        \u001b[49m\u001b[43mtrial\u001b[49m\u001b[38;5;241;43m=\u001b[39;49m\u001b[43mtrial\u001b[49m\u001b[43m,\u001b[49m\n\u001b[0;32m   1889\u001b[0m \u001b[43m        \u001b[49m\u001b[43mignore_keys_for_eval\u001b[49m\u001b[38;5;241;43m=\u001b[39;49m\u001b[43mignore_keys_for_eval\u001b[49m\u001b[43m,\u001b[49m\n\u001b[0;32m   1890\u001b[0m \u001b[43m    \u001b[49m\u001b[43m)\u001b[49m\n",
      "File \u001b[1;32mc:\\Users\\kaiha\\anaconda3\\envs\\labo_Okita\\lib\\site-packages\\transformers\\trainer.py:2216\u001b[0m, in \u001b[0;36mTrainer._inner_training_loop\u001b[1;34m(self, batch_size, args, resume_from_checkpoint, trial, ignore_keys_for_eval)\u001b[0m\n\u001b[0;32m   2213\u001b[0m     \u001b[38;5;28mself\u001b[39m\u001b[38;5;241m.\u001b[39mcontrol \u001b[38;5;241m=\u001b[39m \u001b[38;5;28mself\u001b[39m\u001b[38;5;241m.\u001b[39mcallback_handler\u001b[38;5;241m.\u001b[39mon_step_begin(args, \u001b[38;5;28mself\u001b[39m\u001b[38;5;241m.\u001b[39mstate, \u001b[38;5;28mself\u001b[39m\u001b[38;5;241m.\u001b[39mcontrol)\n\u001b[0;32m   2215\u001b[0m \u001b[38;5;28;01mwith\u001b[39;00m \u001b[38;5;28mself\u001b[39m\u001b[38;5;241m.\u001b[39maccelerator\u001b[38;5;241m.\u001b[39maccumulate(model):\n\u001b[1;32m-> 2216\u001b[0m     tr_loss_step \u001b[38;5;241m=\u001b[39m \u001b[38;5;28;43mself\u001b[39;49m\u001b[38;5;241;43m.\u001b[39;49m\u001b[43mtraining_step\u001b[49m\u001b[43m(\u001b[49m\u001b[43mmodel\u001b[49m\u001b[43m,\u001b[49m\u001b[43m \u001b[49m\u001b[43minputs\u001b[49m\u001b[43m)\u001b[49m\n\u001b[0;32m   2218\u001b[0m \u001b[38;5;28;01mif\u001b[39;00m (\n\u001b[0;32m   2219\u001b[0m     args\u001b[38;5;241m.\u001b[39mlogging_nan_inf_filter\n\u001b[0;32m   2220\u001b[0m     \u001b[38;5;129;01mand\u001b[39;00m \u001b[38;5;129;01mnot\u001b[39;00m is_torch_xla_available()\n\u001b[0;32m   2221\u001b[0m     \u001b[38;5;129;01mand\u001b[39;00m (torch\u001b[38;5;241m.\u001b[39misnan(tr_loss_step) \u001b[38;5;129;01mor\u001b[39;00m torch\u001b[38;5;241m.\u001b[39misinf(tr_loss_step))\n\u001b[0;32m   2222\u001b[0m ):\n\u001b[0;32m   2223\u001b[0m     \u001b[38;5;66;03m# if loss is nan or inf simply add the average of previous logged losses\u001b[39;00m\n\u001b[0;32m   2224\u001b[0m     tr_loss \u001b[38;5;241m+\u001b[39m\u001b[38;5;241m=\u001b[39m tr_loss \u001b[38;5;241m/\u001b[39m (\u001b[38;5;241m1\u001b[39m \u001b[38;5;241m+\u001b[39m \u001b[38;5;28mself\u001b[39m\u001b[38;5;241m.\u001b[39mstate\u001b[38;5;241m.\u001b[39mglobal_step \u001b[38;5;241m-\u001b[39m \u001b[38;5;28mself\u001b[39m\u001b[38;5;241m.\u001b[39m_globalstep_last_logged)\n",
      "File \u001b[1;32mc:\\Users\\kaiha\\anaconda3\\envs\\labo_Okita\\lib\\site-packages\\transformers\\trainer.py:3238\u001b[0m, in \u001b[0;36mTrainer.training_step\u001b[1;34m(self, model, inputs)\u001b[0m\n\u001b[0;32m   3235\u001b[0m     \u001b[38;5;28;01mreturn\u001b[39;00m loss_mb\u001b[38;5;241m.\u001b[39mreduce_mean()\u001b[38;5;241m.\u001b[39mdetach()\u001b[38;5;241m.\u001b[39mto(\u001b[38;5;28mself\u001b[39m\u001b[38;5;241m.\u001b[39margs\u001b[38;5;241m.\u001b[39mdevice)\n\u001b[0;32m   3237\u001b[0m \u001b[38;5;28;01mwith\u001b[39;00m \u001b[38;5;28mself\u001b[39m\u001b[38;5;241m.\u001b[39mcompute_loss_context_manager():\n\u001b[1;32m-> 3238\u001b[0m     loss \u001b[38;5;241m=\u001b[39m \u001b[38;5;28;43mself\u001b[39;49m\u001b[38;5;241;43m.\u001b[39;49m\u001b[43mcompute_loss\u001b[49m\u001b[43m(\u001b[49m\u001b[43mmodel\u001b[49m\u001b[43m,\u001b[49m\u001b[43m \u001b[49m\u001b[43minputs\u001b[49m\u001b[43m)\u001b[49m\n\u001b[0;32m   3240\u001b[0m \u001b[38;5;28;01mdel\u001b[39;00m inputs\n\u001b[0;32m   3241\u001b[0m torch\u001b[38;5;241m.\u001b[39mcuda\u001b[38;5;241m.\u001b[39mempty_cache()\n",
      "File \u001b[1;32mc:\\Users\\kaiha\\anaconda3\\envs\\labo_Okita\\lib\\site-packages\\transformers\\trainer.py:3264\u001b[0m, in \u001b[0;36mTrainer.compute_loss\u001b[1;34m(self, model, inputs, return_outputs)\u001b[0m\n\u001b[0;32m   3262\u001b[0m \u001b[38;5;28;01melse\u001b[39;00m:\n\u001b[0;32m   3263\u001b[0m     labels \u001b[38;5;241m=\u001b[39m \u001b[38;5;28;01mNone\u001b[39;00m\n\u001b[1;32m-> 3264\u001b[0m outputs \u001b[38;5;241m=\u001b[39m model(\u001b[38;5;241m*\u001b[39m\u001b[38;5;241m*\u001b[39minputs)\n\u001b[0;32m   3265\u001b[0m \u001b[38;5;66;03m# Save past state if it exists\u001b[39;00m\n\u001b[0;32m   3266\u001b[0m \u001b[38;5;66;03m# TODO: this needs to be fixed and made cleaner later.\u001b[39;00m\n\u001b[0;32m   3267\u001b[0m \u001b[38;5;28;01mif\u001b[39;00m \u001b[38;5;28mself\u001b[39m\u001b[38;5;241m.\u001b[39margs\u001b[38;5;241m.\u001b[39mpast_index \u001b[38;5;241m>\u001b[39m\u001b[38;5;241m=\u001b[39m \u001b[38;5;241m0\u001b[39m:\n",
      "File \u001b[1;32mc:\\Users\\kaiha\\anaconda3\\envs\\labo_Okita\\lib\\site-packages\\torch\\nn\\modules\\module.py:1511\u001b[0m, in \u001b[0;36mModule._wrapped_call_impl\u001b[1;34m(self, *args, **kwargs)\u001b[0m\n\u001b[0;32m   1509\u001b[0m     \u001b[38;5;28;01mreturn\u001b[39;00m \u001b[38;5;28mself\u001b[39m\u001b[38;5;241m.\u001b[39m_compiled_call_impl(\u001b[38;5;241m*\u001b[39margs, \u001b[38;5;241m*\u001b[39m\u001b[38;5;241m*\u001b[39mkwargs)  \u001b[38;5;66;03m# type: ignore[misc]\u001b[39;00m\n\u001b[0;32m   1510\u001b[0m \u001b[38;5;28;01melse\u001b[39;00m:\n\u001b[1;32m-> 1511\u001b[0m     \u001b[38;5;28;01mreturn\u001b[39;00m \u001b[38;5;28mself\u001b[39m\u001b[38;5;241m.\u001b[39m_call_impl(\u001b[38;5;241m*\u001b[39margs, \u001b[38;5;241m*\u001b[39m\u001b[38;5;241m*\u001b[39mkwargs)\n",
      "File \u001b[1;32mc:\\Users\\kaiha\\anaconda3\\envs\\labo_Okita\\lib\\site-packages\\torch\\nn\\modules\\module.py:1520\u001b[0m, in \u001b[0;36mModule._call_impl\u001b[1;34m(self, *args, **kwargs)\u001b[0m\n\u001b[0;32m   1515\u001b[0m \u001b[38;5;66;03m# If we don't have any hooks, we want to skip the rest of the logic in\u001b[39;00m\n\u001b[0;32m   1516\u001b[0m \u001b[38;5;66;03m# this function, and just call forward.\u001b[39;00m\n\u001b[0;32m   1517\u001b[0m \u001b[38;5;28;01mif\u001b[39;00m \u001b[38;5;129;01mnot\u001b[39;00m (\u001b[38;5;28mself\u001b[39m\u001b[38;5;241m.\u001b[39m_backward_hooks \u001b[38;5;129;01mor\u001b[39;00m \u001b[38;5;28mself\u001b[39m\u001b[38;5;241m.\u001b[39m_backward_pre_hooks \u001b[38;5;129;01mor\u001b[39;00m \u001b[38;5;28mself\u001b[39m\u001b[38;5;241m.\u001b[39m_forward_hooks \u001b[38;5;129;01mor\u001b[39;00m \u001b[38;5;28mself\u001b[39m\u001b[38;5;241m.\u001b[39m_forward_pre_hooks\n\u001b[0;32m   1518\u001b[0m         \u001b[38;5;129;01mor\u001b[39;00m _global_backward_pre_hooks \u001b[38;5;129;01mor\u001b[39;00m _global_backward_hooks\n\u001b[0;32m   1519\u001b[0m         \u001b[38;5;129;01mor\u001b[39;00m _global_forward_hooks \u001b[38;5;129;01mor\u001b[39;00m _global_forward_pre_hooks):\n\u001b[1;32m-> 1520\u001b[0m     \u001b[38;5;28;01mreturn\u001b[39;00m forward_call(\u001b[38;5;241m*\u001b[39margs, \u001b[38;5;241m*\u001b[39m\u001b[38;5;241m*\u001b[39mkwargs)\n\u001b[0;32m   1522\u001b[0m \u001b[38;5;28;01mtry\u001b[39;00m:\n\u001b[0;32m   1523\u001b[0m     result \u001b[38;5;241m=\u001b[39m \u001b[38;5;28;01mNone\u001b[39;00m\n",
      "Cell \u001b[1;32mIn[44], line 38\u001b[0m, in \u001b[0;36mSensorDistilBERT.forward\u001b[1;34m(self, sensor_data, attention_mask, labels)\u001b[0m\n\u001b[0;32m     35\u001b[0m embeddings \u001b[38;5;241m=\u001b[39m sensor_embeds \u001b[38;5;241m+\u001b[39m position_embeds\n\u001b[0;32m     37\u001b[0m \u001b[38;5;66;03m# distilBERTのトランスフォーマ層に入力 embeddingsは用意したものを利用する形で\u001b[39;00m\n\u001b[1;32m---> 38\u001b[0m outputs \u001b[38;5;241m=\u001b[39m \u001b[38;5;28;43mself\u001b[39;49m\u001b[38;5;241;43m.\u001b[39;49m\u001b[43mbert\u001b[49m\u001b[43m(\u001b[49m\u001b[43minputs_embeds\u001b[49m\u001b[38;5;241;43m=\u001b[39;49m\u001b[43membeddings\u001b[49m\u001b[43m,\u001b[49m\u001b[43m \u001b[49m\u001b[43mattention_mask\u001b[49m\u001b[38;5;241;43m=\u001b[39;49m\u001b[43mattention_mask\u001b[49m\u001b[43m)\u001b[49m\n\u001b[0;32m     40\u001b[0m \u001b[38;5;66;03m# [CLS]トークンの出力を取得\u001b[39;00m\n\u001b[0;32m     41\u001b[0m pooled_output \u001b[38;5;241m=\u001b[39m outputs\u001b[38;5;241m.\u001b[39mlast_hidden_state[:, \u001b[38;5;241m0\u001b[39m, :]  \u001b[38;5;66;03m# すべてのバッチ、シーケンスの先頭という意味ね\u001b[39;00m\n",
      "File \u001b[1;32mc:\\Users\\kaiha\\anaconda3\\envs\\labo_Okita\\lib\\site-packages\\torch\\nn\\modules\\module.py:1511\u001b[0m, in \u001b[0;36mModule._wrapped_call_impl\u001b[1;34m(self, *args, **kwargs)\u001b[0m\n\u001b[0;32m   1509\u001b[0m     \u001b[38;5;28;01mreturn\u001b[39;00m \u001b[38;5;28mself\u001b[39m\u001b[38;5;241m.\u001b[39m_compiled_call_impl(\u001b[38;5;241m*\u001b[39margs, \u001b[38;5;241m*\u001b[39m\u001b[38;5;241m*\u001b[39mkwargs)  \u001b[38;5;66;03m# type: ignore[misc]\u001b[39;00m\n\u001b[0;32m   1510\u001b[0m \u001b[38;5;28;01melse\u001b[39;00m:\n\u001b[1;32m-> 1511\u001b[0m     \u001b[38;5;28;01mreturn\u001b[39;00m \u001b[38;5;28mself\u001b[39m\u001b[38;5;241m.\u001b[39m_call_impl(\u001b[38;5;241m*\u001b[39margs, \u001b[38;5;241m*\u001b[39m\u001b[38;5;241m*\u001b[39mkwargs)\n",
      "File \u001b[1;32mc:\\Users\\kaiha\\anaconda3\\envs\\labo_Okita\\lib\\site-packages\\torch\\nn\\modules\\module.py:1520\u001b[0m, in \u001b[0;36mModule._call_impl\u001b[1;34m(self, *args, **kwargs)\u001b[0m\n\u001b[0;32m   1515\u001b[0m \u001b[38;5;66;03m# If we don't have any hooks, we want to skip the rest of the logic in\u001b[39;00m\n\u001b[0;32m   1516\u001b[0m \u001b[38;5;66;03m# this function, and just call forward.\u001b[39;00m\n\u001b[0;32m   1517\u001b[0m \u001b[38;5;28;01mif\u001b[39;00m \u001b[38;5;129;01mnot\u001b[39;00m (\u001b[38;5;28mself\u001b[39m\u001b[38;5;241m.\u001b[39m_backward_hooks \u001b[38;5;129;01mor\u001b[39;00m \u001b[38;5;28mself\u001b[39m\u001b[38;5;241m.\u001b[39m_backward_pre_hooks \u001b[38;5;129;01mor\u001b[39;00m \u001b[38;5;28mself\u001b[39m\u001b[38;5;241m.\u001b[39m_forward_hooks \u001b[38;5;129;01mor\u001b[39;00m \u001b[38;5;28mself\u001b[39m\u001b[38;5;241m.\u001b[39m_forward_pre_hooks\n\u001b[0;32m   1518\u001b[0m         \u001b[38;5;129;01mor\u001b[39;00m _global_backward_pre_hooks \u001b[38;5;129;01mor\u001b[39;00m _global_backward_hooks\n\u001b[0;32m   1519\u001b[0m         \u001b[38;5;129;01mor\u001b[39;00m _global_forward_hooks \u001b[38;5;129;01mor\u001b[39;00m _global_forward_pre_hooks):\n\u001b[1;32m-> 1520\u001b[0m     \u001b[38;5;28;01mreturn\u001b[39;00m forward_call(\u001b[38;5;241m*\u001b[39margs, \u001b[38;5;241m*\u001b[39m\u001b[38;5;241m*\u001b[39mkwargs)\n\u001b[0;32m   1522\u001b[0m \u001b[38;5;28;01mtry\u001b[39;00m:\n\u001b[0;32m   1523\u001b[0m     result \u001b[38;5;241m=\u001b[39m \u001b[38;5;28;01mNone\u001b[39;00m\n",
      "File \u001b[1;32mc:\\Users\\kaiha\\anaconda3\\envs\\labo_Okita\\lib\\site-packages\\transformers\\models\\distilbert\\modeling_distilbert.py:811\u001b[0m, in \u001b[0;36mDistilBertModel.forward\u001b[1;34m(self, input_ids, attention_mask, head_mask, inputs_embeds, output_attentions, output_hidden_states, return_dict)\u001b[0m\n\u001b[0;32m    808\u001b[0m     \u001b[38;5;28;01mif\u001b[39;00m attention_mask \u001b[38;5;129;01mis\u001b[39;00m \u001b[38;5;28;01mNone\u001b[39;00m:\n\u001b[0;32m    809\u001b[0m         attention_mask \u001b[38;5;241m=\u001b[39m torch\u001b[38;5;241m.\u001b[39mones(input_shape, device\u001b[38;5;241m=\u001b[39mdevice)  \u001b[38;5;66;03m# (bs, seq_length)\u001b[39;00m\n\u001b[1;32m--> 811\u001b[0m \u001b[38;5;28;01mreturn\u001b[39;00m \u001b[38;5;28;43mself\u001b[39;49m\u001b[38;5;241;43m.\u001b[39;49m\u001b[43mtransformer\u001b[49m\u001b[43m(\u001b[49m\n\u001b[0;32m    812\u001b[0m \u001b[43m    \u001b[49m\u001b[43mx\u001b[49m\u001b[38;5;241;43m=\u001b[39;49m\u001b[43membeddings\u001b[49m\u001b[43m,\u001b[49m\n\u001b[0;32m    813\u001b[0m \u001b[43m    \u001b[49m\u001b[43mattn_mask\u001b[49m\u001b[38;5;241;43m=\u001b[39;49m\u001b[43mattention_mask\u001b[49m\u001b[43m,\u001b[49m\n\u001b[0;32m    814\u001b[0m \u001b[43m    \u001b[49m\u001b[43mhead_mask\u001b[49m\u001b[38;5;241;43m=\u001b[39;49m\u001b[43mhead_mask\u001b[49m\u001b[43m,\u001b[49m\n\u001b[0;32m    815\u001b[0m \u001b[43m    \u001b[49m\u001b[43moutput_attentions\u001b[49m\u001b[38;5;241;43m=\u001b[39;49m\u001b[43moutput_attentions\u001b[49m\u001b[43m,\u001b[49m\n\u001b[0;32m    816\u001b[0m \u001b[43m    \u001b[49m\u001b[43moutput_hidden_states\u001b[49m\u001b[38;5;241;43m=\u001b[39;49m\u001b[43moutput_hidden_states\u001b[49m\u001b[43m,\u001b[49m\n\u001b[0;32m    817\u001b[0m \u001b[43m    \u001b[49m\u001b[43mreturn_dict\u001b[49m\u001b[38;5;241;43m=\u001b[39;49m\u001b[43mreturn_dict\u001b[49m\u001b[43m,\u001b[49m\n\u001b[0;32m    818\u001b[0m \u001b[43m\u001b[49m\u001b[43m)\u001b[49m\n",
      "File \u001b[1;32mc:\\Users\\kaiha\\anaconda3\\envs\\labo_Okita\\lib\\site-packages\\torch\\nn\\modules\\module.py:1511\u001b[0m, in \u001b[0;36mModule._wrapped_call_impl\u001b[1;34m(self, *args, **kwargs)\u001b[0m\n\u001b[0;32m   1509\u001b[0m     \u001b[38;5;28;01mreturn\u001b[39;00m \u001b[38;5;28mself\u001b[39m\u001b[38;5;241m.\u001b[39m_compiled_call_impl(\u001b[38;5;241m*\u001b[39margs, \u001b[38;5;241m*\u001b[39m\u001b[38;5;241m*\u001b[39mkwargs)  \u001b[38;5;66;03m# type: ignore[misc]\u001b[39;00m\n\u001b[0;32m   1510\u001b[0m \u001b[38;5;28;01melse\u001b[39;00m:\n\u001b[1;32m-> 1511\u001b[0m     \u001b[38;5;28;01mreturn\u001b[39;00m \u001b[38;5;28mself\u001b[39m\u001b[38;5;241m.\u001b[39m_call_impl(\u001b[38;5;241m*\u001b[39margs, \u001b[38;5;241m*\u001b[39m\u001b[38;5;241m*\u001b[39mkwargs)\n",
      "File \u001b[1;32mc:\\Users\\kaiha\\anaconda3\\envs\\labo_Okita\\lib\\site-packages\\torch\\nn\\modules\\module.py:1520\u001b[0m, in \u001b[0;36mModule._call_impl\u001b[1;34m(self, *args, **kwargs)\u001b[0m\n\u001b[0;32m   1515\u001b[0m \u001b[38;5;66;03m# If we don't have any hooks, we want to skip the rest of the logic in\u001b[39;00m\n\u001b[0;32m   1516\u001b[0m \u001b[38;5;66;03m# this function, and just call forward.\u001b[39;00m\n\u001b[0;32m   1517\u001b[0m \u001b[38;5;28;01mif\u001b[39;00m \u001b[38;5;129;01mnot\u001b[39;00m (\u001b[38;5;28mself\u001b[39m\u001b[38;5;241m.\u001b[39m_backward_hooks \u001b[38;5;129;01mor\u001b[39;00m \u001b[38;5;28mself\u001b[39m\u001b[38;5;241m.\u001b[39m_backward_pre_hooks \u001b[38;5;129;01mor\u001b[39;00m \u001b[38;5;28mself\u001b[39m\u001b[38;5;241m.\u001b[39m_forward_hooks \u001b[38;5;129;01mor\u001b[39;00m \u001b[38;5;28mself\u001b[39m\u001b[38;5;241m.\u001b[39m_forward_pre_hooks\n\u001b[0;32m   1518\u001b[0m         \u001b[38;5;129;01mor\u001b[39;00m _global_backward_pre_hooks \u001b[38;5;129;01mor\u001b[39;00m _global_backward_hooks\n\u001b[0;32m   1519\u001b[0m         \u001b[38;5;129;01mor\u001b[39;00m _global_forward_hooks \u001b[38;5;129;01mor\u001b[39;00m _global_forward_pre_hooks):\n\u001b[1;32m-> 1520\u001b[0m     \u001b[38;5;28;01mreturn\u001b[39;00m forward_call(\u001b[38;5;241m*\u001b[39margs, \u001b[38;5;241m*\u001b[39m\u001b[38;5;241m*\u001b[39mkwargs)\n\u001b[0;32m   1522\u001b[0m \u001b[38;5;28;01mtry\u001b[39;00m:\n\u001b[0;32m   1523\u001b[0m     result \u001b[38;5;241m=\u001b[39m \u001b[38;5;28;01mNone\u001b[39;00m\n",
      "File \u001b[1;32mc:\\Users\\kaiha\\anaconda3\\envs\\labo_Okita\\lib\\site-packages\\transformers\\models\\distilbert\\modeling_distilbert.py:572\u001b[0m, in \u001b[0;36mTransformer.forward\u001b[1;34m(self, x, attn_mask, head_mask, output_attentions, output_hidden_states, return_dict)\u001b[0m\n\u001b[0;32m    564\u001b[0m     layer_outputs \u001b[38;5;241m=\u001b[39m \u001b[38;5;28mself\u001b[39m\u001b[38;5;241m.\u001b[39m_gradient_checkpointing_func(\n\u001b[0;32m    565\u001b[0m         layer_module\u001b[38;5;241m.\u001b[39m\u001b[38;5;21m__call__\u001b[39m,\n\u001b[0;32m    566\u001b[0m         hidden_state,\n\u001b[1;32m   (...)\u001b[0m\n\u001b[0;32m    569\u001b[0m         output_attentions,\n\u001b[0;32m    570\u001b[0m     )\n\u001b[0;32m    571\u001b[0m \u001b[38;5;28;01melse\u001b[39;00m:\n\u001b[1;32m--> 572\u001b[0m     layer_outputs \u001b[38;5;241m=\u001b[39m \u001b[43mlayer_module\u001b[49m\u001b[43m(\u001b[49m\n\u001b[0;32m    573\u001b[0m \u001b[43m        \u001b[49m\u001b[43mhidden_state\u001b[49m\u001b[43m,\u001b[49m\n\u001b[0;32m    574\u001b[0m \u001b[43m        \u001b[49m\u001b[43mattn_mask\u001b[49m\u001b[43m,\u001b[49m\n\u001b[0;32m    575\u001b[0m \u001b[43m        \u001b[49m\u001b[43mhead_mask\u001b[49m\u001b[43m[\u001b[49m\u001b[43mi\u001b[49m\u001b[43m]\u001b[49m\u001b[43m,\u001b[49m\n\u001b[0;32m    576\u001b[0m \u001b[43m        \u001b[49m\u001b[43moutput_attentions\u001b[49m\u001b[43m,\u001b[49m\n\u001b[0;32m    577\u001b[0m \u001b[43m    \u001b[49m\u001b[43m)\u001b[49m\n\u001b[0;32m    579\u001b[0m hidden_state \u001b[38;5;241m=\u001b[39m layer_outputs[\u001b[38;5;241m-\u001b[39m\u001b[38;5;241m1\u001b[39m]\n\u001b[0;32m    581\u001b[0m \u001b[38;5;28;01mif\u001b[39;00m output_attentions:\n",
      "File \u001b[1;32mc:\\Users\\kaiha\\anaconda3\\envs\\labo_Okita\\lib\\site-packages\\torch\\nn\\modules\\module.py:1511\u001b[0m, in \u001b[0;36mModule._wrapped_call_impl\u001b[1;34m(self, *args, **kwargs)\u001b[0m\n\u001b[0;32m   1509\u001b[0m     \u001b[38;5;28;01mreturn\u001b[39;00m \u001b[38;5;28mself\u001b[39m\u001b[38;5;241m.\u001b[39m_compiled_call_impl(\u001b[38;5;241m*\u001b[39margs, \u001b[38;5;241m*\u001b[39m\u001b[38;5;241m*\u001b[39mkwargs)  \u001b[38;5;66;03m# type: ignore[misc]\u001b[39;00m\n\u001b[0;32m   1510\u001b[0m \u001b[38;5;28;01melse\u001b[39;00m:\n\u001b[1;32m-> 1511\u001b[0m     \u001b[38;5;28;01mreturn\u001b[39;00m \u001b[38;5;28mself\u001b[39m\u001b[38;5;241m.\u001b[39m_call_impl(\u001b[38;5;241m*\u001b[39margs, \u001b[38;5;241m*\u001b[39m\u001b[38;5;241m*\u001b[39mkwargs)\n",
      "File \u001b[1;32mc:\\Users\\kaiha\\anaconda3\\envs\\labo_Okita\\lib\\site-packages\\torch\\nn\\modules\\module.py:1520\u001b[0m, in \u001b[0;36mModule._call_impl\u001b[1;34m(self, *args, **kwargs)\u001b[0m\n\u001b[0;32m   1515\u001b[0m \u001b[38;5;66;03m# If we don't have any hooks, we want to skip the rest of the logic in\u001b[39;00m\n\u001b[0;32m   1516\u001b[0m \u001b[38;5;66;03m# this function, and just call forward.\u001b[39;00m\n\u001b[0;32m   1517\u001b[0m \u001b[38;5;28;01mif\u001b[39;00m \u001b[38;5;129;01mnot\u001b[39;00m (\u001b[38;5;28mself\u001b[39m\u001b[38;5;241m.\u001b[39m_backward_hooks \u001b[38;5;129;01mor\u001b[39;00m \u001b[38;5;28mself\u001b[39m\u001b[38;5;241m.\u001b[39m_backward_pre_hooks \u001b[38;5;129;01mor\u001b[39;00m \u001b[38;5;28mself\u001b[39m\u001b[38;5;241m.\u001b[39m_forward_hooks \u001b[38;5;129;01mor\u001b[39;00m \u001b[38;5;28mself\u001b[39m\u001b[38;5;241m.\u001b[39m_forward_pre_hooks\n\u001b[0;32m   1518\u001b[0m         \u001b[38;5;129;01mor\u001b[39;00m _global_backward_pre_hooks \u001b[38;5;129;01mor\u001b[39;00m _global_backward_hooks\n\u001b[0;32m   1519\u001b[0m         \u001b[38;5;129;01mor\u001b[39;00m _global_forward_hooks \u001b[38;5;129;01mor\u001b[39;00m _global_forward_pre_hooks):\n\u001b[1;32m-> 1520\u001b[0m     \u001b[38;5;28;01mreturn\u001b[39;00m forward_call(\u001b[38;5;241m*\u001b[39margs, \u001b[38;5;241m*\u001b[39m\u001b[38;5;241m*\u001b[39mkwargs)\n\u001b[0;32m   1522\u001b[0m \u001b[38;5;28;01mtry\u001b[39;00m:\n\u001b[0;32m   1523\u001b[0m     result \u001b[38;5;241m=\u001b[39m \u001b[38;5;28;01mNone\u001b[39;00m\n",
      "File \u001b[1;32mc:\\Users\\kaiha\\anaconda3\\envs\\labo_Okita\\lib\\site-packages\\transformers\\models\\distilbert\\modeling_distilbert.py:498\u001b[0m, in \u001b[0;36mTransformerBlock.forward\u001b[1;34m(self, x, attn_mask, head_mask, output_attentions)\u001b[0m\n\u001b[0;32m    488\u001b[0m \u001b[38;5;250m\u001b[39m\u001b[38;5;124;03m\"\"\"\u001b[39;00m\n\u001b[0;32m    489\u001b[0m \u001b[38;5;124;03mParameters:\u001b[39;00m\n\u001b[0;32m    490\u001b[0m \u001b[38;5;124;03m    x: torch.tensor(bs, seq_length, dim)\u001b[39;00m\n\u001b[1;32m   (...)\u001b[0m\n\u001b[0;32m    495\u001b[0m \u001b[38;5;124;03m    torch.tensor(bs, seq_length, dim) The output of the transformer block contextualization.\u001b[39;00m\n\u001b[0;32m    496\u001b[0m \u001b[38;5;124;03m\"\"\"\u001b[39;00m\n\u001b[0;32m    497\u001b[0m \u001b[38;5;66;03m# Self-Attention\u001b[39;00m\n\u001b[1;32m--> 498\u001b[0m sa_output \u001b[38;5;241m=\u001b[39m \u001b[38;5;28;43mself\u001b[39;49m\u001b[38;5;241;43m.\u001b[39;49m\u001b[43mattention\u001b[49m\u001b[43m(\u001b[49m\n\u001b[0;32m    499\u001b[0m \u001b[43m    \u001b[49m\u001b[43mquery\u001b[49m\u001b[38;5;241;43m=\u001b[39;49m\u001b[43mx\u001b[49m\u001b[43m,\u001b[49m\n\u001b[0;32m    500\u001b[0m \u001b[43m    \u001b[49m\u001b[43mkey\u001b[49m\u001b[38;5;241;43m=\u001b[39;49m\u001b[43mx\u001b[49m\u001b[43m,\u001b[49m\n\u001b[0;32m    501\u001b[0m \u001b[43m    \u001b[49m\u001b[43mvalue\u001b[49m\u001b[38;5;241;43m=\u001b[39;49m\u001b[43mx\u001b[49m\u001b[43m,\u001b[49m\n\u001b[0;32m    502\u001b[0m \u001b[43m    \u001b[49m\u001b[43mmask\u001b[49m\u001b[38;5;241;43m=\u001b[39;49m\u001b[43mattn_mask\u001b[49m\u001b[43m,\u001b[49m\n\u001b[0;32m    503\u001b[0m \u001b[43m    \u001b[49m\u001b[43mhead_mask\u001b[49m\u001b[38;5;241;43m=\u001b[39;49m\u001b[43mhead_mask\u001b[49m\u001b[43m,\u001b[49m\n\u001b[0;32m    504\u001b[0m \u001b[43m    \u001b[49m\u001b[43moutput_attentions\u001b[49m\u001b[38;5;241;43m=\u001b[39;49m\u001b[43moutput_attentions\u001b[49m\u001b[43m,\u001b[49m\n\u001b[0;32m    505\u001b[0m \u001b[43m\u001b[49m\u001b[43m)\u001b[49m\n\u001b[0;32m    506\u001b[0m \u001b[38;5;28;01mif\u001b[39;00m output_attentions:\n\u001b[0;32m    507\u001b[0m     sa_output, sa_weights \u001b[38;5;241m=\u001b[39m sa_output  \u001b[38;5;66;03m# (bs, seq_length, dim), (bs, n_heads, seq_length, seq_length)\u001b[39;00m\n",
      "File \u001b[1;32mc:\\Users\\kaiha\\anaconda3\\envs\\labo_Okita\\lib\\site-packages\\torch\\nn\\modules\\module.py:1511\u001b[0m, in \u001b[0;36mModule._wrapped_call_impl\u001b[1;34m(self, *args, **kwargs)\u001b[0m\n\u001b[0;32m   1509\u001b[0m     \u001b[38;5;28;01mreturn\u001b[39;00m \u001b[38;5;28mself\u001b[39m\u001b[38;5;241m.\u001b[39m_compiled_call_impl(\u001b[38;5;241m*\u001b[39margs, \u001b[38;5;241m*\u001b[39m\u001b[38;5;241m*\u001b[39mkwargs)  \u001b[38;5;66;03m# type: ignore[misc]\u001b[39;00m\n\u001b[0;32m   1510\u001b[0m \u001b[38;5;28;01melse\u001b[39;00m:\n\u001b[1;32m-> 1511\u001b[0m     \u001b[38;5;28;01mreturn\u001b[39;00m \u001b[38;5;28mself\u001b[39m\u001b[38;5;241m.\u001b[39m_call_impl(\u001b[38;5;241m*\u001b[39margs, \u001b[38;5;241m*\u001b[39m\u001b[38;5;241m*\u001b[39mkwargs)\n",
      "File \u001b[1;32mc:\\Users\\kaiha\\anaconda3\\envs\\labo_Okita\\lib\\site-packages\\torch\\nn\\modules\\module.py:1520\u001b[0m, in \u001b[0;36mModule._call_impl\u001b[1;34m(self, *args, **kwargs)\u001b[0m\n\u001b[0;32m   1515\u001b[0m \u001b[38;5;66;03m# If we don't have any hooks, we want to skip the rest of the logic in\u001b[39;00m\n\u001b[0;32m   1516\u001b[0m \u001b[38;5;66;03m# this function, and just call forward.\u001b[39;00m\n\u001b[0;32m   1517\u001b[0m \u001b[38;5;28;01mif\u001b[39;00m \u001b[38;5;129;01mnot\u001b[39;00m (\u001b[38;5;28mself\u001b[39m\u001b[38;5;241m.\u001b[39m_backward_hooks \u001b[38;5;129;01mor\u001b[39;00m \u001b[38;5;28mself\u001b[39m\u001b[38;5;241m.\u001b[39m_backward_pre_hooks \u001b[38;5;129;01mor\u001b[39;00m \u001b[38;5;28mself\u001b[39m\u001b[38;5;241m.\u001b[39m_forward_hooks \u001b[38;5;129;01mor\u001b[39;00m \u001b[38;5;28mself\u001b[39m\u001b[38;5;241m.\u001b[39m_forward_pre_hooks\n\u001b[0;32m   1518\u001b[0m         \u001b[38;5;129;01mor\u001b[39;00m _global_backward_pre_hooks \u001b[38;5;129;01mor\u001b[39;00m _global_backward_hooks\n\u001b[0;32m   1519\u001b[0m         \u001b[38;5;129;01mor\u001b[39;00m _global_forward_hooks \u001b[38;5;129;01mor\u001b[39;00m _global_forward_pre_hooks):\n\u001b[1;32m-> 1520\u001b[0m     \u001b[38;5;28;01mreturn\u001b[39;00m forward_call(\u001b[38;5;241m*\u001b[39margs, \u001b[38;5;241m*\u001b[39m\u001b[38;5;241m*\u001b[39mkwargs)\n\u001b[0;32m   1522\u001b[0m \u001b[38;5;28;01mtry\u001b[39;00m:\n\u001b[0;32m   1523\u001b[0m     result \u001b[38;5;241m=\u001b[39m \u001b[38;5;28;01mNone\u001b[39;00m\n",
      "File \u001b[1;32mc:\\Users\\kaiha\\anaconda3\\envs\\labo_Okita\\lib\\site-packages\\transformers\\models\\distilbert\\modeling_distilbert.py:228\u001b[0m, in \u001b[0;36mMultiHeadSelfAttention.forward\u001b[1;34m(self, query, key, value, mask, head_mask, output_attentions)\u001b[0m\n\u001b[0;32m    225\u001b[0m v \u001b[38;5;241m=\u001b[39m shape(\u001b[38;5;28mself\u001b[39m\u001b[38;5;241m.\u001b[39mv_lin(value))  \u001b[38;5;66;03m# (bs, n_heads, k_length, dim_per_head)\u001b[39;00m\n\u001b[0;32m    227\u001b[0m q \u001b[38;5;241m=\u001b[39m q \u001b[38;5;241m/\u001b[39m math\u001b[38;5;241m.\u001b[39msqrt(dim_per_head)  \u001b[38;5;66;03m# (bs, n_heads, q_length, dim_per_head)\u001b[39;00m\n\u001b[1;32m--> 228\u001b[0m scores \u001b[38;5;241m=\u001b[39m \u001b[43mtorch\u001b[49m\u001b[38;5;241;43m.\u001b[39;49m\u001b[43mmatmul\u001b[49m\u001b[43m(\u001b[49m\u001b[43mq\u001b[49m\u001b[43m,\u001b[49m\u001b[43m \u001b[49m\u001b[43mk\u001b[49m\u001b[38;5;241;43m.\u001b[39;49m\u001b[43mtranspose\u001b[49m\u001b[43m(\u001b[49m\u001b[38;5;241;43m2\u001b[39;49m\u001b[43m,\u001b[49m\u001b[43m \u001b[49m\u001b[38;5;241;43m3\u001b[39;49m\u001b[43m)\u001b[49m\u001b[43m)\u001b[49m  \u001b[38;5;66;03m# (bs, n_heads, q_length, k_length)\u001b[39;00m\n\u001b[0;32m    229\u001b[0m mask \u001b[38;5;241m=\u001b[39m (mask \u001b[38;5;241m==\u001b[39m \u001b[38;5;241m0\u001b[39m)\u001b[38;5;241m.\u001b[39mview(mask_reshp)\u001b[38;5;241m.\u001b[39mexpand_as(scores)  \u001b[38;5;66;03m# (bs, n_heads, q_length, k_length)\u001b[39;00m\n\u001b[0;32m    230\u001b[0m scores \u001b[38;5;241m=\u001b[39m scores\u001b[38;5;241m.\u001b[39mmasked_fill(\n\u001b[0;32m    231\u001b[0m     mask, torch\u001b[38;5;241m.\u001b[39mtensor(torch\u001b[38;5;241m.\u001b[39mfinfo(scores\u001b[38;5;241m.\u001b[39mdtype)\u001b[38;5;241m.\u001b[39mmin)\n\u001b[0;32m    232\u001b[0m )  \u001b[38;5;66;03m# (bs, n_heads, q_length, k_length)\u001b[39;00m\n",
      "\u001b[1;31mOutOfMemoryError\u001b[0m: CUDA out of memory. Tried to allocate 368.00 MiB. GPU 0 has a total capacity of 11.99 GiB of which 0 bytes is free. Of the allocated memory 10.62 GiB is allocated by PyTorch, and 490.68 MiB is reserved by PyTorch but unallocated. If reserved but unallocated memory is large try setting PYTORCH_CUDA_ALLOC_CONF=expandable_segments:True to avoid fragmentation.  See documentation for Memory Management  (https://pytorch.org/docs/stable/notes/cuda.html#environment-variables)"
     ]
    }
   ],
   "source": [
    "import torch\n",
    "import torch.nn as nn\n",
    "from transformers import DistilBertModel, TrainingArguments, Trainer\n",
    "from transformers.modeling_outputs import SequenceClassifierOutput\n",
    "\n",
    "class SensorDistilBERT(nn.Module):\n",
    "    def __init__(self, num_sensor_dims=9, num_labels=8):\n",
    "        super(SensorDistilBERT, self).__init__()\n",
    "        self.config = DistilBertModel.from_pretrained(\"distilbert-base-uncased\").config\n",
    "\n",
    "        self.bert = DistilBertModel(self.config)\n",
    "\n",
    "        # センサデータ用のエンベディング層\n",
    "        self.sensor_embedding = nn.Linear(num_sensor_dims, self.config.hidden_size)\n",
    "        # ポジションエンベディング\n",
    "        self.position_embeddings = nn.Embedding(self.config.max_position_embeddings, self.config.hidden_size)\n",
    "        # 出力の分類層\n",
    "        self.classifier = nn.Linear(self.config.hidden_size, num_labels)\n",
    "        \n",
    "        # Dropout層\n",
    "        self.dropout = nn.Dropout(self.config.seq_classif_dropout)\n",
    "\n",
    "    def forward(self, sensor_data, attention_mask=None, labels=None):\n",
    "        # センサデータをエンベディング層に通す\n",
    "        batch_size, seq_length, _ = sensor_data.size()\n",
    "        sensor_embeds = self.sensor_embedding(sensor_data.view(batch_size * seq_length, -1))\n",
    "        sensor_embeds = sensor_embeds.view(batch_size, seq_length, -1)\n",
    "\n",
    "        # ポジションエンベディング層\n",
    "        position_ids = torch.arange(seq_length, dtype=torch.long, device=sensor_embeds.device)\n",
    "        position_ids = position_ids.unsqueeze(0).expand(sensor_embeds.size(0), seq_length)\n",
    "        position_embeds = self.position_embeddings(position_ids)\n",
    "\n",
    "        # エンベディングを加算\n",
    "        embeddings = sensor_embeds + position_embeds\n",
    "\n",
    "        # distilBERTのトランスフォーマ層に入力 embeddingsは用意したものを利用する形で\n",
    "        outputs = self.bert(inputs_embeds=embeddings, attention_mask=attention_mask)\n",
    "\n",
    "        # [CLS]トークンの出力を取得\n",
    "        pooled_output = outputs.last_hidden_state[:, 0, :]  # すべてのバッチ、シーケンスの先頭という意味ね\n",
    "        pooled_output = self.dropout(pooled_output)\n",
    "\n",
    "        # 分類層に通す\n",
    "        logits = self.classifier(pooled_output)\n",
    "\n",
    "        loss = None\n",
    "        if labels is not None:\n",
    "            loss_fct = nn.CrossEntropyLoss()\n",
    "            loss = loss_fct(logits, labels)  # 形状が一致するように修正\n",
    "\n",
    "        return SequenceClassifierOutput(\n",
    "            loss=loss,\n",
    "            logits=logits,\n",
    "        )\n",
    "\n",
    "# データセットの修正\n",
    "import torch\n",
    "from torch.utils.data import Dataset\n",
    "\n",
    "class SensorDataset(Dataset):\n",
    "    def __init__(self, data, labels):\n",
    "        self.data = data\n",
    "        self.labels = labels\n",
    "\n",
    "    def __len__(self):\n",
    "        return len(self.data)\n",
    "\n",
    "    def __getitem__(self, idx):\n",
    "        sensor_data = torch.tensor(self.data[idx], dtype=torch.float)\n",
    "        labels = torch.tensor(self.labels[idx], dtype=torch.long)\n",
    "\n",
    "        attention_mask = torch.ones(sensor_data.shape[0], dtype=torch.long)  # (500,) の形状になるように\n",
    "\n",
    "        return {\n",
    "            \"sensor_data\": sensor_data,\n",
    "            \"attention_mask\": attention_mask,\n",
    "            \"labels\": labels\n",
    "        }\n",
    "\n",
    "# トレーニングコード\n",
    "# トレーニング設定\n",
    "training_args = TrainingArguments(\n",
    "    output_dir=\"./results\",\n",
    "    num_train_epochs=3,\n",
    "    per_device_train_batch_size=32,\n",
    "    logging_dir=\"./logs\",\n",
    "    logging_steps=100,\n",
    ")\n",
    "\n",
    "# サンプルデータの準備\n",
    "sensor_data = torch.randn(1000, 500, 9)  # 1000サンプル、500シーケンス、9センサ\n",
    "labels = torch.randint(0, 8, (1000,))\n",
    "\n",
    "# データセットの準備\n",
    "train_dataset = SensorDataset(sensor_data, labels)\n",
    "\n",
    "# トレーナーの定義\n",
    "model = SensorDistilBERT(num_labels=8)\n",
    "trainer = Trainer(\n",
    "    model=model,\n",
    "    args=training_args,\n",
    "    train_dataset=train_dataset,\n",
    ")\n",
    "\n",
    "# トレーニングの実行\n",
    "trainer.train()\n"
   ]
  },
  {
   "cell_type": "code",
   "execution_count": 28,
   "metadata": {},
   "outputs": [
    {
     "name": "stdout",
     "output_type": "stream",
     "text": [
      "torch.Size([1000, 500, 9]) torch.Size([1000])\n",
      "torch.Size([24000, 9, 500]) torch.Size([24000])\n"
     ]
    }
   ],
   "source": [
    "print(sensor_data.shape, labels.shape)\n",
    "print(train_xyz.shape, train_label.shape)"
   ]
  },
  {
   "cell_type": "code",
   "execution_count": null,
   "metadata": {},
   "outputs": [],
   "source": []
  }
 ],
 "metadata": {
  "kernelspec": {
   "display_name": "labo_Okita",
   "language": "python",
   "name": "python3"
  },
  "language_info": {
   "codemirror_mode": {
    "name": "ipython",
    "version": 3
   },
   "file_extension": ".py",
   "mimetype": "text/x-python",
   "name": "python",
   "nbconvert_exporter": "python",
   "pygments_lexer": "ipython3",
   "version": "3.10.14"
  }
 },
 "nbformat": 4,
 "nbformat_minor": 2
}
