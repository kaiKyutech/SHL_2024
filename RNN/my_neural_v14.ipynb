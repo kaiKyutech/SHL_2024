{
 "cells": [
  {
   "cell_type": "markdown",
   "metadata": {},
   "source": [
    "LSTMを定義する"
   ]
  },
  {
   "cell_type": "code",
   "execution_count": 1,
   "metadata": {},
   "outputs": [
    {
     "name": "stdout",
     "output_type": "stream",
     "text": [
      "Using cuda device: 0\n"
     ]
    }
   ],
   "source": [
    "import os\n",
    "import numpy as np\n",
    "import pandas as pd\n",
    "import matplotlib.pyplot as plt\n",
    "import torch\n",
    "import torch.nn as nn\n",
    "import torch.nn.functional as F\n",
    "import torch.optim as optim\n",
    "import torch.backends.cudnn as cudnn\n",
    "from sklearn import metrics\n",
    "from sklearn.preprocessing import LabelEncoder\n",
    "from tqdm.auto import tqdm\n",
    "from torch.utils.data import DataLoader, TensorDataset\n",
    "\n",
    "import utils\n",
    "\n",
    "# For reproducibility\n",
    "np.random.seed(42)\n",
    "torch.manual_seed(42) # 乱数生成シード\n",
    "cudnn.benchmark = True\n",
    "\n",
    "# Grab a GPU if there is one\n",
    "if torch.cuda.is_available():\n",
    "    device = torch.device(\"cuda\")\n",
    "    print(\"Using {} device: {}\".format(device, torch.cuda.current_device()))\n",
    "else:\n",
    "    device = torch.device(\"cpu\")\n",
    "    print(\"Using {}\".format(device))"
   ]
  },
  {
   "cell_type": "code",
   "execution_count": 24,
   "metadata": {},
   "outputs": [],
   "source": [
    "class LSTM(nn.Module):\n",
    "    def __init__(\n",
    "            self, \n",
    "            input_size, \n",
    "            hidden_size, \n",
    "            output_size, \n",
    "            num_layers, \n",
    "            bias=True, \n",
    "            bidirectional = False,\n",
    "            dropout=0.0):\n",
    "        \n",
    "        super(LSTM, self).__init__()\n",
    "        \n",
    "        self.input_size = input_size\n",
    "        self.hidden_size = hidden_size\n",
    "        self.output_size = output_size\n",
    "        self.num_layers = num_layers\n",
    "        self.num_directions = 2 if bidirectional else 1 # 双方向か否かでlstmの出力数が変わるみたいなので\n",
    "\n",
    "        self.lstm = nn.LSTM(input_size, hidden_size, num_layers, bias=bias,batch_first=True, dropout=dropout, bidirectional=bidirectional)\n",
    "        self.fc = nn.Linear(hidden_size*self.num_directions, output_size)\n",
    "    \n",
    "    def forward(self, x):\n",
    "        # 初期隠れ状態とセル状態をゼロで初期化 こうしないと隠れ状態が残ったままになる\n",
    "        h0 = torch.zeros(self.num_layers*self.num_directions, x.size(0), self.hidden_size, device=x.device)\n",
    "        c0 = torch.zeros(self.num_layers*self.num_directions, x.size(0), self.hidden_size, device=x.device)\n",
    "\n",
    "        # LSTM層\n",
    "        # 入力xと文脈h0,c0 out(batch_size, 500, hidden_size*num_directions)\n",
    "        out, _ = self.lstm(x, (h0, c0)) \n",
    "\n",
    "        # 全結合層\n",
    "        \"\"\"# out(batch_size, 500, hidden_size*num_directions)\n",
    "        out = out.contiguous().view(-1, self.hidden_size * self.num_directions)\n",
    "        # out(batch_size*500, hidden_size*self.num_directions)\n",
    "        out = self.fc(out)# outには８クラス分類のやつが入る\n",
    "        # out(batch_size*500, 8)\n",
    "\n",
    "        # x.shapeは(batch_size, 500, 9)だったっけ？\n",
    "        out = out.view(x.size(0), x.size(1), 8)\n",
    "        # out(batch_size, 500, 8)\n",
    "    \n",
    "        # シーケンス全体の平均を取って最終出力にする\n",
    "        out = torch.mean(out, dim=1)\"\"\"\n",
    "        out = out[:,-1,:]\n",
    "        out = self.fc(out)\n",
    "        # out(batch_size, 8)\n",
    "        return out"
   ]
  },
  {
   "cell_type": "code",
   "execution_count": 3,
   "metadata": {},
   "outputs": [],
   "source": [
    "# X:説明変数 y:目的ラベル\n",
    "def create_dataloader(X, y=None, batch_size=1, shuffle=False):\n",
    "    X = torch.tensor(X, dtype=torch.float32)\n",
    "    if y is not None:\n",
    "        y = torch.tensor(y-1, dtype=torch.long)\n",
    "        dataset = TensorDataset(X,y)\n",
    "    else:\n",
    "        dataset = TensorDataset(X)\n",
    "    \n",
    "    dataloader = DataLoader(dataset, batch_size=batch_size, shuffle=shuffle)\n",
    "    return dataloader\n",
    "\n",
    "def forward_by_batches(model, dataloader):\n",
    "    Y = []\n",
    "    model.eval()\n",
    "    with torch.no_grad():\n",
    "        for x in dataloader:\n",
    "            x = x[0].to(device)\n",
    "            Y.append(model(x))\n",
    "    model.train()\n",
    "\n",
    "    Y = torch.cat(Y) # Yをテンソルに変換\n",
    "    return Y\n",
    "\n",
    "\n",
    "def evaluate_model(model, X, Y, batch_size=1024):\n",
    "    dataloader = create_dataloader(X, Y, batch_size=batch_size, shuffle=False)\n",
    "    Y_pred = forward_by_batches(model, dataloader)\n",
    "    loss = F.cross_entropy(Y_pred, torch.tensor(Y-1.0, dtype=torch.long).to(device)).item() # クロスエントロピー損失の計算 仕方なく0~7クラス分類とする\n",
    "\n",
    "    Y_pred = F.softmax(Y_pred, dim=1) \n",
    "    Y_pred = torch.argmax(Y_pred, dim=1)  # 最も高い確率のY_predのラベルを予測ラベルとしてY_predに入れられる。\n",
    "    Y_pred = Y_pred + 1  # 予測ラベルに1を加えて1~8の範囲に変換する\n",
    "    Y_pred = Y_pred.cpu().numpy()  # テンソルでGPUにのっているものをcpuに移動して、それをさらにnumpy配列に変換している。\n",
    "    kappa = metrics.cohen_kappa_score(Y, Y_pred) # 1~8クラス分類\n",
    "\n",
    "    return {'loss':loss, 'kappa':kappa, 'Y_pred':Y_pred}"
   ]
  },
  {
   "cell_type": "markdown",
   "metadata": {},
   "source": [
    "# データ用意"
   ]
  },
  {
   "cell_type": "code",
   "execution_count": 4,
   "metadata": {},
   "outputs": [
    {
     "name": "stdout",
     "output_type": "stream",
     "text": [
      "(196072, 3, 500)\n",
      "(196072,)\n"
     ]
    }
   ],
   "source": [
    "fold = \"../../train_raw_npy/\"\n",
    "xyz = np.load(f\"{fold}acc_xyz.npy\")\n",
    "\n",
    "label = np.load(f\"{fold}sampled_label.npy\")\n",
    "\n",
    "\n",
    "\n",
    "print(xyz.shape)\n",
    "print(label.shape)\n"
   ]
  },
  {
   "cell_type": "code",
   "execution_count": 4,
   "metadata": {},
   "outputs": [
    {
     "name": "stdout",
     "output_type": "stream",
     "text": [
      "(196072, 3, 500)\n",
      "(196072, 3, 500)\n",
      "(196072, 3, 500)\n",
      "(196072, 9, 500)\n",
      "(196072,)\n"
     ]
    }
   ],
   "source": [
    "fold = \"../../train_raw_npy/\"\n",
    "acc_xyz = np.load(f\"{fold}acc_xyz.npy\")\n",
    "gyr_xyz = np.load(f\"{fold}gyr_xyz.npy\")\n",
    "mag_xyz = np.load(f\"{fold}mag_xyz.npy\")\n",
    "label = np.load(f\"{fold}sampled_label.npy\")\n",
    "xyz = np.concatenate([acc_xyz, gyr_xyz, mag_xyz], axis=1)\n",
    "\n",
    "print(acc_xyz.shape)\n",
    "print(gyr_xyz.shape)\n",
    "print(mag_xyz.shape)\n",
    "print(xyz.shape)\n",
    "print(label.shape)\n",
    "del acc_xyz\n",
    "del gyr_xyz\n",
    "del mag_xyz"
   ]
  },
  {
   "cell_type": "code",
   "execution_count": 5,
   "metadata": {},
   "outputs": [
    {
     "name": "stdout",
     "output_type": "stream",
     "text": [
      "(196072, 3, 500)\n"
     ]
    }
   ],
   "source": [
    "from sklearn.preprocessing import StandardScaler\n",
    "\n",
    "# データを2Dに変換して標準化\n",
    "scaler = StandardScaler()\n",
    "xyz_reshaped = xyz.reshape(-1, xyz.shape[-1])  # (196072*3, 500\n",
    "scaled_xyz = scaler.fit_transform(xyz_reshaped)  # 標準化\n",
    "scaled_xyz = scaled_xyz.reshape(xyz.shape)  # 元の形に戻す\n",
    "print(scaled_xyz.shape)  # (196072, 3, 500)"
   ]
  },
  {
   "cell_type": "code",
   "execution_count": 6,
   "metadata": {},
   "outputs": [],
   "source": [
    "#データのシェイプ変更\n",
    "scaled_xyz = np.transpose(scaled_xyz, (0,2,1))"
   ]
  },
  {
   "cell_type": "code",
   "execution_count": 7,
   "metadata": {},
   "outputs": [
    {
     "data": {
      "text/plain": [
       "(196072, 500, 3)"
      ]
     },
     "execution_count": 7,
     "metadata": {},
     "output_type": "execute_result"
    }
   ],
   "source": [
    "scaled_xyz.shape"
   ]
  },
  {
   "cell_type": "code",
   "execution_count": 8,
   "metadata": {},
   "outputs": [
    {
     "name": "stdout",
     "output_type": "stream",
     "text": [
      "(30000, 500, 3)\n",
      "(30000,)\n"
     ]
    }
   ],
   "source": [
    "#おしり3万データを使う  \n",
    "scaled_xyz = scaled_xyz[-40000:-10000,:]\n",
    "label_sm = label[-40000:-10000]\n",
    "print(scaled_xyz.shape)\n",
    "print(label_sm.shape)"
   ]
  },
  {
   "cell_type": "code",
   "execution_count": 9,
   "metadata": {},
   "outputs": [
    {
     "name": "stdout",
     "output_type": "stream",
     "text": [
      "Train data shape: (24000, 500, 3)\n",
      "Test data shape: (6000, 500, 3)\n",
      "Train label shape: (24000,)\n",
      "Test label shape: (6000,)\n",
      "1.0    4235\n",
      "4.0    3917\n",
      "7.0    3893\n",
      "6.0    3582\n",
      "2.0    3010\n",
      "5.0    2964\n",
      "8.0    1445\n",
      "3.0     954\n",
      "Name: count, dtype: int64\n",
      "1.0    1041\n",
      "7.0     964\n",
      "4.0     960\n",
      "6.0     926\n",
      "5.0     774\n",
      "2.0     719\n",
      "8.0     373\n",
      "3.0     243\n",
      "Name: count, dtype: int64\n"
     ]
    }
   ],
   "source": [
    "import numpy as np\n",
    "from sklearn.model_selection import train_test_split\n",
    "\n",
    "# ランダムサンプリング\n",
    "train_xyz, test_xyz, train_label, test_label = train_test_split(scaled_xyz, label_sm, test_size=0.2,random_state=40)\n",
    "\n",
    "# 結果の確認\n",
    "print(f\"Train data shape: {train_xyz.shape}\")\n",
    "print(f\"Test data shape: {test_xyz.shape}\")\n",
    "print(f\"Train label shape: {train_label.shape}\")\n",
    "print(f\"Test label shape: {test_label.shape}\")\n",
    "print(pd.Series(train_label).value_counts())\n",
    "print(pd.Series(test_label).value_counts())\n",
    "# train_randomの生成\n",
    "#train_xyz_random = train_xyz\n",
    "#train_label_random = train_label"
   ]
  },
  {
   "cell_type": "code",
   "execution_count": 10,
   "metadata": {},
   "outputs": [
    {
     "data": {
      "text/plain": [
       "8"
      ]
     },
     "execution_count": 10,
     "metadata": {},
     "output_type": "execute_result"
    }
   ],
   "source": [
    "len(np.unique(train_label))"
   ]
  },
  {
   "cell_type": "code",
   "execution_count": 25,
   "metadata": {},
   "outputs": [
    {
     "name": "stdout",
     "output_type": "stream",
     "text": [
      "LSTM(\n",
      "  (lstm): LSTM(3, 32, num_layers=2, batch_first=True, dropout=0.5, bidirectional=True)\n",
      "  (fc): Linear(in_features=64, out_features=8, bias=True)\n",
      ")\n"
     ]
    }
   ],
   "source": [
    "input_size = 3 # センサデータの次元数\n",
    "hidden_size = 32 # 隠れ層の次元数\n",
    "num_layers = 2 # LSTM層の数\n",
    "output_size = len(np.unique(train_label))\n",
    "dropout = 0.5\n",
    "lr = 1e-3\n",
    "\n",
    "lstm = LSTM(input_size, hidden_size, output_size,num_layers,bidirectional=True, dropout=dropout).to(device)\n",
    "print(lstm)\n",
    "optimizer = torch.optim.Adam(lstm.parameters(), lr=lr)\n",
    "loss_fn = nn.CrossEntropyLoss()"
   ]
  },
  {
   "cell_type": "code",
   "execution_count": 28,
   "metadata": {},
   "outputs": [
    {
     "data": {
      "application/vnd.jupyter.widget-view+json": {
       "model_id": "c35c8056db314be8ac094abf500e95e0",
       "version_major": 2,
       "version_minor": 0
      },
      "text/plain": [
       "  0%|          | 0/40 [00:00<?, ?it/s]"
      ]
     },
     "metadata": {},
     "output_type": "display_data"
    },
    {
     "name": "stdout",
     "output_type": "stream",
     "text": [
      "Epoch 1/40, Loss: 0.7491289377212524, test Loss:0.8152779340744019, Kappa: 0.6336545330985639\n",
      "Epoch 2/40, Loss: 0.623163104057312, test Loss:0.8147759437561035, Kappa: 0.6342527389771015\n",
      "Epoch 3/40, Loss: 0.728284478187561, test Loss:0.8140828609466553, Kappa: 0.6340698369803591\n",
      "Epoch 4/40, Loss: 0.6779428124427795, test Loss:0.8124849200248718, Kappa: 0.6360471793298241\n",
      "Epoch 5/40, Loss: 0.8093546628952026, test Loss:0.8106823563575745, Kappa: 0.637819061253314\n",
      "Epoch 6/40, Loss: 0.7808290719985962, test Loss:0.8088459372520447, Kappa: 0.6378204173367592\n",
      "Epoch 7/40, Loss: 0.7620353698730469, test Loss:0.8065022230148315, Kappa: 0.6378019973181588\n",
      "Epoch 8/40, Loss: 0.8651622533798218, test Loss:0.8032487630844116, Kappa: 0.6388012499156748\n",
      "Epoch 9/40, Loss: 0.599788248538971, test Loss:0.7969881892204285, Kappa: 0.6431036387377954\n",
      "Epoch 10/40, Loss: 0.6891643404960632, test Loss:0.7917964458465576, Kappa: 0.6456223864284705\n",
      "Epoch 11/40, Loss: 0.614334762096405, test Loss:0.7872868776321411, Kappa: 0.6482052215642972\n",
      "Epoch 12/40, Loss: 0.6435137987136841, test Loss:0.7823491096496582, Kappa: 0.6511610078478031\n",
      "Epoch 13/40, Loss: 0.6039577722549438, test Loss:0.7785341143608093, Kappa: 0.6531210930956448\n",
      "Epoch 14/40, Loss: 0.7448835968971252, test Loss:0.7761743068695068, Kappa: 0.6533212040242475\n",
      "Epoch 15/40, Loss: 0.738018274307251, test Loss:0.7749941945075989, Kappa: 0.6531031495636199\n",
      "Epoch 16/40, Loss: 0.7458088397979736, test Loss:0.7737807631492615, Kappa: 0.6550008034027157\n",
      "Epoch 17/40, Loss: 0.6524695754051208, test Loss:0.7720809578895569, Kappa: 0.6550223581064569\n",
      "Epoch 18/40, Loss: 0.8089838027954102, test Loss:0.7717368006706238, Kappa: 0.6548135841957106\n",
      "Epoch 19/40, Loss: 0.7635727524757385, test Loss:0.7704545259475708, Kappa: 0.6565933059721413\n",
      "Epoch 20/40, Loss: 0.5518479347229004, test Loss:0.7700416445732117, Kappa: 0.6566022610338499\n",
      "Epoch 21/40, Loss: 0.5912954807281494, test Loss:0.7684133052825928, Kappa: 0.6562064438632655\n",
      "Epoch 22/40, Loss: 0.47092941403388977, test Loss:0.7669695019721985, Kappa: 0.6568079079114892\n",
      "Epoch 23/40, Loss: 0.6070986986160278, test Loss:0.7653772234916687, Kappa: 0.6578007814590525\n",
      "Epoch 24/40, Loss: 0.8170239329338074, test Loss:0.7650210857391357, Kappa: 0.6579240194741713\n",
      "Epoch 25/40, Loss: 0.6319509148597717, test Loss:0.7622491717338562, Kappa: 0.6586771325987565\n",
      "Epoch 26/40, Loss: 0.6948728561401367, test Loss:0.7630799412727356, Kappa: 0.6590300469756942\n",
      "Epoch 27/40, Loss: 0.7219989895820618, test Loss:0.7594221830368042, Kappa: 0.660502704870265\n",
      "Epoch 28/40, Loss: 0.6795780062675476, test Loss:0.7583116292953491, Kappa: 0.6618294097708705\n",
      "Epoch 29/40, Loss: 0.5825827717781067, test Loss:0.7561891078948975, Kappa: 0.6666800394096473\n",
      "Epoch 30/40, Loss: 0.6846886873245239, test Loss:0.7551100850105286, Kappa: 0.6632288515341558\n",
      "Epoch 31/40, Loss: 0.8716625571250916, test Loss:0.7507328391075134, Kappa: 0.6689154049560141\n",
      "Epoch 32/40, Loss: 0.7330677509307861, test Loss:0.7536003589630127, Kappa: 0.6658512046487457\n",
      "Epoch 33/40, Loss: 0.6382747292518616, test Loss:0.7461875081062317, Kappa: 0.667120924184837\n",
      "Epoch 34/40, Loss: 0.8234720230102539, test Loss:0.7579855918884277, Kappa: 0.6621146324993125\n",
      "Epoch 35/40, Loss: 0.6403937339782715, test Loss:0.7431074976921082, Kappa: 0.6732778294288155\n",
      "Epoch 36/40, Loss: 0.6453838348388672, test Loss:0.7334601283073425, Kappa: 0.6822012779964843\n",
      "Epoch 37/40, Loss: 0.8125613927841187, test Loss:0.7412694692611694, Kappa: 0.6738041791176628\n",
      "Epoch 38/40, Loss: 0.5993512272834778, test Loss:0.730050265789032, Kappa: 0.6791938882432957\n",
      "Epoch 39/40, Loss: 0.8004345297813416, test Loss:0.7160336971282959, Kappa: 0.6897633624002566\n",
      "Epoch 40/40, Loss: 0.7582454085350037, test Loss:0.7256894707679749, Kappa: 0.6902593095288911\n"
     ]
    }
   ],
   "source": [
    "from torch.cuda.amp import autocast, GradScaler\n",
    "\n",
    "# Mixed Precision Trainingの設定\n",
    "scaler = GradScaler()\n",
    "\n",
    "# トレーニングループ\n",
    "num_epoch = 40\n",
    "batch_size = 64  # バッチサイズを調整\n",
    "kappa_history_test = []\n",
    "loss_history_test = []\n",
    "loss_history_train = []\n",
    "losses = []\n",
    "\n",
    "for i in tqdm(range(num_epoch)):\n",
    "    lstm.train()\n",
    "    dataloader = create_dataloader(train_xyz, train_label, batch_size=batch_size, shuffle=True)\n",
    "    \n",
    "    for x, target in dataloader:\n",
    "        x, target = x.to('cuda'), target.to('cuda')\n",
    "        optimizer.zero_grad()\n",
    "        \n",
    "        with autocast():\n",
    "            output = lstm(x)\n",
    "            loss = loss_fn(output, target)\n",
    "        \n",
    "        scaler.scale(loss).backward()\n",
    "        \n",
    "        # 勾配のクリッピング\n",
    "        nn.utils.clip_grad_norm_(lstm.parameters(), max_norm=1.0)\n",
    "        \n",
    "        scaler.step(optimizer)\n",
    "        scaler.update()\n",
    "        \n",
    "        # Logging -- track train loss\n",
    "        losses.append(loss.item())\n",
    "\n",
    "    # --------------------------------------------------------\n",
    "    #       Evaluate performance at the end of each epoch\n",
    "    # --------------------------------------------------------\n",
    "    # Logging -- average train loss in this epoch\n",
    "    loss_history_train.append(np.mean(losses))\n",
    "\n",
    "    # Logging -- evalutate performance on test set\n",
    "    results = evaluate_model(lstm, test_xyz, test_label)\n",
    "    loss_history_test.append(results['loss'])\n",
    "    kappa_history_test.append(results['kappa'])\n",
    "    print(f\"Epoch {i+1}/{num_epoch}, Loss: {loss.item()}, test Loss:{results['loss']}, Kappa: {results['kappa']}\")\n"
   ]
  },
  {
   "cell_type": "code",
   "execution_count": 16,
   "metadata": {},
   "outputs": [
    {
     "data": {
      "application/vnd.jupyter.widget-view+json": {
       "model_id": "a2a7cacbbd9948cc84cb840e3b1c13c2",
       "version_major": 2,
       "version_minor": 0
      },
      "text/plain": [
       "  0%|          | 0/50 [00:00<?, ?it/s]"
      ]
     },
     "metadata": {},
     "output_type": "display_data"
    },
    {
     "name": "stdout",
     "output_type": "stream",
     "text": [
      "Epoch 1/50, Loss: 1.0250056982040405, test Loss:1.0403079986572266\n",
      "Epoch 2/50, Loss: 1.0204583406448364, test Loss:1.0520751476287842\n",
      "Epoch 3/50, Loss: 1.0210763216018677, test Loss:1.0348235368728638\n",
      "Epoch 4/50, Loss: 1.0014559030532837, test Loss:1.0296123027801514\n",
      "Epoch 5/50, Loss: 1.0643821954727173, test Loss:1.0992540121078491\n",
      "Epoch 6/50, Loss: 1.133833646774292, test Loss:1.1405948400497437\n",
      "Epoch 7/50, Loss: 1.0402129888534546, test Loss:1.0281383991241455\n",
      "Epoch 8/50, Loss: 1.036304235458374, test Loss:1.0170209407806396\n",
      "Epoch 9/50, Loss: 0.939461886882782, test Loss:1.0005673170089722\n",
      "Epoch 10/50, Loss: 0.986937403678894, test Loss:0.9929190278053284\n",
      "Epoch 11/50, Loss: 0.9852074384689331, test Loss:0.9962508678436279\n",
      "Epoch 12/50, Loss: 0.8881388902664185, test Loss:0.9799577593803406\n",
      "Epoch 13/50, Loss: 1.109809160232544, test Loss:1.0336110591888428\n",
      "Epoch 14/50, Loss: 0.942057192325592, test Loss:1.0139036178588867\n",
      "Epoch 15/50, Loss: 0.9719501733779907, test Loss:0.9874042868614197\n",
      "Epoch 16/50, Loss: 0.9230322241783142, test Loss:0.9807496070861816\n",
      "Epoch 17/50, Loss: 1.0038409233093262, test Loss:0.9691080451011658\n",
      "Epoch 18/50, Loss: 0.9744335412979126, test Loss:0.9613062143325806\n",
      "Epoch 19/50, Loss: 0.9784771203994751, test Loss:0.9614502191543579\n",
      "Epoch 20/50, Loss: 1.0092278718948364, test Loss:0.9773653149604797\n",
      "Epoch 21/50, Loss: 0.9414815306663513, test Loss:0.9539068937301636\n",
      "Epoch 22/50, Loss: 0.9924898743629456, test Loss:0.9441049098968506\n",
      "Epoch 23/50, Loss: 0.9128618836402893, test Loss:0.9430620670318604\n",
      "Epoch 24/50, Loss: 0.9703732132911682, test Loss:0.9746830463409424\n",
      "Epoch 25/50, Loss: 0.897046685218811, test Loss:0.9470211863517761\n",
      "Epoch 26/50, Loss: 0.9051076769828796, test Loss:0.9397422671318054\n",
      "Epoch 27/50, Loss: 0.9041461944580078, test Loss:0.9219699501991272\n",
      "Epoch 28/50, Loss: 0.9509851336479187, test Loss:0.9563547968864441\n",
      "Epoch 29/50, Loss: 0.9180673956871033, test Loss:0.9483925700187683\n",
      "Epoch 30/50, Loss: 0.9329405426979065, test Loss:0.9444717764854431\n",
      "Epoch 31/50, Loss: 1.0039900541305542, test Loss:0.9279944896697998\n",
      "Epoch 32/50, Loss: 0.8824673891067505, test Loss:0.9735591411590576\n",
      "Epoch 33/50, Loss: 0.9171954393386841, test Loss:0.9358828067779541\n",
      "Epoch 34/50, Loss: 0.916532576084137, test Loss:0.9233112931251526\n",
      "Epoch 35/50, Loss: 0.8595378994941711, test Loss:0.9250185489654541\n",
      "Epoch 36/50, Loss: 1.0462833642959595, test Loss:0.9902111291885376\n",
      "Epoch 37/50, Loss: 0.8654165863990784, test Loss:0.9487934708595276\n",
      "Epoch 38/50, Loss: 0.9051809906959534, test Loss:0.9117565751075745\n",
      "Epoch 39/50, Loss: 0.9811452627182007, test Loss:0.939816415309906\n",
      "Epoch 40/50, Loss: 0.9605194926261902, test Loss:0.9350414276123047\n",
      "Epoch 41/50, Loss: 0.8803326487541199, test Loss:0.9177442789077759\n",
      "Epoch 42/50, Loss: 0.9371939897537231, test Loss:0.9107868075370789\n",
      "Epoch 43/50, Loss: 0.8047307729721069, test Loss:0.9017514586448669\n",
      "Epoch 44/50, Loss: 0.9283613562583923, test Loss:0.9278203248977661\n",
      "Epoch 45/50, Loss: 0.9055169820785522, test Loss:0.9138232469558716\n",
      "Epoch 46/50, Loss: 0.8547595739364624, test Loss:0.8965280055999756\n",
      "Epoch 47/50, Loss: 0.9216997027397156, test Loss:0.9344435930252075\n",
      "Epoch 48/50, Loss: 1.2973763942718506, test Loss:1.215972900390625\n",
      "Epoch 49/50, Loss: 0.9879892468452454, test Loss:1.0310357809066772\n",
      "Epoch 50/50, Loss: 0.948488175868988, test Loss:0.9640877842903137\n"
     ]
    }
   ],
   "source": [
    "kappa_history_test = []\n",
    "loss_history_test = []\n",
    "loss_history_train = []\n",
    "losses = []\n",
    "num_epoch = 50\n",
    "batch_size = 1024  # size of the mini-batch　バッチサイズを64にしている 64が今のところ最高評価\n",
    "count = 0\n",
    "for i in tqdm(range(num_epoch)): # 同じデータセットでnum_epoch回cnnを学習させている。\n",
    "    if False:#i!=0:\n",
    "        if loss.item() < 0.1 and count == 0 and i > 19:\n",
    "            batch_size = 2048\n",
    "            count += 1\n",
    "            print(f\"batch_size:{batch_size}, count:{count}\")\n",
    "        elif count != 0:\n",
    "            count += 1\n",
    "            if count == 25:\n",
    "                batch_size *= 2\n",
    "                print(f\"batch_size:{batch_size}, count:{count}\")\n",
    "            if count == 50:\n",
    "                print(\"break!\")\n",
    "                break\n",
    "        \n",
    "\n",
    "    dataloader = create_dataloader(train_xyz, train_label, batch_size=batch_size, shuffle=True)\n",
    "    \n",
    "\n",
    "    for x, target in dataloader:\n",
    "        x, target = x.to(device), target.type(torch.int64).to(device)#target.to(device) # ここでdeviceにデータを移行\n",
    "        optimizer.zero_grad()\n",
    "        output = lstm(x) # バッチxをネットワークに通し、予測値outputを取得\n",
    "        loss = loss_fn(output, target) # 予測値と実際のラベルtargetとの間の損失を計算する。ネットワークの出力outputと正解targetとの間の差異を計算しその結果としてスカラー値lossを生成する。\n",
    "        loss.backward() # 計算されたlossに従ってネットワークのすべてのパラメータに対する勾配が計算される。\n",
    "        optimizer.step() # オプティマイザが保存している勾配情報を使用してモデルのパラメータを更新　直接cnnに紐づいているのでcnnのパラメータを直接更新している\n",
    "\n",
    "        # Logging -- track train loss\n",
    "        losses.append(loss.item()) # ログを残している。lossというのはパラメータのgradientでパラメータを更新する方向や大きさを決めている。\n",
    "\n",
    "    # --------------------------------------------------------\n",
    "    #       Evaluate performance at the end of each epoch\n",
    "    # --------------------------------------------------------\n",
    "    #scheduler.step()  # エポックの終わりに学習率を調整\n",
    "\n",
    "    # Logging -- average train loss in this epoch\n",
    "    loss_history_train.append(utils.ewm(losses))\n",
    "\n",
    "    # Logging -- evalutate performance on test set\n",
    "    results = evaluate_model(lstm, test_xyz, test_label)\n",
    "    loss_history_test.append(results['loss'])\n",
    "    kappa_history_test.append(results['kappa'])\n",
    "     # エポックごとの損失や精度を記録\n",
    "    print(f\"Epoch {i+1}/{num_epoch}, Loss: {loss.item()}, test Loss:{results['loss']}\")"
   ]
  },
  {
   "cell_type": "code",
   "execution_count": 29,
   "metadata": {},
   "outputs": [
    {
     "name": "stdout",
     "output_type": "stream",
     "text": [
      "\n",
      "Classifier performance\n",
      "Out of sample:\n",
      "               precision    recall  f1-score   support\n",
      "\n",
      "         1.0       0.55      0.76      0.64      1041\n",
      "         2.0       0.96      0.86      0.91       719\n",
      "         3.0       0.99      0.97      0.98       243\n",
      "         4.0       0.96      0.94      0.95       960\n",
      "         5.0       0.71      0.78      0.74       774\n",
      "         6.0       0.69      0.57      0.63       926\n",
      "         7.0       0.66      0.66      0.66       964\n",
      "         8.0       0.58      0.25      0.35       373\n",
      "\n",
      "    accuracy                           0.74      6000\n",
      "   macro avg       0.76      0.72      0.73      6000\n",
      "weighted avg       0.75      0.74      0.73      6000\n",
      "\n"
     ]
    },
    {
     "data": {
      "image/png": "[encoded data removed]",
      "text/plain": [
       "<Figure size 640x480 with 2 Axes>"
      ]
     },
     "metadata": {},
     "output_type": "display_data"
    }
   ],
   "source": [
    "# Loss history\n",
    "plt.close('all')\n",
    "fig, ax = plt.subplots()\n",
    "ax.plot(loss_history_train, color='C0', label='train loss')\n",
    "ax.plot(loss_history_test, color='C1', label='test loss')\n",
    "ax.set_ylabel('loss (CE)')\n",
    "ax.set_xlabel('epoch')\n",
    "ax = ax.twinx()\n",
    "ax.plot(kappa_history_test, color='C2', label='kappa')\n",
    "ax.set_ylabel('kappa')\n",
    "ax.grid(True)\n",
    "fig.legend()\n",
    "\n",
    "# Report\n",
    "#Y_test_pred_lab = le.inverse_transform(results['Y_pred'])  # back to text labels\n",
    "#Y_test_lab = le.inverse_transform(test_label)  # back to text labels\n",
    "print('\\nClassifier performance')\n",
    "print('Out of sample:\\n', metrics.classification_report(test_label, results['Y_pred']))"
   ]
  },
  {
   "cell_type": "code",
   "execution_count": null,
   "metadata": {},
   "outputs": [],
   "source": []
  }
 ],
 "metadata": {
  "kernelspec": {
   "display_name": "labo_Okita",
   "language": "python",
   "name": "python3"
  },
  "language_info": {
   "codemirror_mode": {
    "name": "ipython",
    "version": 3
   },
   "file_extension": ".py",
   "mimetype": "text/x-python",
   "name": "python",
   "nbconvert_exporter": "python",
   "pygments_lexer": "ipython3",
   "version": "3.10.14"
  }
 },
 "nbformat": 4,
 "nbformat_minor": 2
}
