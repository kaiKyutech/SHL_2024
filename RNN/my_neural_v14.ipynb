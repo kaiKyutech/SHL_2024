{
 "cells": [
  {
   "cell_type": "markdown",
   "metadata": {},
   "source": [
    "LSTMを定義してみる  \n"
   ]
  },
  {
   "cell_type": "code",
   "execution_count": 1,
   "metadata": {},
   "outputs": [
    {
     "name": "stdout",
     "output_type": "stream",
     "text": [
      "Using cuda device: 0\n"
     ]
    }
   ],
   "source": [
    "import os\n",
    "import numpy as np\n",
    "import pandas as pd\n",
    "import matplotlib.pyplot as plt\n",
    "import torch\n",
    "import torch.nn as nn\n",
    "import torch.nn.functional as F\n",
    "import torch.optim as optim\n",
    "import torch.backends.cudnn as cudnn\n",
    "from sklearn import metrics\n",
    "from sklearn.preprocessing import LabelEncoder\n",
    "from tqdm.auto import tqdm\n",
    "from torch.utils.data import DataLoader, TensorDataset\n",
    "\n",
    "import utils\n",
    "\n",
    "# For reproducibility\n",
    "np.random.seed(42)\n",
    "torch.manual_seed(42) # 乱数生成シード\n",
    "cudnn.benchmark = True\n",
    "\n",
    "# Grab a GPU if there is one\n",
    "if torch.cuda.is_available():\n",
    "    device = torch.device(\"cuda\")\n",
    "    print(\"Using {} device: {}\".format(device, torch.cuda.current_device()))\n",
    "else:\n",
    "    device = torch.device(\"cpu\")\n",
    "    print(\"Using {}\".format(device))"
   ]
  },
  {
   "cell_type": "code",
   "execution_count": 24,
   "metadata": {},
   "outputs": [],
   "source": [
    "class LSTM(nn.Module):\n",
    "    def __init__(\n",
    "            self, \n",
    "            input_size, \n",
    "            hidden_size, \n",
    "            output_size, \n",
    "            num_layers, \n",
    "            bias=True, \n",
    "            bidirectional = False,\n",
    "            dropout=0.0):\n",
    "        \n",
    "        super(LSTM, self).__init__()\n",
    "        \n",
    "        self.input_size = input_size\n",
    "        self.hidden_size = hidden_size\n",
    "        self.output_size = output_size\n",
    "        self.num_layers = num_layers\n",
    "        self.num_directions = 2 if bidirectional else 1 # 双方向か否かでlstmの出力数が変わるみたいなので\n",
    "\n",
    "        self.lstm = nn.LSTM(input_size, hidden_size, num_layers, bias=bias,batch_first=True, dropout=dropout, bidirectional=bidirectional)\n",
    "        self.fc = nn.Linear(hidden_size*self.num_directions, output_size)\n",
    "    \n",
    "    def forward(self, x):\n",
    "        # 初期隠れ状態とセル状態をゼロで初期化 こうしないと隠れ状態が残ったままになる\n",
    "        h0 = torch.zeros(self.num_layers*self.num_directions, x.size(0), self.hidden_size, device=x.device)\n",
    "        c0 = torch.zeros(self.num_layers*self.num_directions, x.size(0), self.hidden_size, device=x.device)\n",
    "\n",
    "        # LSTM層\n",
    "        # 入力xと文脈h0,c0 out(batch_size, 500, hidden_size*num_directions)\n",
    "        out, _ = self.lstm(x, (h0, c0)) \n",
    "\n",
    "        # 全結合層\n",
    "        \"\"\"# out(batch_size, 500, hidden_size*num_directions)\n",
    "        out = out.contiguous().view(-1, self.hidden_size * self.num_directions)\n",
    "        # out(batch_size*500, hidden_size*self.num_directions)\n",
    "        out = self.fc(out)# outには８クラス分類のやつが入る\n",
    "        # out(batch_size*500, 8)\n",
    "\n",
    "        # x.shapeは(batch_size, 500, 9)だったっけ？\n",
    "        out = out.view(x.size(0), x.size(1), 8)\n",
    "        # out(batch_size, 500, 8)\n",
    "    \n",
    "        # シーケンス全体の平均を取って最終出力にする\n",
    "        out = torch.mean(out, dim=1)\"\"\"\n",
    "        out = out[:,-1,:]\n",
    "        out = self.fc(out)\n",
    "        # out(batch_size, 8)\n",
    "        return out"
   ]
  },
  {
   "cell_type": "code",
   "execution_count": 3,
   "metadata": {},
   "outputs": [],
   "source": [
    "# X:説明変数 y:目的ラベル\n",
    "def create_dataloader(X, y=None, batch_size=1, shuffle=False):\n",
    "    X = torch.tensor(X, dtype=torch.float32)\n",
    "    if y is not None:\n",
    "        y = torch.tensor(y-1, dtype=torch.long)\n",
    "        dataset = TensorDataset(X,y)\n",
    "    else:\n",
    "        dataset = TensorDataset(X)\n",
    "    \n",
    "    dataloader = DataLoader(dataset, batch_size=batch_size, shuffle=shuffle)\n",
    "    return dataloader\n",
    "\n",
    "def forward_by_batches(model, dataloader):\n",
    "    Y = []\n",
    "    model.eval()\n",
    "    with torch.no_grad():\n",
    "        for x in dataloader:\n",
    "            x = x[0].to(device)\n",
    "            Y.append(model(x))\n",
    "    model.train()\n",
    "\n",
    "    Y = torch.cat(Y) # Yをテンソルに変換\n",
    "    return Y\n",
    "\n",
    "\n",
    "def evaluate_model(model, X, Y, batch_size=1024):\n",
    "    dataloader = create_dataloader(X, Y, batch_size=batch_size, shuffle=False)\n",
    "    Y_pred = forward_by_batches(model, dataloader)\n",
    "    loss = F.cross_entropy(Y_pred, torch.tensor(Y-1.0, dtype=torch.long).to(device)).item() # クロスエントロピー損失の計算 仕方なく0~7クラス分類とする\n",
    "\n",
    "    Y_pred = F.softmax(Y_pred, dim=1) \n",
    "    Y_pred = torch.argmax(Y_pred, dim=1)  # 最も高い確率のY_predのラベルを予測ラベルとしてY_predに入れられる。\n",
    "    Y_pred = Y_pred + 1  # 予測ラベルに1を加えて1~8の範囲に変換する\n",
    "    Y_pred = Y_pred.cpu().numpy()  # テンソルでGPUにのっているものをcpuに移動して、それをさらにnumpy配列に変換している。\n",
    "    kappa = metrics.cohen_kappa_score(Y, Y_pred) # 1~8クラス分類\n",
    "\n",
    "    return {'loss':loss, 'kappa':kappa, 'Y_pred':Y_pred}"
   ]
  },
  {
   "cell_type": "markdown",
   "metadata": {},
   "source": [
    "# データ用意"
   ]
  },
  {
   "cell_type": "code",
   "execution_count": 4,
   "metadata": {},
   "outputs": [
    {
     "name": "stdout",
     "output_type": "stream",
     "text": [
      "(196072, 3, 500)\n",
      "(196072,)\n"
     ]
    }
   ],
   "source": [
    "fold = \"../../train_raw_npy/\"\n",
    "xyz = np.load(f\"{fold}acc_xyz.npy\")\n",
    "\n",
    "label = np.load(f\"{fold}sampled_label.npy\")\n",
    "\n",
    "\n",
    "\n",
    "print(xyz.shape)\n",
    "print(label.shape)\n"
   ]
  },
  {
   "cell_type": "code",
   "execution_count": 4,
   "metadata": {},
   "outputs": [
    {
     "name": "stdout",
     "output_type": "stream",
     "text": [
      "(196072, 3, 500)\n",
      "(196072, 3, 500)\n",
      "(196072, 3, 500)\n",
      "(196072, 9, 500)\n",
      "(196072,)\n"
     ]
    }
   ],
   "source": [
    "fold = \"../../train_raw_npy/\"\n",
    "acc_xyz = np.load(f\"{fold}acc_xyz.npy\")\n",
    "gyr_xyz = np.load(f\"{fold}gyr_xyz.npy\")\n",
    "mag_xyz = np.load(f\"{fold}mag_xyz.npy\")\n",
    "label = np.load(f\"{fold}sampled_label.npy\")\n",
    "xyz = np.concatenate([acc_xyz, gyr_xyz, mag_xyz], axis=1)\n",
    "\n",
    "print(acc_xyz.shape)\n",
    "print(gyr_xyz.shape)\n",
    "print(mag_xyz.shape)\n",
    "print(xyz.shape)\n",
    "print(label.shape)\n",
    "del acc_xyz\n",
    "del gyr_xyz\n",
    "del mag_xyz"
   ]
  },
  {
   "cell_type": "code",
   "execution_count": 5,
   "metadata": {},
   "outputs": [
    {
     "name": "stdout",
     "output_type": "stream",
     "text": [
      "(196072, 3, 500)\n"
     ]
    }
   ],
   "source": [
    "from sklearn.preprocessing import StandardScaler\n",
    "\n",
    "# データを2Dに変換して標準化\n",
    "scaler = StandardScaler()\n",
    "xyz_reshaped = xyz.reshape(-1, xyz.shape[-1])  # (196072*3, 500\n",
    "scaled_xyz = scaler.fit_transform(xyz_reshaped)  # 標準化\n",
    "scaled_xyz = scaled_xyz.reshape(xyz.shape)  # 元の形に戻す\n",
    "print(scaled_xyz.shape)  # (196072, 3, 500)"
   ]
  },
  {
   "cell_type": "code",
   "execution_count": 6,
   "metadata": {},
   "outputs": [],
   "source": [
    "#データのシェイプ変更\n",
    "scaled_xyz = np.transpose(scaled_xyz, (0,2,1))"
   ]
  },
  {
   "cell_type": "code",
   "execution_count": 7,
   "metadata": {},
   "outputs": [
    {
     "data": {
      "text/plain": [
       "(196072, 500, 3)"
      ]
     },
     "execution_count": 7,
     "metadata": {},
     "output_type": "execute_result"
    }
   ],
   "source": [
    "scaled_xyz.shape"
   ]
  },
  {
   "cell_type": "code",
   "execution_count": 8,
   "metadata": {},
   "outputs": [
    {
     "name": "stdout",
     "output_type": "stream",
     "text": [
      "(30000, 500, 3)\n",
      "(30000,)\n"
     ]
    }
   ],
   "source": [
    "#おしり3万データを使う  \n",
    "scaled_xyz = scaled_xyz[-40000:-10000,:]\n",
    "label_sm = label[-40000:-10000]\n",
    "print(scaled_xyz.shape)\n",
    "print(label_sm.shape)"
   ]
  },
  {
   "cell_type": "code",
   "execution_count": 9,
   "metadata": {},
   "outputs": [
    {
     "name": "stdout",
     "output_type": "stream",
     "text": [
      "Train data shape: (24000, 500, 3)\n",
      "Test data shape: (6000, 500, 3)\n",
      "Train label shape: (24000,)\n",
      "Test label shape: (6000,)\n",
      "1.0    4235\n",
      "4.0    3917\n",
      "7.0    3893\n",
      "6.0    3582\n",
      "2.0    3010\n",
      "5.0    2964\n",
      "8.0    1445\n",
      "3.0     954\n",
      "Name: count, dtype: int64\n",
      "1.0    1041\n",
      "7.0     964\n",
      "4.0     960\n",
      "6.0     926\n",
      "5.0     774\n",
      "2.0     719\n",
      "8.0     373\n",
      "3.0     243\n",
      "Name: count, dtype: int64\n"
     ]
    }
   ],
   "source": [
    "import numpy as np\n",
    "from sklearn.model_selection import train_test_split\n",
    "\n",
    "# ランダムサンプリング\n",
    "train_xyz, test_xyz, train_label, test_label = train_test_split(scaled_xyz, label_sm, test_size=0.2,random_state=40)\n",
    "\n",
    "# 結果の確認\n",
    "print(f\"Train data shape: {train_xyz.shape}\")\n",
    "print(f\"Test data shape: {test_xyz.shape}\")\n",
    "print(f\"Train label shape: {train_label.shape}\")\n",
    "print(f\"Test label shape: {test_label.shape}\")\n",
    "print(pd.Series(train_label).value_counts())\n",
    "print(pd.Series(test_label).value_counts())\n",
    "# train_randomの生成\n",
    "#train_xyz_random = train_xyz\n",
    "#train_label_random = train_label"
   ]
  },
  {
   "cell_type": "code",
   "execution_count": 10,
   "metadata": {},
   "outputs": [
    {
     "data": {
      "text/plain": [
       "8"
      ]
     },
     "execution_count": 10,
     "metadata": {},
     "output_type": "execute_result"
    }
   ],
   "source": [
    "len(np.unique(train_label))"
   ]
  },
  {
   "cell_type": "code",
   "execution_count": 40,
   "metadata": {},
   "outputs": [
    {
     "name": "stdout",
     "output_type": "stream",
     "text": [
      "LSTM(\n",
      "  (lstm): LSTM(3, 32, num_layers=2, batch_first=True, dropout=0.5)\n",
      "  (fc): Linear(in_features=32, out_features=8, bias=True)\n",
      ")\n"
     ]
    }
   ],
   "source": [
    "input_size = 3 # センサデータの次元数\n",
    "hidden_size = 32 # 隠れ層の次元数\n",
    "num_layers = 2 # LSTM層の数\n",
    "output_size = len(np.unique(train_label))\n",
    "dropout = 0.5\n",
    "lr = 1e-3\n",
    "\n",
    "lstm = LSTM(input_size, hidden_size, output_size,num_layers,bidirectional=False, dropout=dropout).to(device)\n",
    "print(lstm)\n",
    "optimizer = torch.optim.Adam(lstm.parameters(), lr=lr, weight_decay=0)\n",
    "loss_fn = nn.CrossEntropyLoss()"
   ]
  },
  {
   "cell_type": "code",
   "execution_count": 47,
   "metadata": {},
   "outputs": [
    {
     "data": {
      "application/vnd.jupyter.widget-view+json": {
       "model_id": "2d4da03d8b5b481f8959e98a5e224e22",
       "version_major": 2,
       "version_minor": 0
      },
      "text/plain": [
       "  0%|          | 0/100 [00:00<?, ?it/s]"
      ]
     },
     "metadata": {},
     "output_type": "display_data"
    },
    {
     "name": "stdout",
     "output_type": "stream",
     "text": [
      "Epoch 1/100, Loss: 0.4978960156440735, test Loss:0.7683129906654358, Kappa: 0.6848727863300845\n",
      "Epoch 2/100, Loss: 0.4692348539829254, test Loss:0.7679973840713501, Kappa: 0.686184409505445\n",
      "Epoch 3/100, Loss: 0.4993891417980194, test Loss:0.7690759897232056, Kappa: 0.6864940956711955\n",
      "Epoch 4/100, Loss: 0.46451857686042786, test Loss:0.7706698179244995, Kappa: 0.6864101879167022\n",
      "Epoch 5/100, Loss: 0.4968149960041046, test Loss:0.7710968255996704, Kappa: 0.6852881440715498\n",
      "Epoch 6/100, Loss: 0.5126327276229858, test Loss:0.7705767154693604, Kappa: 0.6849467315085985\n",
      "Epoch 7/100, Loss: 0.48893997073173523, test Loss:0.7701496481895447, Kappa: 0.6847257600046442\n",
      "Epoch 8/100, Loss: 0.4721388518810272, test Loss:0.7719427347183228, Kappa: 0.6835585128105349\n",
      "Epoch 9/100, Loss: 0.4990288317203522, test Loss:0.7752736210823059, Kappa: 0.6827912606789479\n",
      "Epoch 10/100, Loss: 0.5105985403060913, test Loss:0.7736166715621948, Kappa: 0.6851205463508386\n",
      "Epoch 11/100, Loss: 0.48118358850479126, test Loss:0.7774000763893127, Kappa: 0.6814459877322044\n",
      "Epoch 12/100, Loss: 0.4463517367839813, test Loss:0.7730945348739624, Kappa: 0.6822431135588288\n",
      "Epoch 13/100, Loss: 0.4849715232849121, test Loss:0.7707573771476746, Kappa: 0.6832343419059038\n",
      "Epoch 14/100, Loss: 0.47431907057762146, test Loss:0.7758631110191345, Kappa: 0.6822997019446562\n",
      "Epoch 15/100, Loss: 0.48814138770103455, test Loss:0.773541271686554, Kappa: 0.6826191005189493\n",
      "Epoch 16/100, Loss: 0.4888662099838257, test Loss:0.7763767838478088, Kappa: 0.6828539311424452\n",
      "Epoch 17/100, Loss: 0.4742802083492279, test Loss:0.7763397097587585, Kappa: 0.6824588850005613\n",
      "Epoch 18/100, Loss: 0.46558183431625366, test Loss:0.7772517800331116, Kappa: 0.6818206364423051\n",
      "Epoch 19/100, Loss: 0.5126588344573975, test Loss:0.7764881253242493, Kappa: 0.680910303439338\n",
      "Epoch 20/100, Loss: 0.4979276955127716, test Loss:0.7807125449180603, Kappa: 0.6791745516823855\n",
      "Epoch 21/100, Loss: 0.469449520111084, test Loss:0.7788859009742737, Kappa: 0.6820524846613645\n",
      "Epoch 22/100, Loss: 0.46872514486312866, test Loss:0.7812120914459229, Kappa: 0.6797475083753735\n",
      "Epoch 23/100, Loss: 0.5111910700798035, test Loss:0.7777822017669678, Kappa: 0.6819069365014737\n",
      "Epoch 24/100, Loss: 0.4965273141860962, test Loss:0.7755128741264343, Kappa: 0.6821728909535707\n",
      "Epoch 25/100, Loss: 0.4692072868347168, test Loss:0.780142605304718, Kappa: 0.68050243777223\n",
      "Epoch 26/100, Loss: 0.4639638066291809, test Loss:0.777787446975708, Kappa: 0.6822777955027832\n",
      "Epoch 27/100, Loss: 0.50369793176651, test Loss:0.7799582481384277, Kappa: 0.6795901759511085\n",
      "Epoch 28/100, Loss: 0.5142537951469421, test Loss:0.7778714895248413, Kappa: 0.6800237382105893\n",
      "Epoch 29/100, Loss: 0.49082231521606445, test Loss:0.7811110019683838, Kappa: 0.6795532634361723\n",
      "Epoch 30/100, Loss: 0.43347424268722534, test Loss:0.779279351234436, Kappa: 0.6786092186366366\n",
      "Epoch 31/100, Loss: 0.4760667383670807, test Loss:0.7807547450065613, Kappa: 0.6798834234035085\n",
      "Epoch 32/100, Loss: 0.5059977173805237, test Loss:0.780232846736908, Kappa: 0.6803182954454912\n",
      "Epoch 33/100, Loss: 0.5098110437393188, test Loss:0.7773482799530029, Kappa: 0.6818822414340187\n",
      "Epoch 34/100, Loss: 0.4677183926105499, test Loss:0.7768270373344421, Kappa: 0.6833695030925897\n",
      "Epoch 35/100, Loss: 0.45329275727272034, test Loss:0.7779341340065002, Kappa: 0.6814562857219857\n",
      "Epoch 36/100, Loss: 0.48430368304252625, test Loss:0.7792799472808838, Kappa: 0.680289901585652\n",
      "Epoch 37/100, Loss: 0.5214987397193909, test Loss:0.7806953191757202, Kappa: 0.6797240859277475\n",
      "Epoch 38/100, Loss: 0.5464843511581421, test Loss:0.7790834307670593, Kappa: 0.6805250168441759\n",
      "Epoch 39/100, Loss: 0.47579225897789, test Loss:0.7811188697814941, Kappa: 0.6793521228670844\n",
      "Epoch 40/100, Loss: 0.4570191502571106, test Loss:0.7816987037658691, Kappa: 0.6784221037295652\n",
      "Epoch 41/100, Loss: 0.4847128689289093, test Loss:0.7796144485473633, Kappa: 0.6799542336497324\n",
      "Epoch 42/100, Loss: 0.48712581396102905, test Loss:0.780926525592804, Kappa: 0.6760268623677765\n",
      "Epoch 43/100, Loss: 0.5015177130699158, test Loss:0.7786778211593628, Kappa: 0.6810296102422215\n",
      "Epoch 44/100, Loss: 0.5169672966003418, test Loss:0.7810882329940796, Kappa: 0.6786034419226639\n",
      "Epoch 45/100, Loss: 0.49675238132476807, test Loss:0.7800481915473938, Kappa: 0.6797841703856512\n",
      "Epoch 46/100, Loss: 0.4987274408340454, test Loss:0.7856971025466919, Kappa: 0.6739104664634988\n",
      "Epoch 47/100, Loss: 0.5004154443740845, test Loss:0.7814426422119141, Kappa: 0.6775959815127823\n",
      "Epoch 48/100, Loss: 0.49659523367881775, test Loss:0.7864163517951965, Kappa: 0.677330483820262\n",
      "Epoch 49/100, Loss: 0.5141220092773438, test Loss:0.7827355265617371, Kappa: 0.6779421155536045\n"
     ]
    },
    {
     "ename": "KeyboardInterrupt",
     "evalue": "",
     "output_type": "error",
     "traceback": [
      "\u001b[1;31m---------------------------------------------------------------------------\u001b[0m",
      "\u001b[1;31mKeyboardInterrupt\u001b[0m                         Traceback (most recent call last)",
      "Cell \u001b[1;32mIn[47], line 26\u001b[0m\n\u001b[0;32m     23\u001b[0m     output \u001b[38;5;241m=\u001b[39m lstm(x)\n\u001b[0;32m     24\u001b[0m     loss \u001b[38;5;241m=\u001b[39m loss_fn(output, target)\n\u001b[1;32m---> 26\u001b[0m \u001b[43mscaler\u001b[49m\u001b[38;5;241;43m.\u001b[39;49m\u001b[43mscale\u001b[49m\u001b[43m(\u001b[49m\u001b[43mloss\u001b[49m\u001b[43m)\u001b[49m\u001b[38;5;241;43m.\u001b[39;49m\u001b[43mbackward\u001b[49m\u001b[43m(\u001b[49m\u001b[43m)\u001b[49m\n\u001b[0;32m     28\u001b[0m \u001b[38;5;66;03m# 勾配のクリッピング\u001b[39;00m\n\u001b[0;32m     29\u001b[0m nn\u001b[38;5;241m.\u001b[39mutils\u001b[38;5;241m.\u001b[39mclip_grad_norm_(lstm\u001b[38;5;241m.\u001b[39mparameters(), max_norm\u001b[38;5;241m=\u001b[39m\u001b[38;5;241m1.0\u001b[39m)\n",
      "File \u001b[1;32mc:\\Users\\kaiha\\anaconda3\\envs\\labo_Okita\\lib\\site-packages\\torch\\_tensor.py:522\u001b[0m, in \u001b[0;36mTensor.backward\u001b[1;34m(self, gradient, retain_graph, create_graph, inputs)\u001b[0m\n\u001b[0;32m    512\u001b[0m \u001b[38;5;28;01mif\u001b[39;00m has_torch_function_unary(\u001b[38;5;28mself\u001b[39m):\n\u001b[0;32m    513\u001b[0m     \u001b[38;5;28;01mreturn\u001b[39;00m handle_torch_function(\n\u001b[0;32m    514\u001b[0m         Tensor\u001b[38;5;241m.\u001b[39mbackward,\n\u001b[0;32m    515\u001b[0m         (\u001b[38;5;28mself\u001b[39m,),\n\u001b[1;32m   (...)\u001b[0m\n\u001b[0;32m    520\u001b[0m         inputs\u001b[38;5;241m=\u001b[39minputs,\n\u001b[0;32m    521\u001b[0m     )\n\u001b[1;32m--> 522\u001b[0m \u001b[43mtorch\u001b[49m\u001b[38;5;241;43m.\u001b[39;49m\u001b[43mautograd\u001b[49m\u001b[38;5;241;43m.\u001b[39;49m\u001b[43mbackward\u001b[49m\u001b[43m(\u001b[49m\n\u001b[0;32m    523\u001b[0m \u001b[43m    \u001b[49m\u001b[38;5;28;43mself\u001b[39;49m\u001b[43m,\u001b[49m\u001b[43m \u001b[49m\u001b[43mgradient\u001b[49m\u001b[43m,\u001b[49m\u001b[43m \u001b[49m\u001b[43mretain_graph\u001b[49m\u001b[43m,\u001b[49m\u001b[43m \u001b[49m\u001b[43mcreate_graph\u001b[49m\u001b[43m,\u001b[49m\u001b[43m \u001b[49m\u001b[43minputs\u001b[49m\u001b[38;5;241;43m=\u001b[39;49m\u001b[43minputs\u001b[49m\n\u001b[0;32m    524\u001b[0m \u001b[43m\u001b[49m\u001b[43m)\u001b[49m\n",
      "File \u001b[1;32mc:\\Users\\kaiha\\anaconda3\\envs\\labo_Okita\\lib\\site-packages\\torch\\autograd\\__init__.py:266\u001b[0m, in \u001b[0;36mbackward\u001b[1;34m(tensors, grad_tensors, retain_graph, create_graph, grad_variables, inputs)\u001b[0m\n\u001b[0;32m    261\u001b[0m     retain_graph \u001b[38;5;241m=\u001b[39m create_graph\n\u001b[0;32m    263\u001b[0m \u001b[38;5;66;03m# The reason we repeat the same comment below is that\u001b[39;00m\n\u001b[0;32m    264\u001b[0m \u001b[38;5;66;03m# some Python versions print out the first line of a multi-line function\u001b[39;00m\n\u001b[0;32m    265\u001b[0m \u001b[38;5;66;03m# calls in the traceback and some print out the last line\u001b[39;00m\n\u001b[1;32m--> 266\u001b[0m \u001b[43mVariable\u001b[49m\u001b[38;5;241;43m.\u001b[39;49m\u001b[43m_execution_engine\u001b[49m\u001b[38;5;241;43m.\u001b[39;49m\u001b[43mrun_backward\u001b[49m\u001b[43m(\u001b[49m\u001b[43m  \u001b[49m\u001b[38;5;66;43;03m# Calls into the C++ engine to run the backward pass\u001b[39;49;00m\n\u001b[0;32m    267\u001b[0m \u001b[43m    \u001b[49m\u001b[43mtensors\u001b[49m\u001b[43m,\u001b[49m\n\u001b[0;32m    268\u001b[0m \u001b[43m    \u001b[49m\u001b[43mgrad_tensors_\u001b[49m\u001b[43m,\u001b[49m\n\u001b[0;32m    269\u001b[0m \u001b[43m    \u001b[49m\u001b[43mretain_graph\u001b[49m\u001b[43m,\u001b[49m\n\u001b[0;32m    270\u001b[0m \u001b[43m    \u001b[49m\u001b[43mcreate_graph\u001b[49m\u001b[43m,\u001b[49m\n\u001b[0;32m    271\u001b[0m \u001b[43m    \u001b[49m\u001b[43minputs\u001b[49m\u001b[43m,\u001b[49m\n\u001b[0;32m    272\u001b[0m \u001b[43m    \u001b[49m\u001b[43mallow_unreachable\u001b[49m\u001b[38;5;241;43m=\u001b[39;49m\u001b[38;5;28;43;01mTrue\u001b[39;49;00m\u001b[43m,\u001b[49m\n\u001b[0;32m    273\u001b[0m \u001b[43m    \u001b[49m\u001b[43maccumulate_grad\u001b[49m\u001b[38;5;241;43m=\u001b[39;49m\u001b[38;5;28;43;01mTrue\u001b[39;49;00m\u001b[43m,\u001b[49m\n\u001b[0;32m    274\u001b[0m \u001b[43m\u001b[49m\u001b[43m)\u001b[49m\n",
      "\u001b[1;31mKeyboardInterrupt\u001b[0m: "
     ]
    }
   ],
   "source": [
    "from torch.cuda.amp import autocast, GradScaler\n",
    "\n",
    "# Mixed Precision Trainingの設定\n",
    "scaler = GradScaler()\n",
    "\n",
    "# トレーニングループ\n",
    "num_epoch = 100\n",
    "batch_size = 1000  # バッチサイズを調整\n",
    "#kappa_history_test = []\n",
    "#loss_history_test = []\n",
    "#loss_history_train = []\n",
    "#losses = []\n",
    "\n",
    "for i in tqdm(range(num_epoch)):\n",
    "    lstm.train()\n",
    "    dataloader = create_dataloader(train_xyz, train_label, batch_size=batch_size, shuffle=True)\n",
    "    \n",
    "    for x, target in dataloader:\n",
    "        x, target = x.to('cuda'), target.to('cuda')\n",
    "        optimizer.zero_grad()\n",
    "        \n",
    "        with autocast():\n",
    "            output = lstm(x)\n",
    "            loss = loss_fn(output, target)\n",
    "        \n",
    "        scaler.scale(loss).backward()\n",
    "        \n",
    "        # 勾配のクリッピング\n",
    "        nn.utils.clip_grad_norm_(lstm.parameters(), max_norm=1.0)\n",
    "        \n",
    "        scaler.step(optimizer)\n",
    "        scaler.update()\n",
    "        \n",
    "        # Logging -- track train loss\n",
    "        losses.append(loss.item())\n",
    "\n",
    "    # --------------------------------------------------------\n",
    "    #       Evaluate performance at the end of each epoch\n",
    "    # --------------------------------------------------------\n",
    "    # Logging -- average train loss in this epoch\n",
    "    loss_history_train.append(np.mean(losses))\n",
    "\n",
    "    # Logging -- evalutate performance on test set\n",
    "    results = evaluate_model(lstm, test_xyz, test_label)\n",
    "    loss_history_test.append(results['loss'])\n",
    "    kappa_history_test.append(results['kappa'])\n",
    "    print(f\"Epoch {i+1}/{num_epoch}, Loss: {loss.item()}, test Loss:{results['loss']}, Kappa: {results['kappa']}\")\n"
   ]
  },
  {
   "cell_type": "code",
   "execution_count": 16,
   "metadata": {},
   "outputs": [
    {
     "data": {
      "application/vnd.jupyter.widget-view+json": {
       "model_id": "a2a7cacbbd9948cc84cb840e3b1c13c2",
       "version_major": 2,
       "version_minor": 0
      },
      "text/plain": [
       "  0%|          | 0/50 [00:00<?, ?it/s]"
      ]
     },
     "metadata": {},
     "output_type": "display_data"
    },
    {
     "name": "stdout",
     "output_type": "stream",
     "text": [
      "Epoch 1/50, Loss: 1.0250056982040405, test Loss:1.0403079986572266\n",
      "Epoch 2/50, Loss: 1.0204583406448364, test Loss:1.0520751476287842\n",
      "Epoch 3/50, Loss: 1.0210763216018677, test Loss:1.0348235368728638\n",
      "Epoch 4/50, Loss: 1.0014559030532837, test Loss:1.0296123027801514\n",
      "Epoch 5/50, Loss: 1.0643821954727173, test Loss:1.0992540121078491\n",
      "Epoch 6/50, Loss: 1.133833646774292, test Loss:1.1405948400497437\n",
      "Epoch 7/50, Loss: 1.0402129888534546, test Loss:1.0281383991241455\n",
      "Epoch 8/50, Loss: 1.036304235458374, test Loss:1.0170209407806396\n",
      "Epoch 9/50, Loss: 0.939461886882782, test Loss:1.0005673170089722\n",
      "Epoch 10/50, Loss: 0.986937403678894, test Loss:0.9929190278053284\n",
      "Epoch 11/50, Loss: 0.9852074384689331, test Loss:0.9962508678436279\n",
      "Epoch 12/50, Loss: 0.8881388902664185, test Loss:0.9799577593803406\n",
      "Epoch 13/50, Loss: 1.109809160232544, test Loss:1.0336110591888428\n",
      "Epoch 14/50, Loss: 0.942057192325592, test Loss:1.0139036178588867\n",
      "Epoch 15/50, Loss: 0.9719501733779907, test Loss:0.9874042868614197\n",
      "Epoch 16/50, Loss: 0.9230322241783142, test Loss:0.9807496070861816\n",
      "Epoch 17/50, Loss: 1.0038409233093262, test Loss:0.9691080451011658\n",
      "Epoch 18/50, Loss: 0.9744335412979126, test Loss:0.9613062143325806\n",
      "Epoch 19/50, Loss: 0.9784771203994751, test Loss:0.9614502191543579\n",
      "Epoch 20/50, Loss: 1.0092278718948364, test Loss:0.9773653149604797\n",
      "Epoch 21/50, Loss: 0.9414815306663513, test Loss:0.9539068937301636\n",
      "Epoch 22/50, Loss: 0.9924898743629456, test Loss:0.9441049098968506\n",
      "Epoch 23/50, Loss: 0.9128618836402893, test Loss:0.9430620670318604\n",
      "Epoch 24/50, Loss: 0.9703732132911682, test Loss:0.9746830463409424\n",
      "Epoch 25/50, Loss: 0.897046685218811, test Loss:0.9470211863517761\n",
      "Epoch 26/50, Loss: 0.9051076769828796, test Loss:0.9397422671318054\n",
      "Epoch 27/50, Loss: 0.9041461944580078, test Loss:0.9219699501991272\n",
      "Epoch 28/50, Loss: 0.9509851336479187, test Loss:0.9563547968864441\n",
      "Epoch 29/50, Loss: 0.9180673956871033, test Loss:0.9483925700187683\n",
      "Epoch 30/50, Loss: 0.9329405426979065, test Loss:0.9444717764854431\n",
      "Epoch 31/50, Loss: 1.0039900541305542, test Loss:0.9279944896697998\n",
      "Epoch 32/50, Loss: 0.8824673891067505, test Loss:0.9735591411590576\n",
      "Epoch 33/50, Loss: 0.9171954393386841, test Loss:0.9358828067779541\n",
      "Epoch 34/50, Loss: 0.916532576084137, test Loss:0.9233112931251526\n",
      "Epoch 35/50, Loss: 0.8595378994941711, test Loss:0.9250185489654541\n",
      "Epoch 36/50, Loss: 1.0462833642959595, test Loss:0.9902111291885376\n",
      "Epoch 37/50, Loss: 0.8654165863990784, test Loss:0.9487934708595276\n",
      "Epoch 38/50, Loss: 0.9051809906959534, test Loss:0.9117565751075745\n",
      "Epoch 39/50, Loss: 0.9811452627182007, test Loss:0.939816415309906\n",
      "Epoch 40/50, Loss: 0.9605194926261902, test Loss:0.9350414276123047\n",
      "Epoch 41/50, Loss: 0.8803326487541199, test Loss:0.9177442789077759\n",
      "Epoch 42/50, Loss: 0.9371939897537231, test Loss:0.9107868075370789\n",
      "Epoch 43/50, Loss: 0.8047307729721069, test Loss:0.9017514586448669\n",
      "Epoch 44/50, Loss: 0.9283613562583923, test Loss:0.9278203248977661\n",
      "Epoch 45/50, Loss: 0.9055169820785522, test Loss:0.9138232469558716\n",
      "Epoch 46/50, Loss: 0.8547595739364624, test Loss:0.8965280055999756\n",
      "Epoch 47/50, Loss: 0.9216997027397156, test Loss:0.9344435930252075\n",
      "Epoch 48/50, Loss: 1.2973763942718506, test Loss:1.215972900390625\n",
      "Epoch 49/50, Loss: 0.9879892468452454, test Loss:1.0310357809066772\n",
      "Epoch 50/50, Loss: 0.948488175868988, test Loss:0.9640877842903137\n"
     ]
    }
   ],
   "source": [
    "kappa_history_test = []\n",
    "loss_history_test = []\n",
    "loss_history_train = []\n",
    "losses = []\n",
    "num_epoch = 50\n",
    "batch_size = 1024  # size of the mini-batch　バッチサイズを64にしている 64が今のところ最高評価\n",
    "count = 0\n",
    "for i in tqdm(range(num_epoch)): # 同じデータセットでnum_epoch回cnnを学習させている。\n",
    "    if False:#i!=0:\n",
    "        if loss.item() < 0.1 and count == 0 and i > 19:\n",
    "            batch_size = 2048\n",
    "            count += 1\n",
    "            print(f\"batch_size:{batch_size}, count:{count}\")\n",
    "        elif count != 0:\n",
    "            count += 1\n",
    "            if count == 25:\n",
    "                batch_size *= 2\n",
    "                print(f\"batch_size:{batch_size}, count:{count}\")\n",
    "            if count == 50:\n",
    "                print(\"break!\")\n",
    "                break\n",
    "        \n",
    "\n",
    "    dataloader = create_dataloader(train_xyz, train_label, batch_size=batch_size, shuffle=True)\n",
    "    \n",
    "\n",
    "    for x, target in dataloader:\n",
    "        x, target = x.to(device), target.type(torch.int64).to(device)#target.to(device) # ここでdeviceにデータを移行\n",
    "        optimizer.zero_grad()\n",
    "        output = lstm(x) # バッチxをネットワークに通し、予測値outputを取得\n",
    "        loss = loss_fn(output, target) # 予測値と実際のラベルtargetとの間の損失を計算する。ネットワークの出力outputと正解targetとの間の差異を計算しその結果としてスカラー値lossを生成する。\n",
    "        loss.backward() # 計算されたlossに従ってネットワークのすべてのパラメータに対する勾配が計算される。\n",
    "        optimizer.step() # オプティマイザが保存している勾配情報を使用してモデルのパラメータを更新　直接cnnに紐づいているのでcnnのパラメータを直接更新している\n",
    "\n",
    "        # Logging -- track train loss\n",
    "        losses.append(loss.item()) # ログを残している。lossというのはパラメータのgradientでパラメータを更新する方向や大きさを決めている。\n",
    "\n",
    "    # --------------------------------------------------------\n",
    "    #       Evaluate performance at the end of each epoch\n",
    "    # --------------------------------------------------------\n",
    "    #scheduler.step()  # エポックの終わりに学習率を調整\n",
    "\n",
    "    # Logging -- average train loss in this epoch\n",
    "    loss_history_train.append(utils.ewm(losses))\n",
    "\n",
    "    # Logging -- evalutate performance on test set\n",
    "    results = evaluate_model(lstm, test_xyz, test_label)\n",
    "    loss_history_test.append(results['loss'])\n",
    "    kappa_history_test.append(results['kappa'])\n",
    "     # エポックごとの損失や精度を記録\n",
    "    print(f\"Epoch {i+1}/{num_epoch}, Loss: {loss.item()}, test Loss:{results['loss']}\")"
   ]
  },
  {
   "cell_type": "code",
   "execution_count": 48,
   "metadata": {},
   "outputs": [
    {
     "name": "stdout",
     "output_type": "stream",
     "text": [
      "\n",
      "Classifier performance\n",
      "Out of sample:\n",
      "               precision    recall  f1-score   support\n",
      "\n",
      "         1.0       0.55      0.74      0.63      1041\n",
      "         2.0       0.96      0.85      0.90       719\n",
      "         3.0       0.99      0.97      0.98       243\n",
      "         4.0       0.97      0.95      0.96       960\n",
      "         5.0       0.76      0.66      0.71       774\n",
      "         6.0       0.71      0.59      0.64       926\n",
      "         7.0       0.68      0.60      0.64       964\n",
      "         8.0       0.37      0.46      0.41       373\n",
      "\n",
      "    accuracy                           0.72      6000\n",
      "   macro avg       0.75      0.73      0.73      6000\n",
      "weighted avg       0.74      0.72      0.73      6000\n",
      "\n"
     ]
    },
    {
     "data": {
      "image/png": "[encoded data removed]",
      "text/plain": [
       "<Figure size 640x480 with 2 Axes>"
      ]
     },
     "metadata": {},
     "output_type": "display_data"
    }
   ],
   "source": [
    "# Loss history\n",
    "plt.close('all')\n",
    "fig, ax = plt.subplots()\n",
    "ax.plot(loss_history_train, color='C0', label='train loss')\n",
    "ax.plot(loss_history_test, color='C1', label='test loss')\n",
    "ax.set_ylabel('loss (CE)')\n",
    "ax.set_xlabel('epoch')\n",
    "ax = ax.twinx()\n",
    "ax.plot(kappa_history_test, color='C2', label='kappa')\n",
    "ax.set_ylabel('kappa')\n",
    "ax.grid(True)\n",
    "fig.legend()\n",
    "\n",
    "# Report\n",
    "#Y_test_pred_lab = le.inverse_transform(results['Y_pred'])  # back to text labels\n",
    "#Y_test_lab = le.inverse_transform(test_label)  # back to text labels\n",
    "print('\\nClassifier performance')\n",
    "print('Out of sample:\\n', metrics.classification_report(test_label, results['Y_pred']))"
   ]
  },
  {
   "cell_type": "code",
   "execution_count": null,
   "metadata": {},
   "outputs": [],
   "source": []
  }
 ],
 "metadata": {
  "kernelspec": {
   "display_name": "labo_Okita",
   "language": "python",
   "name": "python3"
  },
  "language_info": {
   "codemirror_mode": {
    "name": "ipython",
    "version": 3
   },
   "file_extension": ".py",
   "mimetype": "text/x-python",
   "name": "python",
   "nbconvert_exporter": "python",
   "pygments_lexer": "ipython3",
   "version": "3.10.14"
  }
 },
 "nbformat": 4,
 "nbformat_minor": 2
}
