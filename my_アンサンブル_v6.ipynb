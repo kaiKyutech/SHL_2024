{
 "cells": [
  {
   "cell_type": "markdown",
   "metadata": {},
   "source": [
    "ここではxyzのデータを使って学習、評価  \n",
    "個人的には0~180000のデータをランダムに180000~190000を時系列でテストデータにするといいと思う。"
   ]
  },
  {
   "cell_type": "code",
   "execution_count": 1,
   "metadata": {},
   "outputs": [],
   "source": [
    "import os\n",
    "from glob import glob\n",
    "import numpy as np\n",
    "import pandas as pd\n",
    "import matplotlib.pyplot as plt\n",
    "from imblearn.ensemble import BalancedRandomForestClassifier\n",
    "from sklearn import decomposition\n",
    "from sklearn import preprocessing\n",
    "from sklearn import manifold\n",
    "from sklearn import metrics\n",
    "from tqdm.auto import tqdm\n",
    "from joblib import Parallel, delayed\n",
    "import urllib.request\n",
    "import shutil\n",
    "import zipfile\n",
    "from scipy.stats import mode"
   ]
  },
  {
   "cell_type": "markdown",
   "metadata": {},
   "source": [
    "# 訓練データとテストデータの確保"
   ]
  },
  {
   "cell_type": "code",
   "execution_count": 4,
   "metadata": {},
   "outputs": [
    {
     "name": "stdout",
     "output_type": "stream",
     "text": [
      "(196072, 3, 500)\n",
      "(196072,)\n"
     ]
    }
   ],
   "source": [
    "fold = \"../train_raw_npy/\"\n",
    "xyz = np.load(f\"{fold}acc_xyz.npy\")\n",
    "label = np.load(f\"{fold}sampled_label.npy\")\n",
    "print(xyz.shape)\n",
    "print(label.shape)\n"
   ]
  },
  {
   "cell_type": "code",
   "execution_count": 11,
   "metadata": {},
   "outputs": [
    {
     "name": "stdout",
     "output_type": "stream",
     "text": [
      "(170000, 3, 500)\n",
      "(20000, 3, 500)\n"
     ]
    }
   ],
   "source": [
    "# train/test split\n",
    "pin = 170000\n",
    "train_xyz = xyz[0:pin, :, :]\n",
    "train_label = label[0:pin]\n",
    "test_xyz = xyz[pin:190000, :, :]\n",
    "test_label = label[pin:190000]\n",
    "print(train_xyz.shape)\n",
    "print(test_xyz.shape)"
   ]
  },
  {
   "cell_type": "code",
   "execution_count": 13,
   "metadata": {},
   "outputs": [
    {
     "name": "stdout",
     "output_type": "stream",
     "text": [
      "7.0    27641\n",
      "5.0    26056\n",
      "6.0    25689\n",
      "8.0    22016\n",
      "2.0    21185\n",
      "1.0    20712\n",
      "4.0    19603\n",
      "3.0     7098\n",
      "Name: count, dtype: int64\n",
      "7.0    3612\n",
      "1.0    3315\n",
      "4.0    2766\n",
      "6.0    2637\n",
      "2.0    2489\n",
      "5.0    2419\n",
      "8.0    1818\n",
      "3.0     944\n",
      "Name: count, dtype: int64\n"
     ]
    }
   ],
   "source": [
    "print(pd.Series(train_label).value_counts())\n",
    "print(pd.Series(test_label).value_counts())"
   ]
  },
  {
   "cell_type": "code",
   "execution_count": 15,
   "metadata": {},
   "outputs": [],
   "source": [
    "# trainをランダムに20000個サンプリングする。\n",
    "sample_size = 20000\n",
    "indices = np.random.choice(train_xyz.shape[0], sample_size, replace=False)\n",
    "train_xyz_random = train_xyz[indices]\n",
    "train_label_random = train_label[indices]\n"
   ]
  },
  {
   "cell_type": "code",
   "execution_count": 16,
   "metadata": {},
   "outputs": [
    {
     "name": "stdout",
     "output_type": "stream",
     "text": [
      "(20000, 3, 500)\n",
      "(20000,)\n",
      "(20000, 3, 500)\n",
      "(20000,)\n"
     ]
    }
   ],
   "source": [
    "print(train_xyz_random.shape)\n",
    "print(train_label_random.shape)\n",
    "print(test_xyz.shape)\n",
    "print(test_label.shape)"
   ]
  },
  {
   "cell_type": "code",
   "execution_count": 19,
   "metadata": {},
   "outputs": [
    {
     "name": "stdout",
     "output_type": "stream",
     "text": [
      "(20000, 1500)\n",
      "(20000,)\n",
      "(20000, 1500)\n",
      "(20000,)\n",
      "[1. 2. 3. 4. 5. 6. 7. 8.]\n",
      "[1. 2. 3. 4. 5. 6. 7. 8.]\n"
     ]
    }
   ],
   "source": [
    "# trainとtestのxyzを２次元配列にする\n",
    "train_xyz_random_reshape = train_xyz_random.reshape(train_xyz_random.shape[0], -1)\n",
    "test_xyz_reshape = test_xyz.reshape(test_xyz.shape[0], -1)\n",
    "print(train_xyz_random_reshape.shape)\n",
    "print(train_label_random.shape)\n",
    "print(test_xyz_reshape.shape)\n",
    "print(test_label.shape)\n",
    "print(np.unique(train_label_random))\n",
    "print(np.unique(test_label))"
   ]
  },
  {
   "cell_type": "markdown",
   "metadata": {},
   "source": [
    "# 学習  \n",
    "アンサンブル学習"
   ]
  },
  {
   "cell_type": "code",
   "execution_count": 20,
   "metadata": {},
   "outputs": [
    {
     "name": "stderr",
     "output_type": "stream",
     "text": [
      "c:\\Users\\kaiha\\anaconda3\\envs\\labo_Okita\\lib\\site-packages\\imblearn\\ensemble\\_forest.py:601: FutureWarning: The default of `bootstrap` will change from `True` to `False` in version 0.13. This change will follow the implementation proposed in the original paper. Set to `False` to silence this warning and adopt the future behaviour.\n",
      "  warn(\n",
      "[Parallel(n_jobs=8)]: Using backend ThreadingBackend with 8 concurrent workers.\n",
      "[Parallel(n_jobs=8)]: Done  34 tasks      | elapsed:    4.3s\n",
      "[Parallel(n_jobs=8)]: Done 184 tasks      | elapsed:   21.9s\n",
      "[Parallel(n_jobs=8)]: Done 434 tasks      | elapsed:   54.1s\n",
      "[Parallel(n_jobs=8)]: Done 784 tasks      | elapsed:  1.7min\n",
      "[Parallel(n_jobs=8)]: Done 1234 tasks      | elapsed:  2.6min\n",
      "[Parallel(n_jobs=8)]: Done 1784 tasks      | elapsed:  3.8min\n",
      "[Parallel(n_jobs=8)]: Done 2000 out of 2000 | elapsed:  4.2min finished\n"
     ]
    },
    {
     "data": {
      "text/html": [
       "<style>#sk-container-id-1 {color: black;}#sk-container-id-1 pre{padding: 0;}#sk-container-id-1 div.sk-toggleable {background-color: white;}#sk-container-id-1 label.sk-toggleable__label {cursor: pointer;display: block;width: 100%;margin-bottom: 0;padding: 0.3em;box-sizing: border-box;text-align: center;}#sk-container-id-1 label.sk-toggleable__label-arrow:before {content: \"▸\";float: left;margin-right: 0.25em;color: #696969;}#sk-container-id-1 label.sk-toggleable__label-arrow:hover:before {color: black;}#sk-container-id-1 div.sk-estimator:hover label.sk-toggleable__label-arrow:before {color: black;}#sk-container-id-1 div.sk-toggleable__content {max-height: 0;max-width: 0;overflow: hidden;text-align: left;background-color: #f0f8ff;}#sk-container-id-1 div.sk-toggleable__content pre {margin: 0.2em;color: black;border-radius: 0.25em;background-color: #f0f8ff;}#sk-container-id-1 input.sk-toggleable__control:checked~div.sk-toggleable__content {max-height: 200px;max-width: 100%;overflow: auto;}#sk-container-id-1 input.sk-toggleable__control:checked~label.sk-toggleable__label-arrow:before {content: \"▾\";}#sk-container-id-1 div.sk-estimator input.sk-toggleable__control:checked~label.sk-toggleable__label {background-color: #d4ebff;}#sk-container-id-1 div.sk-label input.sk-toggleable__control:checked~label.sk-toggleable__label {background-color: #d4ebff;}#sk-container-id-1 input.sk-hidden--visually {border: 0;clip: rect(1px 1px 1px 1px);clip: rect(1px, 1px, 1px, 1px);height: 1px;margin: -1px;overflow: hidden;padding: 0;position: absolute;width: 1px;}#sk-container-id-1 div.sk-estimator {font-family: monospace;background-color: #f0f8ff;border: 1px dotted black;border-radius: 0.25em;box-sizing: border-box;margin-bottom: 0.5em;}#sk-container-id-1 div.sk-estimator:hover {background-color: #d4ebff;}#sk-container-id-1 div.sk-parallel-item::after {content: \"\";width: 100%;border-bottom: 1px solid gray;flex-grow: 1;}#sk-container-id-1 div.sk-label:hover label.sk-toggleable__label {background-color: #d4ebff;}#sk-container-id-1 div.sk-serial::before {content: \"\";position: absolute;border-left: 1px solid gray;box-sizing: border-box;top: 0;bottom: 0;left: 50%;z-index: 0;}#sk-container-id-1 div.sk-serial {display: flex;flex-direction: column;align-items: center;background-color: white;padding-right: 0.2em;padding-left: 0.2em;position: relative;}#sk-container-id-1 div.sk-item {position: relative;z-index: 1;}#sk-container-id-1 div.sk-parallel {display: flex;align-items: stretch;justify-content: center;background-color: white;position: relative;}#sk-container-id-1 div.sk-item::before, #sk-container-id-1 div.sk-parallel-item::before {content: \"\";position: absolute;border-left: 1px solid gray;box-sizing: border-box;top: 0;bottom: 0;left: 50%;z-index: -1;}#sk-container-id-1 div.sk-parallel-item {display: flex;flex-direction: column;z-index: 1;position: relative;background-color: white;}#sk-container-id-1 div.sk-parallel-item:first-child::after {align-self: flex-end;width: 50%;}#sk-container-id-1 div.sk-parallel-item:last-child::after {align-self: flex-start;width: 50%;}#sk-container-id-1 div.sk-parallel-item:only-child::after {width: 0;}#sk-container-id-1 div.sk-dashed-wrapped {border: 1px dashed gray;margin: 0 0.4em 0.5em 0.4em;box-sizing: border-box;padding-bottom: 0.4em;background-color: white;}#sk-container-id-1 div.sk-label label {font-family: monospace;font-weight: bold;display: inline-block;line-height: 1.2em;}#sk-container-id-1 div.sk-label-container {text-align: center;}#sk-container-id-1 div.sk-container {/* jupyter's `normalize.less` sets `[hidden] { display: none; }` but bootstrap.min.css set `[hidden] { display: none !important; }` so we also need the `!important` here to be able to override the default hidden behavior on the sphinx rendered scikit-learn.org. See: https://github.com/scikit-learn/scikit-learn/issues/21755 */display: inline-block !important;position: relative;}#sk-container-id-1 div.sk-text-repr-fallback {display: none;}</style><div id=\"sk-container-id-1\" class=\"sk-top-container\"><div class=\"sk-text-repr-fallback\"><pre>BalancedRandomForestClassifier(n_estimators=2000, n_jobs=8, oob_score=True,\n",
       "                               random_state=42, replacement=True,\n",
       "                               sampling_strategy=&#x27;not minority&#x27;, verbose=1)</pre><b>In a Jupyter environment, please rerun this cell to show the HTML representation or trust the notebook. <br />On GitHub, the HTML representation is unable to render, please try loading this page with nbviewer.org.</b></div><div class=\"sk-container\" hidden><div class=\"sk-item\"><div class=\"sk-estimator sk-toggleable\"><input class=\"sk-toggleable__control sk-hidden--visually\" id=\"sk-estimator-id-1\" type=\"checkbox\" checked><label for=\"sk-estimator-id-1\" class=\"sk-toggleable__label sk-toggleable__label-arrow\">BalancedRandomForestClassifier</label><div class=\"sk-toggleable__content\"><pre>BalancedRandomForestClassifier(n_estimators=2000, n_jobs=8, oob_score=True,\n",
       "                               random_state=42, replacement=True,\n",
       "                               sampling_strategy=&#x27;not minority&#x27;, verbose=1)</pre></div></div></div></div></div>"
      ],
      "text/plain": [
       "BalancedRandomForestClassifier(n_estimators=2000, n_jobs=8, oob_score=True,\n",
       "                               random_state=42, replacement=True,\n",
       "                               sampling_strategy='not minority', verbose=1)"
      ]
     },
     "execution_count": 20,
     "metadata": {},
     "output_type": "execute_result"
    }
   ],
   "source": [
    "clf = BalancedRandomForestClassifier(\n",
    "    n_estimators=2000,\n",
    "    replacement=True,\n",
    "    sampling_strategy='not minority',\n",
    "    oob_score=True,\n",
    "    n_jobs=6,\n",
    "    random_state=42,\n",
    "    verbose=1\n",
    ")\n",
    "clf.fit(train_xyz_random_reshape, train_label_random)\n",
    "#clf.fit(sampled_x_random,sampled_label_random) # 訓練データを使ってまずランダムフォレストを学習している。"
   ]
  },
  {
   "cell_type": "code",
   "execution_count": 21,
   "metadata": {},
   "outputs": [
    {
     "name": "stderr",
     "output_type": "stream",
     "text": [
      "[Parallel(n_jobs=8)]: Using backend ThreadingBackend with 8 concurrent workers.\n",
      "[Parallel(n_jobs=8)]: Done  34 tasks      | elapsed:    0.0s\n",
      "[Parallel(n_jobs=8)]: Done 184 tasks      | elapsed:    0.3s\n",
      "[Parallel(n_jobs=8)]: Done 434 tasks      | elapsed:    0.8s\n",
      "[Parallel(n_jobs=8)]: Done 784 tasks      | elapsed:    1.4s\n",
      "[Parallel(n_jobs=8)]: Done 1234 tasks      | elapsed:    2.3s\n",
      "[Parallel(n_jobs=8)]: Done 1784 tasks      | elapsed:    3.3s\n"
     ]
    },
    {
     "name": "stdout",
     "output_type": "stream",
     "text": [
      "\n",
      "Classifier performance\n",
      "Out of sample:\n",
      "               precision    recall  f1-score   support\n",
      "\n",
      "         1.0       0.40      0.27      0.32      3315\n",
      "         2.0       0.73      0.64      0.68      2489\n",
      "         3.0       0.62      0.99      0.76       944\n",
      "         4.0       0.72      0.77      0.74      2766\n",
      "         5.0       0.46      0.43      0.45      2419\n",
      "         6.0       0.23      0.33      0.27      2637\n",
      "         7.0       0.27      0.20      0.23      3612\n",
      "         8.0       0.12      0.17      0.14      1818\n",
      "\n",
      "    accuracy                           0.42     20000\n",
      "   macro avg       0.44      0.47      0.45     20000\n",
      "weighted avg       0.43      0.42      0.42     20000\n",
      "\n"
     ]
    },
    {
     "name": "stderr",
     "output_type": "stream",
     "text": [
      "[Parallel(n_jobs=8)]: Done 2000 out of 2000 | elapsed:    3.7s finished\n"
     ]
    }
   ],
   "source": [
    "Y_test_pred = clf.predict(test_xyz_reshape) # 学習器の性能をみる テストデータで\n",
    "print('\\nClassifier performance')\n",
    "print('Out of sample:\\n', metrics.classification_report(test_label, Y_test_pred, zero_division=0))"
   ]
  },
  {
   "cell_type": "markdown",
   "metadata": {},
   "source": [
    "# スムージングも試してみる"
   ]
  },
  {
   "cell_type": "code",
   "execution_count": 22,
   "metadata": {},
   "outputs": [],
   "source": [
    "import scipy.stats as stats\n",
    "\n",
    "def mode(alist):\n",
    "    m,c = stats.mode(alist) # mは最頻値、cは最頻値の出現回数\n",
    "    m,c = m.item(), c.item()\n",
    "    if c == 1:\n",
    "        return alist[len(alist)//2] # つまり最頻値が決められない場合真ん中の値をとるということ\n",
    "    return m\n",
    "\n",
    "def rolling_mode(y, window_size=1500): # ラベルy\n",
    "    y_dtype_origin = y.dtype\n",
    "    y = pd.Series(y, dtype='category')\n",
    "\n",
    "    y_code_smooth = y.cat.codes.rolling(window_size).apply(mode,raw=True)\n",
    "\n",
    "    #NaNを元の値で埋める\n",
    "    y_code_smooth = y_code_smooth.fillna(y.cat.codes)\n",
    "\n",
    "    # intに変換\n",
    "    y_code_smooth = y_code_smooth.astype('int')\n",
    "    \n",
    "    y_smooth = pd.Categorical.from_codes(y_code_smooth, dtype=y.dtype)\n",
    "    y_smooth = np.asarray(y_smooth, dtype=y_dtype_origin)\n",
    "    return y_smooth"
   ]
  },
  {
   "cell_type": "code",
   "execution_count": 35,
   "metadata": {},
   "outputs": [],
   "source": [
    "Y_test_pred_smooth = []\n",
    "Y_test_pred_smooth.append(rolling_mode(Y_test_pred,window_size=20))\n",
    "Y_test_pred_smooth = np.concatenate(Y_test_pred_smooth)"
   ]
  },
  {
   "cell_type": "markdown",
   "metadata": {},
   "source": [
    "以下は最頻値を使ったスムージングを行った例"
   ]
  },
  {
   "cell_type": "code",
   "execution_count": 36,
   "metadata": {},
   "outputs": [
    {
     "name": "stdout",
     "output_type": "stream",
     "text": [
      "\n",
      "Classifier performance -- mode smoothing\n",
      "Out of sample:\n",
      "               precision    recall  f1-score   support\n",
      "\n",
      "         1.0       0.40      0.27      0.32      3315\n",
      "         2.0       0.73      0.64      0.68      2489\n",
      "         3.0       0.62      0.99      0.76       944\n",
      "         4.0       0.72      0.77      0.74      2766\n",
      "         5.0       0.46      0.43      0.45      2419\n",
      "         6.0       0.23      0.33      0.27      2637\n",
      "         7.0       0.27      0.20      0.23      3612\n",
      "         8.0       0.12      0.17      0.14      1818\n",
      "\n",
      "    accuracy                           0.42     20000\n",
      "   macro avg       0.44      0.47      0.45     20000\n",
      "weighted avg       0.43      0.42      0.42     20000\n",
      "\n",
      "Out of sample:\n",
      "               precision    recall  f1-score   support\n",
      "\n",
      "         1.0       0.48      0.28      0.35      3315\n",
      "         2.0       0.85      0.72      0.78      2489\n",
      "         3.0       0.69      0.95      0.80       944\n",
      "         4.0       0.79      0.86      0.82      2766\n",
      "         5.0       0.52      0.53      0.52      2419\n",
      "         6.0       0.23      0.35      0.28      2637\n",
      "         7.0       0.29      0.19      0.23      3612\n",
      "         8.0       0.13      0.18      0.15      1818\n",
      "\n",
      "    accuracy                           0.46     20000\n",
      "   macro avg       0.50      0.51      0.49     20000\n",
      "weighted avg       0.48      0.46      0.46     20000\n",
      "\n"
     ]
    }
   ],
   "source": [
    "print('\\nClassifier performance -- mode smoothing')\n",
    "print('Out of sample:\\n', metrics.classification_report(test_label, Y_test_pred))\n",
    "print('Out of sample:\\n', metrics.classification_report(test_label, Y_test_pred_smooth))"
   ]
  },
  {
   "cell_type": "markdown",
   "metadata": {},
   "source": [
    "# 以下は訓練データの量を２倍にして学習"
   ]
  },
  {
   "cell_type": "code",
   "execution_count": 38,
   "metadata": {},
   "outputs": [],
   "source": [
    "# trainをランダムに40000個サンプリングする\n",
    "sample_size = 40000\n",
    "indices = np.random.choice(train_xyz.shape[0], sample_size, replace=False)\n",
    "train_xyz_random = train_xyz[indices]\n",
    "train_label_random = train_label[indices]"
   ]
  },
  {
   "cell_type": "code",
   "execution_count": 39,
   "metadata": {},
   "outputs": [
    {
     "name": "stdout",
     "output_type": "stream",
     "text": [
      "(40000, 3, 500)\n",
      "(40000,)\n",
      "(20000, 3, 500)\n",
      "(20000,)\n"
     ]
    }
   ],
   "source": [
    "print(train_xyz_random.shape)\n",
    "print(train_label_random.shape)\n",
    "print(test_xyz.shape)\n",
    "print(test_label.shape)"
   ]
  },
  {
   "cell_type": "code",
   "execution_count": 40,
   "metadata": {},
   "outputs": [
    {
     "name": "stdout",
     "output_type": "stream",
     "text": [
      "(40000, 1500)\n",
      "(40000,)\n",
      "(20000, 1500)\n",
      "(20000,)\n",
      "[1. 2. 3. 4. 5. 6. 7. 8.]\n",
      "[1. 2. 3. 4. 5. 6. 7. 8.]\n"
     ]
    }
   ],
   "source": [
    "# trainとtestのxyzを２次元配列にする\n",
    "train_xyz_random_reshape = train_xyz_random.reshape(train_xyz_random.shape[0], -1)\n",
    "test_xyz_reshape = test_xyz.reshape(test_xyz.shape[0], -1)\n",
    "print(train_xyz_random_reshape.shape)\n",
    "print(train_label_random.shape)\n",
    "print(test_xyz_reshape.shape)\n",
    "print(test_label.shape)\n",
    "print(np.unique(train_label_random))\n",
    "print(np.unique(test_label))"
   ]
  },
  {
   "cell_type": "markdown",
   "metadata": {},
   "source": [
    "# 学習\n",
    "アンサンブル学習訓練データ40000データで学習"
   ]
  },
  {
   "cell_type": "code",
   "execution_count": 41,
   "metadata": {},
   "outputs": [
    {
     "name": "stderr",
     "output_type": "stream",
     "text": [
      "c:\\Users\\kaiha\\anaconda3\\envs\\labo_Okita\\lib\\site-packages\\imblearn\\ensemble\\_forest.py:601: FutureWarning: The default of `bootstrap` will change from `True` to `False` in version 0.13. This change will follow the implementation proposed in the original paper. Set to `False` to silence this warning and adopt the future behaviour.\n",
      "  warn(\n",
      "[Parallel(n_jobs=6)]: Using backend ThreadingBackend with 6 concurrent workers.\n",
      "[Parallel(n_jobs=6)]: Done  38 tasks      | elapsed:   12.7s\n",
      "[Parallel(n_jobs=6)]: Done 188 tasks      | elapsed:   57.2s\n",
      "[Parallel(n_jobs=6)]: Done 438 tasks      | elapsed:  2.2min\n",
      "[Parallel(n_jobs=6)]: Done 788 tasks      | elapsed:  3.9min\n",
      "[Parallel(n_jobs=6)]: Done 1238 tasks      | elapsed:  6.2min\n",
      "[Parallel(n_jobs=6)]: Done 1788 tasks      | elapsed:  9.0min\n",
      "[Parallel(n_jobs=6)]: Done 2000 out of 2000 | elapsed: 10.1min finished\n"
     ]
    },
    {
     "data": {
      "text/html": [
       "<style>#sk-container-id-2 {color: black;}#sk-container-id-2 pre{padding: 0;}#sk-container-id-2 div.sk-toggleable {background-color: white;}#sk-container-id-2 label.sk-toggleable__label {cursor: pointer;display: block;width: 100%;margin-bottom: 0;padding: 0.3em;box-sizing: border-box;text-align: center;}#sk-container-id-2 label.sk-toggleable__label-arrow:before {content: \"▸\";float: left;margin-right: 0.25em;color: #696969;}#sk-container-id-2 label.sk-toggleable__label-arrow:hover:before {color: black;}#sk-container-id-2 div.sk-estimator:hover label.sk-toggleable__label-arrow:before {color: black;}#sk-container-id-2 div.sk-toggleable__content {max-height: 0;max-width: 0;overflow: hidden;text-align: left;background-color: #f0f8ff;}#sk-container-id-2 div.sk-toggleable__content pre {margin: 0.2em;color: black;border-radius: 0.25em;background-color: #f0f8ff;}#sk-container-id-2 input.sk-toggleable__control:checked~div.sk-toggleable__content {max-height: 200px;max-width: 100%;overflow: auto;}#sk-container-id-2 input.sk-toggleable__control:checked~label.sk-toggleable__label-arrow:before {content: \"▾\";}#sk-container-id-2 div.sk-estimator input.sk-toggleable__control:checked~label.sk-toggleable__label {background-color: #d4ebff;}#sk-container-id-2 div.sk-label input.sk-toggleable__control:checked~label.sk-toggleable__label {background-color: #d4ebff;}#sk-container-id-2 input.sk-hidden--visually {border: 0;clip: rect(1px 1px 1px 1px);clip: rect(1px, 1px, 1px, 1px);height: 1px;margin: -1px;overflow: hidden;padding: 0;position: absolute;width: 1px;}#sk-container-id-2 div.sk-estimator {font-family: monospace;background-color: #f0f8ff;border: 1px dotted black;border-radius: 0.25em;box-sizing: border-box;margin-bottom: 0.5em;}#sk-container-id-2 div.sk-estimator:hover {background-color: #d4ebff;}#sk-container-id-2 div.sk-parallel-item::after {content: \"\";width: 100%;border-bottom: 1px solid gray;flex-grow: 1;}#sk-container-id-2 div.sk-label:hover label.sk-toggleable__label {background-color: #d4ebff;}#sk-container-id-2 div.sk-serial::before {content: \"\";position: absolute;border-left: 1px solid gray;box-sizing: border-box;top: 0;bottom: 0;left: 50%;z-index: 0;}#sk-container-id-2 div.sk-serial {display: flex;flex-direction: column;align-items: center;background-color: white;padding-right: 0.2em;padding-left: 0.2em;position: relative;}#sk-container-id-2 div.sk-item {position: relative;z-index: 1;}#sk-container-id-2 div.sk-parallel {display: flex;align-items: stretch;justify-content: center;background-color: white;position: relative;}#sk-container-id-2 div.sk-item::before, #sk-container-id-2 div.sk-parallel-item::before {content: \"\";position: absolute;border-left: 1px solid gray;box-sizing: border-box;top: 0;bottom: 0;left: 50%;z-index: -1;}#sk-container-id-2 div.sk-parallel-item {display: flex;flex-direction: column;z-index: 1;position: relative;background-color: white;}#sk-container-id-2 div.sk-parallel-item:first-child::after {align-self: flex-end;width: 50%;}#sk-container-id-2 div.sk-parallel-item:last-child::after {align-self: flex-start;width: 50%;}#sk-container-id-2 div.sk-parallel-item:only-child::after {width: 0;}#sk-container-id-2 div.sk-dashed-wrapped {border: 1px dashed gray;margin: 0 0.4em 0.5em 0.4em;box-sizing: border-box;padding-bottom: 0.4em;background-color: white;}#sk-container-id-2 div.sk-label label {font-family: monospace;font-weight: bold;display: inline-block;line-height: 1.2em;}#sk-container-id-2 div.sk-label-container {text-align: center;}#sk-container-id-2 div.sk-container {/* jupyter's `normalize.less` sets `[hidden] { display: none; }` but bootstrap.min.css set `[hidden] { display: none !important; }` so we also need the `!important` here to be able to override the default hidden behavior on the sphinx rendered scikit-learn.org. See: https://github.com/scikit-learn/scikit-learn/issues/21755 */display: inline-block !important;position: relative;}#sk-container-id-2 div.sk-text-repr-fallback {display: none;}</style><div id=\"sk-container-id-2\" class=\"sk-top-container\"><div class=\"sk-text-repr-fallback\"><pre>BalancedRandomForestClassifier(n_estimators=2000, n_jobs=6, oob_score=True,\n",
       "                               random_state=42, replacement=True,\n",
       "                               sampling_strategy=&#x27;not minority&#x27;, verbose=1)</pre><b>In a Jupyter environment, please rerun this cell to show the HTML representation or trust the notebook. <br />On GitHub, the HTML representation is unable to render, please try loading this page with nbviewer.org.</b></div><div class=\"sk-container\" hidden><div class=\"sk-item\"><div class=\"sk-estimator sk-toggleable\"><input class=\"sk-toggleable__control sk-hidden--visually\" id=\"sk-estimator-id-2\" type=\"checkbox\" checked><label for=\"sk-estimator-id-2\" class=\"sk-toggleable__label sk-toggleable__label-arrow\">BalancedRandomForestClassifier</label><div class=\"sk-toggleable__content\"><pre>BalancedRandomForestClassifier(n_estimators=2000, n_jobs=6, oob_score=True,\n",
       "                               random_state=42, replacement=True,\n",
       "                               sampling_strategy=&#x27;not minority&#x27;, verbose=1)</pre></div></div></div></div></div>"
      ],
      "text/plain": [
       "BalancedRandomForestClassifier(n_estimators=2000, n_jobs=6, oob_score=True,\n",
       "                               random_state=42, replacement=True,\n",
       "                               sampling_strategy='not minority', verbose=1)"
      ]
     },
     "execution_count": 41,
     "metadata": {},
     "output_type": "execute_result"
    }
   ],
   "source": [
    "clf = BalancedRandomForestClassifier(\n",
    "    n_estimators=2000,\n",
    "    replacement=True,\n",
    "    sampling_strategy='not minority',\n",
    "    oob_score=True,\n",
    "    n_jobs=6,\n",
    "    random_state=42,\n",
    "    verbose=1\n",
    ")\n",
    "clf.fit(train_xyz_random_reshape, train_label_random)\n",
    "#clf.fit(sampled_x_random,sampled_label_random) # 訓練データを使ってまずランダムフォレストを学習している。"
   ]
  },
  {
   "cell_type": "code",
   "execution_count": 42,
   "metadata": {},
   "outputs": [
    {
     "name": "stderr",
     "output_type": "stream",
     "text": [
      "[Parallel(n_jobs=6)]: Using backend ThreadingBackend with 6 concurrent workers.\n",
      "[Parallel(n_jobs=6)]: Done  38 tasks      | elapsed:    0.0s\n",
      "[Parallel(n_jobs=6)]: Done 188 tasks      | elapsed:    0.4s\n",
      "[Parallel(n_jobs=6)]: Done 438 tasks      | elapsed:    1.0s\n",
      "[Parallel(n_jobs=6)]: Done 788 tasks      | elapsed:    1.8s\n",
      "[Parallel(n_jobs=6)]: Done 1238 tasks      | elapsed:    2.9s\n",
      "[Parallel(n_jobs=6)]: Done 1788 tasks      | elapsed:    4.2s\n"
     ]
    },
    {
     "name": "stdout",
     "output_type": "stream",
     "text": [
      "\n",
      "Classifier performance\n",
      "Out of sample:\n",
      "               precision    recall  f1-score   support\n",
      "\n",
      "         1.0       0.34      0.23      0.28      3315\n",
      "         2.0       0.76      0.69      0.72      2489\n",
      "         3.0       0.73      0.99      0.84       944\n",
      "         4.0       0.76      0.83      0.79      2766\n",
      "         5.0       0.50      0.45      0.47      2419\n",
      "         6.0       0.26      0.39      0.31      2637\n",
      "         7.0       0.28      0.20      0.23      3612\n",
      "         8.0       0.13      0.18      0.15      1818\n",
      "\n",
      "    accuracy                           0.44     20000\n",
      "   macro avg       0.47      0.49      0.47     20000\n",
      "weighted avg       0.45      0.44      0.44     20000\n",
      "\n"
     ]
    },
    {
     "name": "stderr",
     "output_type": "stream",
     "text": [
      "[Parallel(n_jobs=6)]: Done 2000 out of 2000 | elapsed:    4.7s finished\n"
     ]
    }
   ],
   "source": [
    "Y_test_pred = clf.predict(test_xyz_reshape) # 学習器の性能をみる テストデータで\n",
    "print('\\nClassifier performance')\n",
    "print('Out of sample:\\n', metrics.classification_report(test_label, Y_test_pred, zero_division=0))"
   ]
  },
  {
   "cell_type": "code",
   "execution_count": 43,
   "metadata": {},
   "outputs": [],
   "source": [
    "Y_test_pred_smooth = []\n",
    "Y_test_pred_smooth.append(rolling_mode(Y_test_pred,window_size=20))\n",
    "Y_test_pred_smooth = np.concatenate(Y_test_pred_smooth)"
   ]
  },
  {
   "cell_type": "markdown",
   "metadata": {},
   "source": [
    "同じくスムージング"
   ]
  },
  {
   "cell_type": "code",
   "execution_count": 44,
   "metadata": {},
   "outputs": [
    {
     "name": "stdout",
     "output_type": "stream",
     "text": [
      "\n",
      "Classifier performance -- mode smoothing\n",
      "Out of sample:\n",
      "               precision    recall  f1-score   support\n",
      "\n",
      "         1.0       0.34      0.23      0.28      3315\n",
      "         2.0       0.76      0.69      0.72      2489\n",
      "         3.0       0.73      0.99      0.84       944\n",
      "         4.0       0.76      0.83      0.79      2766\n",
      "         5.0       0.50      0.45      0.47      2419\n",
      "         6.0       0.26      0.39      0.31      2637\n",
      "         7.0       0.28      0.20      0.23      3612\n",
      "         8.0       0.13      0.18      0.15      1818\n",
      "\n",
      "    accuracy                           0.44     20000\n",
      "   macro avg       0.47      0.49      0.47     20000\n",
      "weighted avg       0.45      0.44      0.44     20000\n",
      "\n",
      "Out of sample:\n",
      "               precision    recall  f1-score   support\n",
      "\n",
      "         1.0       0.40      0.26      0.31      3315\n",
      "         2.0       0.85      0.75      0.80      2489\n",
      "         3.0       0.85      0.95      0.90       944\n",
      "         4.0       0.83      0.92      0.87      2766\n",
      "         5.0       0.56      0.56      0.56      2419\n",
      "         6.0       0.27      0.43      0.33      2637\n",
      "         7.0       0.30      0.21      0.25      3612\n",
      "         8.0       0.12      0.16      0.14      1818\n",
      "\n",
      "    accuracy                           0.49     20000\n",
      "   macro avg       0.52      0.53      0.52     20000\n",
      "weighted avg       0.50      0.49      0.48     20000\n",
      "\n"
     ]
    }
   ],
   "source": [
    "print('\\nClassifier performance -- mode smoothing')\n",
    "print('Out of sample:\\n', metrics.classification_report(test_label, Y_test_pred))\n",
    "print('Out of sample:\\n', metrics.classification_report(test_label, Y_test_pred_smooth))"
   ]
  },
  {
   "cell_type": "code",
   "execution_count": null,
   "metadata": {},
   "outputs": [],
   "source": []
  }
 ],
 "metadata": {
  "kernelspec": {
   "display_name": "labo_Okita",
   "language": "python",
   "name": "python3"
  },
  "language_info": {
   "codemirror_mode": {
    "name": "ipython",
    "version": 3
   },
   "file_extension": ".py",
   "mimetype": "text/x-python",
   "name": "python",
   "nbconvert_exporter": "python",
   "pygments_lexer": "ipython3",
   "version": "3.10.14"
  }
 },
 "nbformat": 4,
 "nbformat_minor": 2
}
