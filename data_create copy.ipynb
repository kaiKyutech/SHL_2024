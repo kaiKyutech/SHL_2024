{
 "cells": [
  {
   "cell_type": "code",
   "execution_count": 2,
   "metadata": {},
   "outputs": [
    {
     "name": "stdout",
     "output_type": "stream",
     "text": [
      "Shape of the data: (196072, 500)\n"
     ]
    }
   ],
   "source": [
    "import numpy as np\n",
    "\n",
    "# ファイルからデータを読み込む関数\n",
    "def load_fixed_width_file(file_path):\n",
    "    data = np.loadtxt(file_path)\n",
    "    return data\n",
    "\n",
    "# ファイルパスを指定\n",
    "acc_x_path = 'Acc_x.txt'\n",
    "\n",
    "# データの読み込み\n",
    "acc_x_data = load_fixed_width_file(acc_x_path)\n",
    "\n",
    "# データの形状を表示\n",
    "print(\"Shape of the data:\", acc_x_data.shape)\n"
   ]
  },
  {
   "cell_type": "code",
   "execution_count": 3,
   "metadata": {},
   "outputs": [
    {
     "name": "stdout",
     "output_type": "stream",
     "text": [
      "Shape of the data: (196072, 500)\n"
     ]
    }
   ],
   "source": [
    "# ファイルパスを指定\n",
    "acc_label_path = 'Label.txt'\n",
    "\n",
    "# データの読み込み\n",
    "acc_label_data = load_fixed_width_file(acc_label_path)\n",
    "\n",
    "# データの形状を表示\n",
    "print(\"Shape of the data:\", acc_label_data.shape)\n"
   ]
  },
  {
   "cell_type": "code",
   "execution_count": 4,
   "metadata": {},
   "outputs": [],
   "source": [
    "x = acc_x_data\n",
    "label = acc_label_data\n"
   ]
  },
  {
   "cell_type": "code",
   "execution_count": 32,
   "metadata": {},
   "outputs": [],
   "source": [
    "#20000行に減らす。時系列に最初からのものをとってくる。\n",
    "start = 0\n",
    "num_samples = 20000\n",
    "if x.shape[0] >= num_samples:\n",
    "    x_20000 = x[start:start+num_samples]\n",
    "    label_20000 = label[start:start+num_samples]\n",
    "else:\n",
    "    print(\"データセットが足りないので20000行データを作成できませんでした\")"
   ]
  },
  {
   "cell_type": "code",
   "execution_count": 33,
   "metadata": {},
   "outputs": [
    {
     "name": "stdout",
     "output_type": "stream",
     "text": [
      "(20000, 500)\n",
      "(20000, 500)\n"
     ]
    }
   ],
   "source": [
    "print(x_20000.shape)\n",
    "print(label_20000.shape)"
   ]
  },
  {
   "cell_type": "markdown",
   "metadata": {},
   "source": [
    "ラベルデータを最頻値で次元削減 500->1  \n",
    "注意 データ数が少ないと偏りが出てしまう。これがどんな影響をもたらすかわからない。  \n",
    "なので最初は文脈データとして学習するのはやめておく。オックスフォードの方法を先にやってみる。"
   ]
  },
  {
   "cell_type": "code",
   "execution_count": 34,
   "metadata": {},
   "outputs": [],
   "source": [
    "from scipy.stats import mode\n",
    "label_reco = mode(label_20000, axis=1).mode.flatten()"
   ]
  },
  {
   "cell_type": "code",
   "execution_count": 35,
   "metadata": {},
   "outputs": [
    {
     "name": "stdout",
     "output_type": "stream",
     "text": [
      "7.0    5265\n",
      "8.0    4026\n",
      "6.0    2595\n",
      "4.0    2563\n",
      "1.0    2419\n",
      "2.0    2175\n",
      "3.0     957\n",
      "Name: count, dtype: int64\n"
     ]
    }
   ],
   "source": [
    "import pandas as pd\n",
    "print(pd.Series(label_reco).value_counts())"
   ]
  },
  {
   "cell_type": "code",
   "execution_count": 36,
   "metadata": {},
   "outputs": [
    {
     "name": "stdout",
     "output_type": "stream",
     "text": [
      "(20000, 500)\n",
      "(20000,)\n"
     ]
    }
   ],
   "source": [
    "print(x_20000.shape)\n",
    "print(label_reco.shape)"
   ]
  },
  {
   "cell_type": "code",
   "execution_count": null,
   "metadata": {},
   "outputs": [],
   "source": []
  }
 ],
 "metadata": {
  "kernelspec": {
   "display_name": "labo_Okita",
   "language": "python",
   "name": "python3"
  },
  "language_info": {
   "codemirror_mode": {
    "name": "ipython",
    "version": 3
   },
   "file_extension": ".py",
   "mimetype": "text/x-python",
   "name": "python",
   "nbconvert_exporter": "python",
   "pygments_lexer": "ipython3",
   "version": "3.10.14"
  }
 },
 "nbformat": 4,
 "nbformat_minor": 2
}
